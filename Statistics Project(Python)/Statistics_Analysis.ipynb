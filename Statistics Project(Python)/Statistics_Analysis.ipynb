{
 "cells": [
  {
   "cell_type": "markdown",
   "id": "f728e56f",
   "metadata": {},
   "source": [
    "# 🧪 NYC Yellow Taxi Fare Statistical Analysis\n",
    "This notebook performs statistical analysis on NYC Yellow Taxi data to determine if there's a significant difference in average fare based on payment type (`Card` vs `Cash`)."
   ]
  },
  {
   "cell_type": "markdown",
   "id": "4985361d",
   "metadata": {},
   "source": [
    "## 📥 Importing Libraries and Dataset"
   ]
  },
  {
   "cell_type": "code",
   "execution_count": null,
   "id": "5389d143",
   "metadata": {},
   "outputs": [],
   "source": [
    "import pandas as pd\n",
    "import numpy as np\n",
    "import matplotlib.pyplot as plt\n",
    "import seaborn as sns\n",
    "from scipy import stats\n",
    "import warnings\n",
    "warnings.filterwarnings('ignore')"
   ]
  },
  {
   "cell_type": "code",
   "execution_count": null,
   "id": "20197fa0",
   "metadata": {},
   "outputs": [],
   "source": [
    "# Load dataset (update the path as per your local setup)\n",
    "df = pd.read_csv('yellow_tripdata_2020-01.csv')\n",
    "df.head()"
   ]
  },
  {
   "cell_type": "markdown",
   "id": "d5cc80ed",
   "metadata": {},
   "source": [
    "## 🧹 Data Preprocessing"
   ]
  },
  {
   "cell_type": "code",
   "execution_count": null,
   "id": "ceb5fb1d",
   "metadata": {},
   "outputs": [],
   "source": [
    "# Convert datetime columns\n",
    "df['tpep_pickup_datetime'] = pd.to_datetime(df['tpep_pickup_datetime'])\n",
    "df['tpep_dropoff_datetime'] = pd.to_datetime(df['tpep_dropoff_datetime'])"
   ]
  },
  {
   "cell_type": "code",
   "execution_count": null,
   "id": "4e01b727",
   "metadata": {},
   "outputs": [],
   "source": [
    "# Calculate duration in minutes\n",
    "df['Duration'] = (df['tpep_dropoff_datetime'] - df['tpep_pickup_datetime']).dt.total_seconds() / 60"
   ]
  },
  {
   "cell_type": "code",
   "execution_count": null,
   "id": "928b5265",
   "metadata": {},
   "outputs": [],
   "source": [
    "# Keep only relevant columns\n",
    "df = df[['passenger_count', 'payment_type', 'fare_amount', 'trip_distance', 'Duration']]"
   ]
  },
  {
   "cell_type": "code",
   "execution_count": null,
   "id": "6af13e90",
   "metadata": {},
   "outputs": [],
   "source": [
    "# Drop rows with null values\n",
    "df.dropna(inplace=True)"
   ]
  },
  {
   "cell_type": "code",
   "execution_count": null,
   "id": "0f271ce1",
   "metadata": {},
   "outputs": [],
   "source": [
    "# Convert data types\n",
    "df['passenger_count'] = df['passenger_count'].astype(int)\n",
    "df['payment_type'] = df['payment_type'].astype(int)"
   ]
  },
  {
   "cell_type": "code",
   "execution_count": null,
   "id": "99c0501d",
   "metadata": {},
   "outputs": [],
   "source": [
    "# Remove duplicates\n",
    "df = df.drop_duplicates()"
   ]
  },
  {
   "cell_type": "code",
   "execution_count": null,
   "id": "3196456c",
   "metadata": {},
   "outputs": [],
   "source": [
    "# Keep only valid payment types and passenger counts\n",
    "df = df[df['payment_type'] < 3]\n",
    "df = df[(df['passenger_count'] > 0) & (df['passenger_count'] < 6)]"
   ]
  },
  {
   "cell_type": "code",
   "execution_count": null,
   "id": "874e3fc4",
   "metadata": {},
   "outputs": [],
   "source": [
    "# Replace payment_type with labels\n",
    "df['payment_type'].replace([1, 2], ['Card', 'Cash'], inplace=True)"
   ]
  },
  {
   "cell_type": "code",
   "execution_count": null,
   "id": "4db3e21e",
   "metadata": {},
   "outputs": [],
   "source": [
    "# Remove invalid (<=0) values\n",
    "df = df[(df['fare_amount'] > 0) & (df['trip_distance'] > 0) & (df['Duration'] > 0)]"
   ]
  },
  {
   "cell_type": "markdown",
   "id": "b866a703",
   "metadata": {},
   "source": [
    "## 📊 Outlier Removal using IQR"
   ]
  },
  {
   "cell_type": "code",
   "execution_count": null,
   "id": "e30df3b7",
   "metadata": {},
   "outputs": [],
   "source": [
    "# Remove outliers using IQR method\n",
    "for col in ['fare_amount', 'trip_distance', 'Duration']:\n",
    "    q1 = df[col].quantile(0.25)\n",
    "    q3 = df[col].quantile(0.75)\n",
    "    IQR = q3 - q1\n",
    "    lower = q1 - 1.5 * IQR\n",
    "    upper = q3 + 1.5 * IQR\n",
    "    df = df[(df[col] >= lower) & (df[col] <= upper)]"
   ]
  },
  {
   "cell_type": "markdown",
   "id": "ce3a616c",
   "metadata": {},
   "source": [
    "## 📈 Visualization"
   ]
  },
  {
   "cell_type": "code",
   "execution_count": null,
   "id": "3e113574",
   "metadata": {},
   "outputs": [],
   "source": [
    "plt.figure(figsize=(12, 5))\n",
    "plt.subplot(1, 2, 1)\n",
    "plt.title(\"Payment type by fare amount\")\n",
    "plt.hist(df[df['payment_type'] == 'Card']['fare_amount'], bins=20, edgecolor='k', alpha=0.7, label='Card')\n",
    "plt.hist(df[df['payment_type'] == 'Cash']['fare_amount'], bins=20, edgecolor='k', alpha=0.7, label='Cash')\n",
    "plt.legend()\n",
    "\n",
    "plt.subplot(1, 2, 2)\n",
    "plt.title(\"Payment type by distance\")\n",
    "plt.hist(df[df['payment_type'] == 'Card']['trip_distance'], bins=20, edgecolor='k', alpha=0.7, label='Card')\n",
    "plt.hist(df[df['payment_type'] == 'Cash']['trip_distance'], bins=20, edgecolor='k', alpha=0.7, label='Cash')\n",
    "plt.legend()\n",
    "plt.tight_layout()\n",
    "plt.show()"
   ]
  },
  {
   "cell_type": "markdown",
   "id": "2d4b8621",
   "metadata": {},
   "source": [
    "## 🧪 Hypothesis Testing\n",
    "**H₀ (Null Hypothesis):** No difference in average fare between Card and Cash payments\n",
    "\n",
    "**H₁ (Alternate Hypothesis):** There is a difference in average fare"
   ]
  },
  {
   "cell_type": "code",
   "execution_count": null,
   "id": "865d5caf",
   "metadata": {},
   "outputs": [],
   "source": [
    "# Split data\n",
    "card_sample = df[df['payment_type'] == 'Card']['fare_amount']\n",
    "cash_sample = df[df['payment_type'] == 'Cash']['fare_amount']\n",
    "\n",
    "# Perform Welch's t-test\n",
    "t_stats, p_value = stats.ttest_ind(a=card_sample, b=cash_sample, equal_var=False)\n",
    "print('T-Statistic:', t_stats)\n",
    "print('P-Value:', p_value)"
   ]
  },
  {
   "cell_type": "markdown",
   "id": "19cc6967",
   "metadata": {},
   "source": [
    "## ✅ Conclusion\n",
    "Since the P-value is less than 0.05, we reject the null hypothesis.\n",
    "There is a statistically significant difference in average fare between Card and Cash payments."
   ]
  }
 ],
 "metadata": {},
 "nbformat": 4,
 "nbformat_minor": 5
}
