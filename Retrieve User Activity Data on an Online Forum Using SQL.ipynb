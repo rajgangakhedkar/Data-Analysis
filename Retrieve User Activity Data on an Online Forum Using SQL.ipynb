{
 "cells": [
  {
   "cell_type": "markdown",
   "metadata": {},
   "source": [
    "# ChatData\n",
    "\n",
    "## Sqlite\n",
    "We are using a file system called **sqlite**. It looks and acts like a real single user relational database (RDB). sqlite3 comes packaged with python. You do not need to install the library. You simply import it (as below).\n",
    "\n",
    "- We are using Pandas to write and read to sqlite. Pandas will manage a lot of the complexity of dealing with a RDB. There are other ways of reading and writing to a RDB that are VERY common and often used in production systems.  \n",
    "\n",
    "- The most common other way is to read or write to the RDB row by row. As you can see Pandas puts the entire dataframe into the RDB or extracts a new dataframe from the RDB. These are not row by row operations. These are set operations. Set operations ARE more efficient. However, it is common to use row by row operations to avoid needing large memory computers to hold the dataframes. One row only takes a few bytes. An entire dataframe could be many gigabytes and even petabytes of data. Obviously you will end up with problems with your compute resource if your files are this big. This will not happen to you in this activity and may never happen to you while you are a data analyst. Please just be aware of this. \n",
    "\n",
    "- This activity is primarily about querying a RDB, so, we are using a simple way that Pandas provides. If you want to learn the more complex way, just google 'reading and wrting to a relational database using python'. There are many resources to learn from.\n",
    "\n",
    "- The data types that sqlite supports are quite limited. for example, it does not have a DATE type.  This is not a challenge for this project. However, more sophisticated database systems,such as Postgresql, have a large array of data types, such as \"DATE\", etc. that give those systems additional capability. \n",
    "\n",
    "- All of the SQL queries could also be performed on the Pandas DataFrames directly.  You may want to try this yourself for comparison (but make sure you do the SQL queries first, as this is an exercise in using SQL!).\n",
    "\n",
    "\n",
    "## SQL Magic\n",
    "Within the Jupyter notebook we will be using something called **SQL Magic**.  This provides a convenient way to write SQL queries directly into code cells in the notebook and to read the results back into a Pandas DataFrame.  This makes working with SQL much easier!\n",
    "\n",
    "Note that you may need to update your sqlite version using `conda update -c anaconda sqlite` in order for the SQL Magic to work correctly.\n",
    "\n",
    "## The Data Analysis Lifecycle\n",
    "The sections in this notebook follow the stages of the Data Analysis Lifecycle introduced in an earlier activity.  The stages are:\n",
    "\n",
    "- Acquire\n",
    "- Transform\n",
    "- Organise\n",
    "- Analyse\n",
    "- Communicate\n",
    "- Maintain\n"
   ]
  },
  {
   "cell_type": "markdown",
   "metadata": {},
   "source": [
    "The requirements document for this project is Template SQL queries.xlsx."
   ]
  },
  {
   "cell_type": "markdown",
   "metadata": {},
   "source": [
    "# Preliminary Steps: Create a Database\n",
    "First let's import Sqlite and the other libraries we will need."
   ]
  },
  {
   "cell_type": "code",
   "execution_count": 2,
   "metadata": {},
   "outputs": [],
   "source": [
    "# Import Libraries\n",
    "import numpy as np\n",
    "import pandas as pd\n",
    "import sqlite3"
   ]
  },
  {
   "cell_type": "markdown",
   "metadata": {},
   "source": [
    "### Create the Database\n",
    "Now we will create the Sqlite database.  Here is some code that does this for you.  We use the `%load_ext` magic command to load the SQL Magic extension and then use `%sql` to connect to the database."
   ]
  },
  {
   "cell_type": "code",
   "execution_count": 3,
   "metadata": {},
   "outputs": [
    {
     "name": "stdout",
     "output_type": "stream",
     "text": [
      "Collecting ipython-sql\n",
      "  Downloading ipython_sql-0.5.0-py3-none-any.whl (20 kB)\n",
      "Collecting prettytable (from ipython-sql)\n",
      "  Obtaining dependency information for prettytable from https://files.pythonhosted.org/packages/4d/81/316b6a55a0d1f327d04cc7b0ba9d04058cb62de6c3a4d4b0df280cbe3b0b/prettytable-3.9.0-py3-none-any.whl.metadata\n",
      "  Downloading prettytable-3.9.0-py3-none-any.whl.metadata (26 kB)\n",
      "Requirement already satisfied: ipython in ./anaconda3/lib/python3.11/site-packages (from ipython-sql) (8.15.0)\n",
      "Collecting sqlalchemy>=2.0 (from ipython-sql)\n",
      "  Obtaining dependency information for sqlalchemy>=2.0 from https://files.pythonhosted.org/packages/5a/a6/95f984d3cfe22e0e8a71458468ad362a8869be7ec434d78adf4347602d5c/SQLAlchemy-2.0.22-cp311-cp311-macosx_10_9_x86_64.whl.metadata\n",
      "  Downloading SQLAlchemy-2.0.22-cp311-cp311-macosx_10_9_x86_64.whl.metadata (9.4 kB)\n",
      "Collecting sqlparse (from ipython-sql)\n",
      "  Downloading sqlparse-0.4.4-py3-none-any.whl (41 kB)\n",
      "\u001b[2K     \u001b[90m━━━━━━━━━━━━━━━━━━━━━━━━━━━━━━━━━━━━━━━━\u001b[0m \u001b[32m41.2/41.2 kB\u001b[0m \u001b[31m1.8 MB/s\u001b[0m eta \u001b[36m0:00:00\u001b[0m\n",
      "\u001b[?25hRequirement already satisfied: six in ./anaconda3/lib/python3.11/site-packages (from ipython-sql) (1.16.0)\n",
      "Requirement already satisfied: ipython-genutils in ./anaconda3/lib/python3.11/site-packages (from ipython-sql) (0.2.0)\n",
      "Requirement already satisfied: typing-extensions>=4.2.0 in ./anaconda3/lib/python3.11/site-packages (from sqlalchemy>=2.0->ipython-sql) (4.7.1)\n",
      "Requirement already satisfied: greenlet!=0.4.17 in ./anaconda3/lib/python3.11/site-packages (from sqlalchemy>=2.0->ipython-sql) (2.0.1)\n",
      "Requirement already satisfied: backcall in ./anaconda3/lib/python3.11/site-packages (from ipython->ipython-sql) (0.2.0)\n",
      "Requirement already satisfied: decorator in ./anaconda3/lib/python3.11/site-packages (from ipython->ipython-sql) (5.1.1)\n",
      "Requirement already satisfied: jedi>=0.16 in ./anaconda3/lib/python3.11/site-packages (from ipython->ipython-sql) (0.18.1)\n",
      "Requirement already satisfied: matplotlib-inline in ./anaconda3/lib/python3.11/site-packages (from ipython->ipython-sql) (0.1.6)\n",
      "Requirement already satisfied: pickleshare in ./anaconda3/lib/python3.11/site-packages (from ipython->ipython-sql) (0.7.5)\n",
      "Requirement already satisfied: prompt-toolkit!=3.0.37,<3.1.0,>=3.0.30 in ./anaconda3/lib/python3.11/site-packages (from ipython->ipython-sql) (3.0.36)\n",
      "Requirement already satisfied: pygments>=2.4.0 in ./anaconda3/lib/python3.11/site-packages (from ipython->ipython-sql) (2.15.1)\n",
      "Requirement already satisfied: stack-data in ./anaconda3/lib/python3.11/site-packages (from ipython->ipython-sql) (0.2.0)\n",
      "Requirement already satisfied: traitlets>=5 in ./anaconda3/lib/python3.11/site-packages (from ipython->ipython-sql) (5.7.1)\n",
      "Requirement already satisfied: pexpect>4.3 in ./anaconda3/lib/python3.11/site-packages (from ipython->ipython-sql) (4.8.0)\n",
      "Requirement already satisfied: appnope in ./anaconda3/lib/python3.11/site-packages (from ipython->ipython-sql) (0.1.2)\n",
      "Requirement already satisfied: wcwidth in ./anaconda3/lib/python3.11/site-packages (from prettytable->ipython-sql) (0.2.5)\n",
      "Requirement already satisfied: parso<0.9.0,>=0.8.0 in ./anaconda3/lib/python3.11/site-packages (from jedi>=0.16->ipython->ipython-sql) (0.8.3)\n",
      "Requirement already satisfied: ptyprocess>=0.5 in ./anaconda3/lib/python3.11/site-packages (from pexpect>4.3->ipython->ipython-sql) (0.7.0)\n",
      "Requirement already satisfied: executing in ./anaconda3/lib/python3.11/site-packages (from stack-data->ipython->ipython-sql) (0.8.3)\n",
      "Requirement already satisfied: asttokens in ./anaconda3/lib/python3.11/site-packages (from stack-data->ipython->ipython-sql) (2.0.5)\n",
      "Requirement already satisfied: pure-eval in ./anaconda3/lib/python3.11/site-packages (from stack-data->ipython->ipython-sql) (0.2.2)\n",
      "Downloading SQLAlchemy-2.0.22-cp311-cp311-macosx_10_9_x86_64.whl (2.1 MB)\n",
      "\u001b[2K   \u001b[90m━━━━━━━━━━━━━━━━━━━━━━━━━━━━━━━━━━━━━━━━\u001b[0m \u001b[32m2.1/2.1 MB\u001b[0m \u001b[31m16.5 MB/s\u001b[0m eta \u001b[36m0:00:00\u001b[0m00:01\u001b[0m00:01\u001b[0m\n",
      "\u001b[?25hDownloading prettytable-3.9.0-py3-none-any.whl (27 kB)\n",
      "Installing collected packages: sqlparse, sqlalchemy, prettytable, ipython-sql\n",
      "  Attempting uninstall: sqlalchemy\n",
      "    Found existing installation: SQLAlchemy 1.4.39\n",
      "    Uninstalling SQLAlchemy-1.4.39:\n",
      "      Successfully uninstalled SQLAlchemy-1.4.39\n",
      "Successfully installed ipython-sql-0.5.0 prettytable-3.9.0 sqlalchemy-2.0.22 sqlparse-0.4.4\n"
     ]
    }
   ],
   "source": [
    "!pip install ipython-sql"
   ]
  },
  {
   "cell_type": "code",
   "execution_count": 7,
   "metadata": {},
   "outputs": [],
   "source": [
    "# If the db does not exist, sqlite will create it.\n",
    "con = sqlite3.connect('chatdata.db')\n",
    "\n",
    "# loads sql magic\n",
    "%load_ext sql \n",
    "\n",
    "# connects sql magic command to the correct db\n",
    "%sql sqlite:///chatdata.db "
   ]
  },
  {
   "cell_type": "markdown",
   "metadata": {},
   "source": [
    "#### Drop the `queries` table if it already exists\n",
    "The queries table will be our record of the queries created to answer the questions from the requirements spreadsheet.  As we will be running this Jupyter notebook a few times, let's drop (i.e. remove) the queries table so that we start fresh each time.  Here is the code to do this.  We use the `%%sql` magic command to tell Jupyter that we are going to write SQL in the cell.\n"
   ]
  },
  {
   "cell_type": "code",
   "execution_count": 29,
   "metadata": {},
   "outputs": [
    {
     "name": "stdout",
     "output_type": "stream",
     "text": [
      " * sqlite:///chatdata.db\n",
      "Done.\n"
     ]
    },
    {
     "data": {
      "text/plain": [
       "[]"
      ]
     },
     "execution_count": 29,
     "metadata": {},
     "output_type": "execute_result"
    }
   ],
   "source": [
    "%%sql\n",
    "DROP TABLE IF EXISTS 'queries'"
   ]
  },
  {
   "cell_type": "markdown",
   "metadata": {},
   "source": [
    "# Task 1: Load the Data\n",
    "Now we can start loading the data.  The tables will be created as we load the data.  \n",
    "\n",
    "Note that some of these files are quite large, so make sure you have plenty of free memory!"
   ]
  },
  {
   "cell_type": "markdown",
   "metadata": {},
   "source": [
    "## Lifecycle Stages: Transform and Organise\n",
    "The data has already been processed into 3 clean data files ready for this project:\n",
    "\n",
    "- queries.csv\n",
    "- posts.csv\n",
    "- comments.csv\n",
    "\n",
    "We will load these files into our database."
   ]
  },
  {
   "cell_type": "markdown",
   "metadata": {},
   "source": [
    "## Lifecycle Stage: Acquire\n",
    "The data can be found in the OpenClassrooms instructions for this activity."
   ]
  },
  {
   "cell_type": "markdown",
   "metadata": {},
   "source": [
    "### Load Comments Data into a `comments` table\n",
    "Now we will load the data from the csv files into our sqlite database.\n",
    "\n",
    "First we load the csv file into a Pandas dataframe:"
   ]
  },
  {
   "cell_type": "code",
   "execution_count": 8,
   "metadata": {},
   "outputs": [
    {
     "data": {
      "text/html": [
       "<div>\n",
       "<style scoped>\n",
       "    .dataframe tbody tr th:only-of-type {\n",
       "        vertical-align: middle;\n",
       "    }\n",
       "\n",
       "    .dataframe tbody tr th {\n",
       "        vertical-align: top;\n",
       "    }\n",
       "\n",
       "    .dataframe thead th {\n",
       "        text-align: right;\n",
       "    }\n",
       "</style>\n",
       "<table border=\"1\" class=\"dataframe\">\n",
       "  <thead>\n",
       "    <tr style=\"text-align: right;\">\n",
       "      <th></th>\n",
       "      <th>Id</th>\n",
       "      <th>PostId</th>\n",
       "      <th>Score</th>\n",
       "      <th>Text</th>\n",
       "      <th>CreationDate</th>\n",
       "      <th>UserId</th>\n",
       "    </tr>\n",
       "  </thead>\n",
       "  <tbody>\n",
       "    <tr>\n",
       "      <th>0</th>\n",
       "      <td>723182</td>\n",
       "      <td>385124</td>\n",
       "      <td>0</td>\n",
       "      <td>@BenBolker I don't understand. The fit cannot ...</td>\n",
       "      <td>2019-01-01 00:06:39</td>\n",
       "      <td>78575</td>\n",
       "    </tr>\n",
       "    <tr>\n",
       "      <th>1</th>\n",
       "      <td>723183</td>\n",
       "      <td>385124</td>\n",
       "      <td>3</td>\n",
       "      <td>You can't add *less* than (`-min(y)`), but you...</td>\n",
       "      <td>2019-01-01 00:09:22</td>\n",
       "      <td>2126</td>\n",
       "    </tr>\n",
       "    <tr>\n",
       "      <th>2</th>\n",
       "      <td>723186</td>\n",
       "      <td>385137</td>\n",
       "      <td>0</td>\n",
       "      <td>nice. If you felt like doing the work it would...</td>\n",
       "      <td>2019-01-01 00:32:11</td>\n",
       "      <td>2126</td>\n",
       "    </tr>\n",
       "    <tr>\n",
       "      <th>3</th>\n",
       "      <td>723187</td>\n",
       "      <td>385137</td>\n",
       "      <td>0</td>\n",
       "      <td>i.e. `emdbook::curve3d(-sum(dnbinom(y,mu=mu,si...</td>\n",
       "      <td>2019-01-01 00:40:36</td>\n",
       "      <td>2126</td>\n",
       "    </tr>\n",
       "    <tr>\n",
       "      <th>4</th>\n",
       "      <td>723188</td>\n",
       "      <td>385134</td>\n",
       "      <td>0</td>\n",
       "      <td>Don't you mean \"so variance should be $\\sigma^...</td>\n",
       "      <td>2019-01-01 00:41:28</td>\n",
       "      <td>112141</td>\n",
       "    </tr>\n",
       "  </tbody>\n",
       "</table>\n",
       "</div>"
      ],
      "text/plain": [
       "       Id  PostId  Score                                               Text  \\\n",
       "0  723182  385124      0  @BenBolker I don't understand. The fit cannot ...   \n",
       "1  723183  385124      3  You can't add *less* than (`-min(y)`), but you...   \n",
       "2  723186  385137      0  nice. If you felt like doing the work it would...   \n",
       "3  723187  385137      0  i.e. `emdbook::curve3d(-sum(dnbinom(y,mu=mu,si...   \n",
       "4  723188  385134      0  Don't you mean \"so variance should be $\\sigma^...   \n",
       "\n",
       "          CreationDate  UserId  \n",
       "0  2019-01-01 00:06:39   78575  \n",
       "1  2019-01-01 00:09:22    2126  \n",
       "2  2019-01-01 00:32:11    2126  \n",
       "3  2019-01-01 00:40:36    2126  \n",
       "4  2019-01-01 00:41:28  112141  "
      ]
     },
     "execution_count": 8,
     "metadata": {},
     "output_type": "execute_result"
    }
   ],
   "source": [
    "comments = pd.read_csv('/Users/raj/Desktop/SQL/chatdata/comments.csv')\n",
    "comments.head()\n"
   ]
  },
  {
   "cell_type": "markdown",
   "metadata": {},
   "source": [
    "Now take the comments dataframe and push the data into the Sqlite database table called 'comments':"
   ]
  },
  {
   "cell_type": "code",
   "execution_count": 9,
   "metadata": {},
   "outputs": [
    {
     "data": {
      "text/html": [
       "<div>\n",
       "<style scoped>\n",
       "    .dataframe tbody tr th:only-of-type {\n",
       "        vertical-align: middle;\n",
       "    }\n",
       "\n",
       "    .dataframe tbody tr th {\n",
       "        vertical-align: top;\n",
       "    }\n",
       "\n",
       "    .dataframe thead th {\n",
       "        text-align: right;\n",
       "    }\n",
       "</style>\n",
       "<table border=\"1\" class=\"dataframe\">\n",
       "  <thead>\n",
       "    <tr style=\"text-align: right;\">\n",
       "      <th></th>\n",
       "      <th>Id</th>\n",
       "      <th>PostId</th>\n",
       "      <th>Score</th>\n",
       "      <th>Text</th>\n",
       "      <th>CreationDate</th>\n",
       "      <th>UserId</th>\n",
       "    </tr>\n",
       "  </thead>\n",
       "  <tbody>\n",
       "    <tr>\n",
       "      <th>0</th>\n",
       "      <td>723182</td>\n",
       "      <td>385124</td>\n",
       "      <td>0</td>\n",
       "      <td>@BenBolker I don't understand. The fit cannot ...</td>\n",
       "      <td>2019-01-01 00:06:39</td>\n",
       "      <td>78575</td>\n",
       "    </tr>\n",
       "    <tr>\n",
       "      <th>1</th>\n",
       "      <td>723183</td>\n",
       "      <td>385124</td>\n",
       "      <td>3</td>\n",
       "      <td>You can't add *less* than (`-min(y)`), but you...</td>\n",
       "      <td>2019-01-01 00:09:22</td>\n",
       "      <td>2126</td>\n",
       "    </tr>\n",
       "    <tr>\n",
       "      <th>2</th>\n",
       "      <td>723186</td>\n",
       "      <td>385137</td>\n",
       "      <td>0</td>\n",
       "      <td>nice. If you felt like doing the work it would...</td>\n",
       "      <td>2019-01-01 00:32:11</td>\n",
       "      <td>2126</td>\n",
       "    </tr>\n",
       "    <tr>\n",
       "      <th>3</th>\n",
       "      <td>723187</td>\n",
       "      <td>385137</td>\n",
       "      <td>0</td>\n",
       "      <td>i.e. `emdbook::curve3d(-sum(dnbinom(y,mu=mu,si...</td>\n",
       "      <td>2019-01-01 00:40:36</td>\n",
       "      <td>2126</td>\n",
       "    </tr>\n",
       "    <tr>\n",
       "      <th>4</th>\n",
       "      <td>723188</td>\n",
       "      <td>385134</td>\n",
       "      <td>0</td>\n",
       "      <td>Don't you mean \"so variance should be $\\sigma^...</td>\n",
       "      <td>2019-01-01 00:41:28</td>\n",
       "      <td>112141</td>\n",
       "    </tr>\n",
       "  </tbody>\n",
       "</table>\n",
       "</div>"
      ],
      "text/plain": [
       "       Id  PostId  Score                                               Text  \\\n",
       "0  723182  385124      0  @BenBolker I don't understand. The fit cannot ...   \n",
       "1  723183  385124      3  You can't add *less* than (`-min(y)`), but you...   \n",
       "2  723186  385137      0  nice. If you felt like doing the work it would...   \n",
       "3  723187  385137      0  i.e. `emdbook::curve3d(-sum(dnbinom(y,mu=mu,si...   \n",
       "4  723188  385134      0  Don't you mean \"so variance should be $\\sigma^...   \n",
       "\n",
       "          CreationDate  UserId  \n",
       "0  2019-01-01 00:06:39   78575  \n",
       "1  2019-01-01 00:09:22    2126  \n",
       "2  2019-01-01 00:32:11    2126  \n",
       "3  2019-01-01 00:40:36    2126  \n",
       "4  2019-01-01 00:41:28  112141  "
      ]
     },
     "execution_count": 9,
     "metadata": {},
     "output_type": "execute_result"
    }
   ],
   "source": [
    "# load comments into sqlite\n",
    "comments.to_sql('comments', con, if_exists='replace', index=False)\n",
    "\n",
    "# read back in to prove that it worked\n",
    "sql = 'SELECT * FROM comments'\n",
    "comments = pd.read_sql(sql, con)\n",
    "comments.head()"
   ]
  },
  {
   "cell_type": "markdown",
   "metadata": {},
   "source": [
    "### Load Other CSVs\n",
    "Now that you have seen the code for loading in the comments.csv now do the same to read and write the posts.csv and users.csv to sqlite. \n",
    "\n",
    "<div style=\"background-color:lemonchiffon; border:1px solid; padding:5px; margin:5px; font-weight:bold\"><font color=\"crimson\">\n",
    "TODO: Enter code in the following cells. Insert as many cells as you want to do this.\n",
    "    </font></div>"
   ]
  },
  {
   "cell_type": "code",
   "execution_count": 10,
   "metadata": {},
   "outputs": [
    {
     "data": {
      "text/html": [
       "<div>\n",
       "<style scoped>\n",
       "    .dataframe tbody tr th:only-of-type {\n",
       "        vertical-align: middle;\n",
       "    }\n",
       "\n",
       "    .dataframe tbody tr th {\n",
       "        vertical-align: top;\n",
       "    }\n",
       "\n",
       "    .dataframe thead th {\n",
       "        text-align: right;\n",
       "    }\n",
       "</style>\n",
       "<table border=\"1\" class=\"dataframe\">\n",
       "  <thead>\n",
       "    <tr style=\"text-align: right;\">\n",
       "      <th></th>\n",
       "      <th>Id</th>\n",
       "      <th>PostTypeId</th>\n",
       "      <th>AcceptedAnswerId</th>\n",
       "      <th>ParentId</th>\n",
       "      <th>CreationDate</th>\n",
       "      <th>Score</th>\n",
       "      <th>ViewCount</th>\n",
       "      <th>Body</th>\n",
       "      <th>OwnerUserId</th>\n",
       "      <th>OwnerDisplayName</th>\n",
       "      <th>...</th>\n",
       "      <th>LastEditorDisplayName</th>\n",
       "      <th>LastEditDate</th>\n",
       "      <th>LastActivityDate</th>\n",
       "      <th>Title</th>\n",
       "      <th>Tags</th>\n",
       "      <th>AnswerCount</th>\n",
       "      <th>CommentCount</th>\n",
       "      <th>FavoriteCount</th>\n",
       "      <th>ClosedDate</th>\n",
       "      <th>CommunityOwnedDate</th>\n",
       "    </tr>\n",
       "  </thead>\n",
       "  <tbody>\n",
       "    <tr>\n",
       "      <th>0</th>\n",
       "      <td>423497</td>\n",
       "      <td>1</td>\n",
       "      <td>423511</td>\n",
       "      <td>0</td>\n",
       "      <td>2019-08-24 09:39:31</td>\n",
       "      <td>2</td>\n",
       "      <td>68</td>\n",
       "      <td>&lt;p&gt;From wikipedia &lt;a href=\"https://en.wikipedi...</td>\n",
       "      <td>64552</td>\n",
       "      <td>NaN</td>\n",
       "      <td>...</td>\n",
       "      <td>NaN</td>\n",
       "      <td>NaN</td>\n",
       "      <td>2019-08-24 11:38:54</td>\n",
       "      <td>When are biased estimators with lower MSE pref...</td>\n",
       "      <td>&lt;bias&gt;&lt;unbiased-estimator&gt;&lt;mse&gt;</td>\n",
       "      <td>1</td>\n",
       "      <td>0</td>\n",
       "      <td>1</td>\n",
       "      <td>2019-08-25 10:25:24</td>\n",
       "      <td>NaN</td>\n",
       "    </tr>\n",
       "    <tr>\n",
       "      <th>1</th>\n",
       "      <td>423498</td>\n",
       "      <td>1</td>\n",
       "      <td>0</td>\n",
       "      <td>0</td>\n",
       "      <td>2019-08-24 09:47:42</td>\n",
       "      <td>1</td>\n",
       "      <td>24</td>\n",
       "      <td>&lt;p&gt;I am currently doing local sensitivity anal...</td>\n",
       "      <td>87231</td>\n",
       "      <td>NaN</td>\n",
       "      <td>...</td>\n",
       "      <td>NaN</td>\n",
       "      <td>2019-09-06 12:52:32</td>\n",
       "      <td>2019-09-06 12:52:32</td>\n",
       "      <td>How to interpret the result from local sensiti...</td>\n",
       "      <td>&lt;sensitivity-analysis&gt;&lt;elasticity&gt;</td>\n",
       "      <td>1</td>\n",
       "      <td>0</td>\n",
       "      <td>0</td>\n",
       "      <td>NaN</td>\n",
       "      <td>NaN</td>\n",
       "    </tr>\n",
       "    <tr>\n",
       "      <th>2</th>\n",
       "      <td>423499</td>\n",
       "      <td>1</td>\n",
       "      <td>0</td>\n",
       "      <td>0</td>\n",
       "      <td>2019-08-24 09:48:26</td>\n",
       "      <td>1</td>\n",
       "      <td>56</td>\n",
       "      <td>&lt;p&gt;I'm an honours student in psychology doing ...</td>\n",
       "      <td>257207</td>\n",
       "      <td>NaN</td>\n",
       "      <td>...</td>\n",
       "      <td>NaN</td>\n",
       "      <td>NaN</td>\n",
       "      <td>2019-08-25 08:54:17</td>\n",
       "      <td>Power Analysis in G-Power - Mixed Model Anova</td>\n",
       "      <td>&lt;anova&gt;&lt;gpower&gt;</td>\n",
       "      <td>2</td>\n",
       "      <td>0</td>\n",
       "      <td>0</td>\n",
       "      <td>NaN</td>\n",
       "      <td>NaN</td>\n",
       "    </tr>\n",
       "    <tr>\n",
       "      <th>3</th>\n",
       "      <td>423500</td>\n",
       "      <td>2</td>\n",
       "      <td>0</td>\n",
       "      <td>215865</td>\n",
       "      <td>2019-08-24 09:57:01</td>\n",
       "      <td>0</td>\n",
       "      <td>0</td>\n",
       "      <td>&lt;p&gt;Maybe you can look this &lt;a href=\"https://me...</td>\n",
       "      <td>106606</td>\n",
       "      <td>NaN</td>\n",
       "      <td>...</td>\n",
       "      <td>NaN</td>\n",
       "      <td>NaN</td>\n",
       "      <td>2019-08-24 09:57:01</td>\n",
       "      <td>NaN</td>\n",
       "      <td>NaN</td>\n",
       "      <td>0</td>\n",
       "      <td>0</td>\n",
       "      <td>0</td>\n",
       "      <td>NaN</td>\n",
       "      <td>NaN</td>\n",
       "    </tr>\n",
       "    <tr>\n",
       "      <th>4</th>\n",
       "      <td>423502</td>\n",
       "      <td>2</td>\n",
       "      <td>0</td>\n",
       "      <td>423286</td>\n",
       "      <td>2019-08-24 10:44:52</td>\n",
       "      <td>3</td>\n",
       "      <td>0</td>\n",
       "      <td>&lt;blockquote&gt;\\n  &lt;p&gt;Q1) Is my approach valid?&lt;/...</td>\n",
       "      <td>220643</td>\n",
       "      <td>NaN</td>\n",
       "      <td>...</td>\n",
       "      <td>NaN</td>\n",
       "      <td>2019-08-24 12:13:46</td>\n",
       "      <td>2019-08-24 12:13:46</td>\n",
       "      <td>NaN</td>\n",
       "      <td>NaN</td>\n",
       "      <td>0</td>\n",
       "      <td>1</td>\n",
       "      <td>0</td>\n",
       "      <td>NaN</td>\n",
       "      <td>NaN</td>\n",
       "    </tr>\n",
       "  </tbody>\n",
       "</table>\n",
       "<p>5 rows × 21 columns</p>\n",
       "</div>"
      ],
      "text/plain": [
       "       Id  PostTypeId  AcceptedAnswerId  ParentId         CreationDate  Score  \\\n",
       "0  423497           1            423511         0  2019-08-24 09:39:31      2   \n",
       "1  423498           1                 0         0  2019-08-24 09:47:42      1   \n",
       "2  423499           1                 0         0  2019-08-24 09:48:26      1   \n",
       "3  423500           2                 0    215865  2019-08-24 09:57:01      0   \n",
       "4  423502           2                 0    423286  2019-08-24 10:44:52      3   \n",
       "\n",
       "   ViewCount                                               Body  OwnerUserId  \\\n",
       "0         68  <p>From wikipedia <a href=\"https://en.wikipedi...        64552   \n",
       "1         24  <p>I am currently doing local sensitivity anal...        87231   \n",
       "2         56  <p>I'm an honours student in psychology doing ...       257207   \n",
       "3          0  <p>Maybe you can look this <a href=\"https://me...       106606   \n",
       "4          0  <blockquote>\\n  <p>Q1) Is my approach valid?</...       220643   \n",
       "\n",
       "  OwnerDisplayName  ...  LastEditorDisplayName         LastEditDate  \\\n",
       "0              NaN  ...                    NaN                  NaN   \n",
       "1              NaN  ...                    NaN  2019-09-06 12:52:32   \n",
       "2              NaN  ...                    NaN                  NaN   \n",
       "3              NaN  ...                    NaN                  NaN   \n",
       "4              NaN  ...                    NaN  2019-08-24 12:13:46   \n",
       "\n",
       "      LastActivityDate                                              Title  \\\n",
       "0  2019-08-24 11:38:54  When are biased estimators with lower MSE pref...   \n",
       "1  2019-09-06 12:52:32  How to interpret the result from local sensiti...   \n",
       "2  2019-08-25 08:54:17      Power Analysis in G-Power - Mixed Model Anova   \n",
       "3  2019-08-24 09:57:01                                                NaN   \n",
       "4  2019-08-24 12:13:46                                                NaN   \n",
       "\n",
       "                                 Tags AnswerCount  CommentCount  \\\n",
       "0     <bias><unbiased-estimator><mse>           1             0   \n",
       "1  <sensitivity-analysis><elasticity>           1             0   \n",
       "2                     <anova><gpower>           2             0   \n",
       "3                                 NaN           0             0   \n",
       "4                                 NaN           0             1   \n",
       "\n",
       "   FavoriteCount           ClosedDate CommunityOwnedDate  \n",
       "0              1  2019-08-25 10:25:24                NaN  \n",
       "1              0                  NaN                NaN  \n",
       "2              0                  NaN                NaN  \n",
       "3              0                  NaN                NaN  \n",
       "4              0                  NaN                NaN  \n",
       "\n",
       "[5 rows x 21 columns]"
      ]
     },
     "execution_count": 10,
     "metadata": {},
     "output_type": "execute_result"
    }
   ],
   "source": [
    "# TODO\n",
    "posts = pd.read_csv('/Users/raj/Desktop/SQL/chatdata/posts.csv')\n",
    "posts.head()\n",
    "\n"
   ]
  },
  {
   "cell_type": "code",
   "execution_count": 34,
   "metadata": {},
   "outputs": [
    {
     "data": {
      "text/html": [
       "<div>\n",
       "<style scoped>\n",
       "    .dataframe tbody tr th:only-of-type {\n",
       "        vertical-align: middle;\n",
       "    }\n",
       "\n",
       "    .dataframe tbody tr th {\n",
       "        vertical-align: top;\n",
       "    }\n",
       "\n",
       "    .dataframe thead th {\n",
       "        text-align: right;\n",
       "    }\n",
       "</style>\n",
       "<table border=\"1\" class=\"dataframe\">\n",
       "  <thead>\n",
       "    <tr style=\"text-align: right;\">\n",
       "      <th></th>\n",
       "      <th>Id</th>\n",
       "      <th>PostTypeId</th>\n",
       "      <th>AcceptedAnswerId</th>\n",
       "      <th>ParentId</th>\n",
       "      <th>CreationDate</th>\n",
       "      <th>Score</th>\n",
       "      <th>ViewCount</th>\n",
       "      <th>Body</th>\n",
       "      <th>OwnerUserId</th>\n",
       "      <th>OwnerDisplayName</th>\n",
       "      <th>...</th>\n",
       "      <th>LastEditorDisplayName</th>\n",
       "      <th>LastEditDate</th>\n",
       "      <th>LastActivityDate</th>\n",
       "      <th>Title</th>\n",
       "      <th>Tags</th>\n",
       "      <th>AnswerCount</th>\n",
       "      <th>CommentCount</th>\n",
       "      <th>FavoriteCount</th>\n",
       "      <th>ClosedDate</th>\n",
       "      <th>CommunityOwnedDate</th>\n",
       "    </tr>\n",
       "  </thead>\n",
       "  <tbody>\n",
       "    <tr>\n",
       "      <th>0</th>\n",
       "      <td>423497</td>\n",
       "      <td>1</td>\n",
       "      <td>423511</td>\n",
       "      <td>0</td>\n",
       "      <td>2019-08-24 09:39:31</td>\n",
       "      <td>2</td>\n",
       "      <td>68</td>\n",
       "      <td>&lt;p&gt;From wikipedia &lt;a href=\"https://en.wikipedi...</td>\n",
       "      <td>64552</td>\n",
       "      <td>None</td>\n",
       "      <td>...</td>\n",
       "      <td>None</td>\n",
       "      <td>None</td>\n",
       "      <td>2019-08-24 11:38:54</td>\n",
       "      <td>When are biased estimators with lower MSE pref...</td>\n",
       "      <td>&lt;bias&gt;&lt;unbiased-estimator&gt;&lt;mse&gt;</td>\n",
       "      <td>1</td>\n",
       "      <td>0</td>\n",
       "      <td>1</td>\n",
       "      <td>2019-08-25 10:25:24</td>\n",
       "      <td>None</td>\n",
       "    </tr>\n",
       "    <tr>\n",
       "      <th>1</th>\n",
       "      <td>423498</td>\n",
       "      <td>1</td>\n",
       "      <td>0</td>\n",
       "      <td>0</td>\n",
       "      <td>2019-08-24 09:47:42</td>\n",
       "      <td>1</td>\n",
       "      <td>24</td>\n",
       "      <td>&lt;p&gt;I am currently doing local sensitivity anal...</td>\n",
       "      <td>87231</td>\n",
       "      <td>None</td>\n",
       "      <td>...</td>\n",
       "      <td>None</td>\n",
       "      <td>2019-09-06 12:52:32</td>\n",
       "      <td>2019-09-06 12:52:32</td>\n",
       "      <td>How to interpret the result from local sensiti...</td>\n",
       "      <td>&lt;sensitivity-analysis&gt;&lt;elasticity&gt;</td>\n",
       "      <td>1</td>\n",
       "      <td>0</td>\n",
       "      <td>0</td>\n",
       "      <td>None</td>\n",
       "      <td>None</td>\n",
       "    </tr>\n",
       "    <tr>\n",
       "      <th>2</th>\n",
       "      <td>423499</td>\n",
       "      <td>1</td>\n",
       "      <td>0</td>\n",
       "      <td>0</td>\n",
       "      <td>2019-08-24 09:48:26</td>\n",
       "      <td>1</td>\n",
       "      <td>56</td>\n",
       "      <td>&lt;p&gt;I'm an honours student in psychology doing ...</td>\n",
       "      <td>257207</td>\n",
       "      <td>None</td>\n",
       "      <td>...</td>\n",
       "      <td>None</td>\n",
       "      <td>None</td>\n",
       "      <td>2019-08-25 08:54:17</td>\n",
       "      <td>Power Analysis in G-Power - Mixed Model Anova</td>\n",
       "      <td>&lt;anova&gt;&lt;gpower&gt;</td>\n",
       "      <td>2</td>\n",
       "      <td>0</td>\n",
       "      <td>0</td>\n",
       "      <td>None</td>\n",
       "      <td>None</td>\n",
       "    </tr>\n",
       "    <tr>\n",
       "      <th>3</th>\n",
       "      <td>423500</td>\n",
       "      <td>2</td>\n",
       "      <td>0</td>\n",
       "      <td>215865</td>\n",
       "      <td>2019-08-24 09:57:01</td>\n",
       "      <td>0</td>\n",
       "      <td>0</td>\n",
       "      <td>&lt;p&gt;Maybe you can look this &lt;a href=\"https://me...</td>\n",
       "      <td>106606</td>\n",
       "      <td>None</td>\n",
       "      <td>...</td>\n",
       "      <td>None</td>\n",
       "      <td>None</td>\n",
       "      <td>2019-08-24 09:57:01</td>\n",
       "      <td>None</td>\n",
       "      <td>None</td>\n",
       "      <td>0</td>\n",
       "      <td>0</td>\n",
       "      <td>0</td>\n",
       "      <td>None</td>\n",
       "      <td>None</td>\n",
       "    </tr>\n",
       "    <tr>\n",
       "      <th>4</th>\n",
       "      <td>423502</td>\n",
       "      <td>2</td>\n",
       "      <td>0</td>\n",
       "      <td>423286</td>\n",
       "      <td>2019-08-24 10:44:52</td>\n",
       "      <td>3</td>\n",
       "      <td>0</td>\n",
       "      <td>&lt;blockquote&gt;\\n  &lt;p&gt;Q1) Is my approach valid?&lt;/...</td>\n",
       "      <td>220643</td>\n",
       "      <td>None</td>\n",
       "      <td>...</td>\n",
       "      <td>None</td>\n",
       "      <td>2019-08-24 12:13:46</td>\n",
       "      <td>2019-08-24 12:13:46</td>\n",
       "      <td>None</td>\n",
       "      <td>None</td>\n",
       "      <td>0</td>\n",
       "      <td>1</td>\n",
       "      <td>0</td>\n",
       "      <td>None</td>\n",
       "      <td>None</td>\n",
       "    </tr>\n",
       "  </tbody>\n",
       "</table>\n",
       "<p>5 rows × 21 columns</p>\n",
       "</div>"
      ],
      "text/plain": [
       "       Id  PostTypeId  AcceptedAnswerId  ParentId         CreationDate  Score  \\\n",
       "0  423497           1            423511         0  2019-08-24 09:39:31      2   \n",
       "1  423498           1                 0         0  2019-08-24 09:47:42      1   \n",
       "2  423499           1                 0         0  2019-08-24 09:48:26      1   \n",
       "3  423500           2                 0    215865  2019-08-24 09:57:01      0   \n",
       "4  423502           2                 0    423286  2019-08-24 10:44:52      3   \n",
       "\n",
       "   ViewCount                                               Body  OwnerUserId  \\\n",
       "0         68  <p>From wikipedia <a href=\"https://en.wikipedi...        64552   \n",
       "1         24  <p>I am currently doing local sensitivity anal...        87231   \n",
       "2         56  <p>I'm an honours student in psychology doing ...       257207   \n",
       "3          0  <p>Maybe you can look this <a href=\"https://me...       106606   \n",
       "4          0  <blockquote>\\n  <p>Q1) Is my approach valid?</...       220643   \n",
       "\n",
       "  OwnerDisplayName  ...  LastEditorDisplayName         LastEditDate  \\\n",
       "0             None  ...                   None                 None   \n",
       "1             None  ...                   None  2019-09-06 12:52:32   \n",
       "2             None  ...                   None                 None   \n",
       "3             None  ...                   None                 None   \n",
       "4             None  ...                   None  2019-08-24 12:13:46   \n",
       "\n",
       "      LastActivityDate                                              Title  \\\n",
       "0  2019-08-24 11:38:54  When are biased estimators with lower MSE pref...   \n",
       "1  2019-09-06 12:52:32  How to interpret the result from local sensiti...   \n",
       "2  2019-08-25 08:54:17      Power Analysis in G-Power - Mixed Model Anova   \n",
       "3  2019-08-24 09:57:01                                               None   \n",
       "4  2019-08-24 12:13:46                                               None   \n",
       "\n",
       "                                 Tags AnswerCount  CommentCount  \\\n",
       "0     <bias><unbiased-estimator><mse>           1             0   \n",
       "1  <sensitivity-analysis><elasticity>           1             0   \n",
       "2                     <anova><gpower>           2             0   \n",
       "3                                None           0             0   \n",
       "4                                None           0             1   \n",
       "\n",
       "   FavoriteCount           ClosedDate CommunityOwnedDate  \n",
       "0              1  2019-08-25 10:25:24               None  \n",
       "1              0                 None               None  \n",
       "2              0                 None               None  \n",
       "3              0                 None               None  \n",
       "4              0                 None               None  \n",
       "\n",
       "[5 rows x 21 columns]"
      ]
     },
     "execution_count": 34,
     "metadata": {},
     "output_type": "execute_result"
    }
   ],
   "source": [
    "# TODO\n",
    "posts.to_sql('posts', con, if_exists='replace', index=False)\n",
    "sql = 'SELECT * FROM posts'\n",
    "posts=pd.read_sql(sql,con)\n",
    "posts.head()"
   ]
  },
  {
   "cell_type": "code",
   "execution_count": 11,
   "metadata": {},
   "outputs": [
    {
     "data": {
      "text/html": [
       "<div>\n",
       "<style scoped>\n",
       "    .dataframe tbody tr th:only-of-type {\n",
       "        vertical-align: middle;\n",
       "    }\n",
       "\n",
       "    .dataframe tbody tr th {\n",
       "        vertical-align: top;\n",
       "    }\n",
       "\n",
       "    .dataframe thead th {\n",
       "        text-align: right;\n",
       "    }\n",
       "</style>\n",
       "<table border=\"1\" class=\"dataframe\">\n",
       "  <thead>\n",
       "    <tr style=\"text-align: right;\">\n",
       "      <th></th>\n",
       "      <th>Id</th>\n",
       "      <th>Reputation</th>\n",
       "      <th>CreationDate</th>\n",
       "      <th>DisplayName</th>\n",
       "      <th>LastAccessDate</th>\n",
       "      <th>WebsiteUrl</th>\n",
       "      <th>Location</th>\n",
       "      <th>AboutMe</th>\n",
       "      <th>Views</th>\n",
       "      <th>UpVotes</th>\n",
       "      <th>DownVotes</th>\n",
       "      <th>ProfileImageUrl</th>\n",
       "      <th>AccountId</th>\n",
       "    </tr>\n",
       "  </thead>\n",
       "  <tbody>\n",
       "    <tr>\n",
       "      <th>0</th>\n",
       "      <td>157607</td>\n",
       "      <td>31</td>\n",
       "      <td>2017-04-17 14:50:42</td>\n",
       "      <td>user157607</td>\n",
       "      <td>2019-07-23 16:44:08</td>\n",
       "      <td>NaN</td>\n",
       "      <td>NaN</td>\n",
       "      <td>NaN</td>\n",
       "      <td>0</td>\n",
       "      <td>0</td>\n",
       "      <td>0</td>\n",
       "      <td>https://www.gravatar.com/avatar/2efb161849efa4...</td>\n",
       "      <td>10705183</td>\n",
       "    </tr>\n",
       "    <tr>\n",
       "      <th>1</th>\n",
       "      <td>157656</td>\n",
       "      <td>101</td>\n",
       "      <td>2017-04-17 20:08:20</td>\n",
       "      <td>user102859</td>\n",
       "      <td>2019-06-26 13:42:13</td>\n",
       "      <td>NaN</td>\n",
       "      <td>NaN</td>\n",
       "      <td>NaN</td>\n",
       "      <td>3</td>\n",
       "      <td>0</td>\n",
       "      <td>0</td>\n",
       "      <td>https://i.stack.imgur.com/eY4ka.jpg?s=128&amp;g=1</td>\n",
       "      <td>10567606</td>\n",
       "    </tr>\n",
       "    <tr>\n",
       "      <th>2</th>\n",
       "      <td>157704</td>\n",
       "      <td>133</td>\n",
       "      <td>2017-04-18 05:10:47</td>\n",
       "      <td>jupiar</td>\n",
       "      <td>2019-11-25 13:32:27</td>\n",
       "      <td>NaN</td>\n",
       "      <td>Shanghai, China</td>\n",
       "      <td>&lt;p&gt;Originally from the U.K, I have an Undergra...</td>\n",
       "      <td>1</td>\n",
       "      <td>1</td>\n",
       "      <td>0</td>\n",
       "      <td>https://www.gravatar.com/avatar/720e20205122c5...</td>\n",
       "      <td>9501631</td>\n",
       "    </tr>\n",
       "    <tr>\n",
       "      <th>3</th>\n",
       "      <td>157709</td>\n",
       "      <td>155</td>\n",
       "      <td>2017-04-18 06:39:18</td>\n",
       "      <td>farmer</td>\n",
       "      <td>2019-02-17 19:44:24</td>\n",
       "      <td>NaN</td>\n",
       "      <td>NaN</td>\n",
       "      <td>NaN</td>\n",
       "      <td>16</td>\n",
       "      <td>0</td>\n",
       "      <td>0</td>\n",
       "      <td>https://www.gravatar.com/avatar/0f8c4bde3d8f25...</td>\n",
       "      <td>10709837</td>\n",
       "    </tr>\n",
       "    <tr>\n",
       "      <th>4</th>\n",
       "      <td>157755</td>\n",
       "      <td>101</td>\n",
       "      <td>2017-04-18 12:56:17</td>\n",
       "      <td>Miki P</td>\n",
       "      <td>2019-08-12 17:02:21</td>\n",
       "      <td>NaN</td>\n",
       "      <td>NaN</td>\n",
       "      <td>NaN</td>\n",
       "      <td>1</td>\n",
       "      <td>9</td>\n",
       "      <td>0</td>\n",
       "      <td>https://www.gravatar.com/avatar/af088558cd81c5...</td>\n",
       "      <td>7969290</td>\n",
       "    </tr>\n",
       "  </tbody>\n",
       "</table>\n",
       "</div>"
      ],
      "text/plain": [
       "       Id  Reputation         CreationDate DisplayName       LastAccessDate  \\\n",
       "0  157607          31  2017-04-17 14:50:42  user157607  2019-07-23 16:44:08   \n",
       "1  157656         101  2017-04-17 20:08:20  user102859  2019-06-26 13:42:13   \n",
       "2  157704         133  2017-04-18 05:10:47      jupiar  2019-11-25 13:32:27   \n",
       "3  157709         155  2017-04-18 06:39:18      farmer  2019-02-17 19:44:24   \n",
       "4  157755         101  2017-04-18 12:56:17      Miki P  2019-08-12 17:02:21   \n",
       "\n",
       "  WebsiteUrl         Location  \\\n",
       "0        NaN              NaN   \n",
       "1        NaN              NaN   \n",
       "2        NaN  Shanghai, China   \n",
       "3        NaN              NaN   \n",
       "4        NaN              NaN   \n",
       "\n",
       "                                             AboutMe  Views  UpVotes  \\\n",
       "0                                                NaN      0        0   \n",
       "1                                                NaN      3        0   \n",
       "2  <p>Originally from the U.K, I have an Undergra...      1        1   \n",
       "3                                                NaN     16        0   \n",
       "4                                                NaN      1        9   \n",
       "\n",
       "   DownVotes                                    ProfileImageUrl  AccountId  \n",
       "0          0  https://www.gravatar.com/avatar/2efb161849efa4...   10705183  \n",
       "1          0      https://i.stack.imgur.com/eY4ka.jpg?s=128&g=1   10567606  \n",
       "2          0  https://www.gravatar.com/avatar/720e20205122c5...    9501631  \n",
       "3          0  https://www.gravatar.com/avatar/0f8c4bde3d8f25...   10709837  \n",
       "4          0  https://www.gravatar.com/avatar/af088558cd81c5...    7969290  "
      ]
     },
     "execution_count": 11,
     "metadata": {},
     "output_type": "execute_result"
    }
   ],
   "source": [
    "# TODO\n",
    "users = pd.read_csv('/Users/raj/Desktop/SQL/chatdata/users.csv')\n",
    "users.head()"
   ]
  },
  {
   "cell_type": "code",
   "execution_count": 12,
   "metadata": {},
   "outputs": [
    {
     "data": {
      "text/html": [
       "<div>\n",
       "<style scoped>\n",
       "    .dataframe tbody tr th:only-of-type {\n",
       "        vertical-align: middle;\n",
       "    }\n",
       "\n",
       "    .dataframe tbody tr th {\n",
       "        vertical-align: top;\n",
       "    }\n",
       "\n",
       "    .dataframe thead th {\n",
       "        text-align: right;\n",
       "    }\n",
       "</style>\n",
       "<table border=\"1\" class=\"dataframe\">\n",
       "  <thead>\n",
       "    <tr style=\"text-align: right;\">\n",
       "      <th></th>\n",
       "      <th>Id</th>\n",
       "      <th>Reputation</th>\n",
       "      <th>CreationDate</th>\n",
       "      <th>DisplayName</th>\n",
       "      <th>LastAccessDate</th>\n",
       "      <th>WebsiteUrl</th>\n",
       "      <th>Location</th>\n",
       "      <th>AboutMe</th>\n",
       "      <th>Views</th>\n",
       "      <th>UpVotes</th>\n",
       "      <th>DownVotes</th>\n",
       "      <th>ProfileImageUrl</th>\n",
       "      <th>AccountId</th>\n",
       "    </tr>\n",
       "  </thead>\n",
       "  <tbody>\n",
       "    <tr>\n",
       "      <th>0</th>\n",
       "      <td>157607</td>\n",
       "      <td>31</td>\n",
       "      <td>2017-04-17 14:50:42</td>\n",
       "      <td>user157607</td>\n",
       "      <td>2019-07-23 16:44:08</td>\n",
       "      <td>None</td>\n",
       "      <td>None</td>\n",
       "      <td>None</td>\n",
       "      <td>0</td>\n",
       "      <td>0</td>\n",
       "      <td>0</td>\n",
       "      <td>https://www.gravatar.com/avatar/2efb161849efa4...</td>\n",
       "      <td>10705183</td>\n",
       "    </tr>\n",
       "    <tr>\n",
       "      <th>1</th>\n",
       "      <td>157656</td>\n",
       "      <td>101</td>\n",
       "      <td>2017-04-17 20:08:20</td>\n",
       "      <td>user102859</td>\n",
       "      <td>2019-06-26 13:42:13</td>\n",
       "      <td>None</td>\n",
       "      <td>None</td>\n",
       "      <td>None</td>\n",
       "      <td>3</td>\n",
       "      <td>0</td>\n",
       "      <td>0</td>\n",
       "      <td>https://i.stack.imgur.com/eY4ka.jpg?s=128&amp;g=1</td>\n",
       "      <td>10567606</td>\n",
       "    </tr>\n",
       "    <tr>\n",
       "      <th>2</th>\n",
       "      <td>157704</td>\n",
       "      <td>133</td>\n",
       "      <td>2017-04-18 05:10:47</td>\n",
       "      <td>jupiar</td>\n",
       "      <td>2019-11-25 13:32:27</td>\n",
       "      <td>None</td>\n",
       "      <td>Shanghai, China</td>\n",
       "      <td>&lt;p&gt;Originally from the U.K, I have an Undergra...</td>\n",
       "      <td>1</td>\n",
       "      <td>1</td>\n",
       "      <td>0</td>\n",
       "      <td>https://www.gravatar.com/avatar/720e20205122c5...</td>\n",
       "      <td>9501631</td>\n",
       "    </tr>\n",
       "    <tr>\n",
       "      <th>3</th>\n",
       "      <td>157709</td>\n",
       "      <td>155</td>\n",
       "      <td>2017-04-18 06:39:18</td>\n",
       "      <td>farmer</td>\n",
       "      <td>2019-02-17 19:44:24</td>\n",
       "      <td>None</td>\n",
       "      <td>None</td>\n",
       "      <td>None</td>\n",
       "      <td>16</td>\n",
       "      <td>0</td>\n",
       "      <td>0</td>\n",
       "      <td>https://www.gravatar.com/avatar/0f8c4bde3d8f25...</td>\n",
       "      <td>10709837</td>\n",
       "    </tr>\n",
       "    <tr>\n",
       "      <th>4</th>\n",
       "      <td>157755</td>\n",
       "      <td>101</td>\n",
       "      <td>2017-04-18 12:56:17</td>\n",
       "      <td>Miki P</td>\n",
       "      <td>2019-08-12 17:02:21</td>\n",
       "      <td>None</td>\n",
       "      <td>None</td>\n",
       "      <td>None</td>\n",
       "      <td>1</td>\n",
       "      <td>9</td>\n",
       "      <td>0</td>\n",
       "      <td>https://www.gravatar.com/avatar/af088558cd81c5...</td>\n",
       "      <td>7969290</td>\n",
       "    </tr>\n",
       "  </tbody>\n",
       "</table>\n",
       "</div>"
      ],
      "text/plain": [
       "       Id  Reputation         CreationDate DisplayName       LastAccessDate  \\\n",
       "0  157607          31  2017-04-17 14:50:42  user157607  2019-07-23 16:44:08   \n",
       "1  157656         101  2017-04-17 20:08:20  user102859  2019-06-26 13:42:13   \n",
       "2  157704         133  2017-04-18 05:10:47      jupiar  2019-11-25 13:32:27   \n",
       "3  157709         155  2017-04-18 06:39:18      farmer  2019-02-17 19:44:24   \n",
       "4  157755         101  2017-04-18 12:56:17      Miki P  2019-08-12 17:02:21   \n",
       "\n",
       "  WebsiteUrl         Location  \\\n",
       "0       None             None   \n",
       "1       None             None   \n",
       "2       None  Shanghai, China   \n",
       "3       None             None   \n",
       "4       None             None   \n",
       "\n",
       "                                             AboutMe  Views  UpVotes  \\\n",
       "0                                               None      0        0   \n",
       "1                                               None      3        0   \n",
       "2  <p>Originally from the U.K, I have an Undergra...      1        1   \n",
       "3                                               None     16        0   \n",
       "4                                               None      1        9   \n",
       "\n",
       "   DownVotes                                    ProfileImageUrl  AccountId  \n",
       "0          0  https://www.gravatar.com/avatar/2efb161849efa4...   10705183  \n",
       "1          0      https://i.stack.imgur.com/eY4ka.jpg?s=128&g=1   10567606  \n",
       "2          0  https://www.gravatar.com/avatar/720e20205122c5...    9501631  \n",
       "3          0  https://www.gravatar.com/avatar/0f8c4bde3d8f25...   10709837  \n",
       "4          0  https://www.gravatar.com/avatar/af088558cd81c5...    7969290  "
      ]
     },
     "execution_count": 12,
     "metadata": {},
     "output_type": "execute_result"
    }
   ],
   "source": [
    "# TODO\n",
    "users.to_sql('users', con, if_exists='replace', index=False)\n",
    "sql = 'SELECT * FROM users'\n",
    "users=pd.read_sql(sql,con)\n",
    "users.head()"
   ]
  },
  {
   "cell_type": "markdown",
   "metadata": {},
   "source": [
    "### **TODO**: Drop Duplicates\n",
    "Look for and drop any duplicates in all 3 of the tables (if they exist). Use Pandas to do this. If you find duplicates, you will need to rewrite the table.\n",
    "\n",
    "<div style=\"background-color:lemonchiffon; border:1px solid; padding:5px; margin:5px; font-weight:bold\"><font color=\"crimson\">\n",
    "TODO: Enter code in the following cells. \n",
    "    </font></div>"
   ]
  },
  {
   "cell_type": "code",
   "execution_count": 13,
   "metadata": {},
   "outputs": [
    {
     "name": "stdout",
     "output_type": "stream",
     "text": [
      "(50000, 6)\n",
      "None\n"
     ]
    }
   ],
   "source": [
    "# TODO\n",
    "print(comments.shape)\n",
    "print(comments.drop_duplicates(inplace=True))"
   ]
  },
  {
   "cell_type": "code",
   "execution_count": 14,
   "metadata": {},
   "outputs": [
    {
     "name": "stdout",
     "output_type": "stream",
     "text": [
      "(42234, 21)\n",
      "None\n"
     ]
    }
   ],
   "source": [
    "# TODO\n",
    "print(posts.shape)\n",
    "print(posts.drop_duplicates(inplace=True))"
   ]
  },
  {
   "cell_type": "code",
   "execution_count": 15,
   "metadata": {},
   "outputs": [
    {
     "name": "stdout",
     "output_type": "stream",
     "text": [
      "(18412, 13)\n",
      "None\n"
     ]
    }
   ],
   "source": [
    "# TODO\n",
    "print(users.shape)\n",
    "print(users.drop_duplicates(inplace=True))"
   ]
  },
  {
   "cell_type": "markdown",
   "metadata": {},
   "source": [
    "## Review the Data\n",
    "\n",
    "Spend some time reviewing the data.  Understand what data we have, think about how that data can be used to assist in the initiative of understanding how ChatData is used in the real world.  Is the data organised in a way that would lend itself to being manged in a relational database?  How would the different tables be connected?  What are the primary and foreign keys?  Would this give you a 3NF model?\n",
    "\n",
    "Also think about security and ethics.  Is there personal data in here?  Could individuals be identified through this data?  It it ethical to use the data in this way?  You will be asked to comment on these questions later!\n",
    "\n",
    "Use the code below to help you."
   ]
  },
  {
   "cell_type": "code",
   "execution_count": 16,
   "metadata": {},
   "outputs": [
    {
     "data": {
      "text/plain": [
       "Index(['Id', 'Reputation', 'CreationDate', 'DisplayName', 'LastAccessDate',\n",
       "       'WebsiteUrl', 'Location', 'AboutMe', 'Views', 'UpVotes', 'DownVotes',\n",
       "       'ProfileImageUrl', 'AccountId'],\n",
       "      dtype='object')"
      ]
     },
     "execution_count": 16,
     "metadata": {},
     "output_type": "execute_result"
    }
   ],
   "source": [
    "users.columns"
   ]
  },
  {
   "cell_type": "code",
   "execution_count": 17,
   "metadata": {},
   "outputs": [
    {
     "data": {
      "text/html": [
       "<div>\n",
       "<style scoped>\n",
       "    .dataframe tbody tr th:only-of-type {\n",
       "        vertical-align: middle;\n",
       "    }\n",
       "\n",
       "    .dataframe tbody tr th {\n",
       "        vertical-align: top;\n",
       "    }\n",
       "\n",
       "    .dataframe thead th {\n",
       "        text-align: right;\n",
       "    }\n",
       "</style>\n",
       "<table border=\"1\" class=\"dataframe\">\n",
       "  <thead>\n",
       "    <tr style=\"text-align: right;\">\n",
       "      <th></th>\n",
       "      <th>Id</th>\n",
       "      <th>Reputation</th>\n",
       "      <th>CreationDate</th>\n",
       "      <th>DisplayName</th>\n",
       "      <th>LastAccessDate</th>\n",
       "      <th>WebsiteUrl</th>\n",
       "      <th>Location</th>\n",
       "      <th>AboutMe</th>\n",
       "      <th>Views</th>\n",
       "      <th>UpVotes</th>\n",
       "      <th>DownVotes</th>\n",
       "      <th>ProfileImageUrl</th>\n",
       "      <th>AccountId</th>\n",
       "    </tr>\n",
       "  </thead>\n",
       "  <tbody>\n",
       "    <tr>\n",
       "      <th>0</th>\n",
       "      <td>157607</td>\n",
       "      <td>31</td>\n",
       "      <td>2017-04-17 14:50:42</td>\n",
       "      <td>user157607</td>\n",
       "      <td>2019-07-23 16:44:08</td>\n",
       "      <td>None</td>\n",
       "      <td>None</td>\n",
       "      <td>None</td>\n",
       "      <td>0</td>\n",
       "      <td>0</td>\n",
       "      <td>0</td>\n",
       "      <td>https://www.gravatar.com/avatar/2efb161849efa4...</td>\n",
       "      <td>10705183</td>\n",
       "    </tr>\n",
       "    <tr>\n",
       "      <th>1</th>\n",
       "      <td>157656</td>\n",
       "      <td>101</td>\n",
       "      <td>2017-04-17 20:08:20</td>\n",
       "      <td>user102859</td>\n",
       "      <td>2019-06-26 13:42:13</td>\n",
       "      <td>None</td>\n",
       "      <td>None</td>\n",
       "      <td>None</td>\n",
       "      <td>3</td>\n",
       "      <td>0</td>\n",
       "      <td>0</td>\n",
       "      <td>https://i.stack.imgur.com/eY4ka.jpg?s=128&amp;g=1</td>\n",
       "      <td>10567606</td>\n",
       "    </tr>\n",
       "    <tr>\n",
       "      <th>2</th>\n",
       "      <td>157704</td>\n",
       "      <td>133</td>\n",
       "      <td>2017-04-18 05:10:47</td>\n",
       "      <td>jupiar</td>\n",
       "      <td>2019-11-25 13:32:27</td>\n",
       "      <td>None</td>\n",
       "      <td>Shanghai, China</td>\n",
       "      <td>&lt;p&gt;Originally from the U.K, I have an Undergra...</td>\n",
       "      <td>1</td>\n",
       "      <td>1</td>\n",
       "      <td>0</td>\n",
       "      <td>https://www.gravatar.com/avatar/720e20205122c5...</td>\n",
       "      <td>9501631</td>\n",
       "    </tr>\n",
       "    <tr>\n",
       "      <th>3</th>\n",
       "      <td>157709</td>\n",
       "      <td>155</td>\n",
       "      <td>2017-04-18 06:39:18</td>\n",
       "      <td>farmer</td>\n",
       "      <td>2019-02-17 19:44:24</td>\n",
       "      <td>None</td>\n",
       "      <td>None</td>\n",
       "      <td>None</td>\n",
       "      <td>16</td>\n",
       "      <td>0</td>\n",
       "      <td>0</td>\n",
       "      <td>https://www.gravatar.com/avatar/0f8c4bde3d8f25...</td>\n",
       "      <td>10709837</td>\n",
       "    </tr>\n",
       "    <tr>\n",
       "      <th>4</th>\n",
       "      <td>157755</td>\n",
       "      <td>101</td>\n",
       "      <td>2017-04-18 12:56:17</td>\n",
       "      <td>Miki P</td>\n",
       "      <td>2019-08-12 17:02:21</td>\n",
       "      <td>None</td>\n",
       "      <td>None</td>\n",
       "      <td>None</td>\n",
       "      <td>1</td>\n",
       "      <td>9</td>\n",
       "      <td>0</td>\n",
       "      <td>https://www.gravatar.com/avatar/af088558cd81c5...</td>\n",
       "      <td>7969290</td>\n",
       "    </tr>\n",
       "  </tbody>\n",
       "</table>\n",
       "</div>"
      ],
      "text/plain": [
       "       Id  Reputation         CreationDate DisplayName       LastAccessDate  \\\n",
       "0  157607          31  2017-04-17 14:50:42  user157607  2019-07-23 16:44:08   \n",
       "1  157656         101  2017-04-17 20:08:20  user102859  2019-06-26 13:42:13   \n",
       "2  157704         133  2017-04-18 05:10:47      jupiar  2019-11-25 13:32:27   \n",
       "3  157709         155  2017-04-18 06:39:18      farmer  2019-02-17 19:44:24   \n",
       "4  157755         101  2017-04-18 12:56:17      Miki P  2019-08-12 17:02:21   \n",
       "\n",
       "  WebsiteUrl         Location  \\\n",
       "0       None             None   \n",
       "1       None             None   \n",
       "2       None  Shanghai, China   \n",
       "3       None             None   \n",
       "4       None             None   \n",
       "\n",
       "                                             AboutMe  Views  UpVotes  \\\n",
       "0                                               None      0        0   \n",
       "1                                               None      3        0   \n",
       "2  <p>Originally from the U.K, I have an Undergra...      1        1   \n",
       "3                                               None     16        0   \n",
       "4                                               None      1        9   \n",
       "\n",
       "   DownVotes                                    ProfileImageUrl  AccountId  \n",
       "0          0  https://www.gravatar.com/avatar/2efb161849efa4...   10705183  \n",
       "1          0      https://i.stack.imgur.com/eY4ka.jpg?s=128&g=1   10567606  \n",
       "2          0  https://www.gravatar.com/avatar/720e20205122c5...    9501631  \n",
       "3          0  https://www.gravatar.com/avatar/0f8c4bde3d8f25...   10709837  \n",
       "4          0  https://www.gravatar.com/avatar/af088558cd81c5...    7969290  "
      ]
     },
     "execution_count": 17,
     "metadata": {},
     "output_type": "execute_result"
    }
   ],
   "source": [
    "users.head()"
   ]
  },
  {
   "cell_type": "code",
   "execution_count": 18,
   "metadata": {},
   "outputs": [
    {
     "data": {
      "text/plain": [
       "Index(['Id', 'PostId', 'Score', 'Text', 'CreationDate', 'UserId'], dtype='object')"
      ]
     },
     "execution_count": 18,
     "metadata": {},
     "output_type": "execute_result"
    }
   ],
   "source": [
    "comments.columns"
   ]
  },
  {
   "cell_type": "code",
   "execution_count": 19,
   "metadata": {},
   "outputs": [
    {
     "data": {
      "text/html": [
       "<div>\n",
       "<style scoped>\n",
       "    .dataframe tbody tr th:only-of-type {\n",
       "        vertical-align: middle;\n",
       "    }\n",
       "\n",
       "    .dataframe tbody tr th {\n",
       "        vertical-align: top;\n",
       "    }\n",
       "\n",
       "    .dataframe thead th {\n",
       "        text-align: right;\n",
       "    }\n",
       "</style>\n",
       "<table border=\"1\" class=\"dataframe\">\n",
       "  <thead>\n",
       "    <tr style=\"text-align: right;\">\n",
       "      <th></th>\n",
       "      <th>Id</th>\n",
       "      <th>PostId</th>\n",
       "      <th>Score</th>\n",
       "      <th>Text</th>\n",
       "      <th>CreationDate</th>\n",
       "      <th>UserId</th>\n",
       "    </tr>\n",
       "  </thead>\n",
       "  <tbody>\n",
       "    <tr>\n",
       "      <th>0</th>\n",
       "      <td>723182</td>\n",
       "      <td>385124</td>\n",
       "      <td>0</td>\n",
       "      <td>@BenBolker I don't understand. The fit cannot ...</td>\n",
       "      <td>2019-01-01 00:06:39</td>\n",
       "      <td>78575</td>\n",
       "    </tr>\n",
       "    <tr>\n",
       "      <th>1</th>\n",
       "      <td>723183</td>\n",
       "      <td>385124</td>\n",
       "      <td>3</td>\n",
       "      <td>You can't add *less* than (`-min(y)`), but you...</td>\n",
       "      <td>2019-01-01 00:09:22</td>\n",
       "      <td>2126</td>\n",
       "    </tr>\n",
       "    <tr>\n",
       "      <th>2</th>\n",
       "      <td>723186</td>\n",
       "      <td>385137</td>\n",
       "      <td>0</td>\n",
       "      <td>nice. If you felt like doing the work it would...</td>\n",
       "      <td>2019-01-01 00:32:11</td>\n",
       "      <td>2126</td>\n",
       "    </tr>\n",
       "    <tr>\n",
       "      <th>3</th>\n",
       "      <td>723187</td>\n",
       "      <td>385137</td>\n",
       "      <td>0</td>\n",
       "      <td>i.e. `emdbook::curve3d(-sum(dnbinom(y,mu=mu,si...</td>\n",
       "      <td>2019-01-01 00:40:36</td>\n",
       "      <td>2126</td>\n",
       "    </tr>\n",
       "    <tr>\n",
       "      <th>4</th>\n",
       "      <td>723188</td>\n",
       "      <td>385134</td>\n",
       "      <td>0</td>\n",
       "      <td>Don't you mean \"so variance should be $\\sigma^...</td>\n",
       "      <td>2019-01-01 00:41:28</td>\n",
       "      <td>112141</td>\n",
       "    </tr>\n",
       "  </tbody>\n",
       "</table>\n",
       "</div>"
      ],
      "text/plain": [
       "       Id  PostId  Score                                               Text  \\\n",
       "0  723182  385124      0  @BenBolker I don't understand. The fit cannot ...   \n",
       "1  723183  385124      3  You can't add *less* than (`-min(y)`), but you...   \n",
       "2  723186  385137      0  nice. If you felt like doing the work it would...   \n",
       "3  723187  385137      0  i.e. `emdbook::curve3d(-sum(dnbinom(y,mu=mu,si...   \n",
       "4  723188  385134      0  Don't you mean \"so variance should be $\\sigma^...   \n",
       "\n",
       "          CreationDate  UserId  \n",
       "0  2019-01-01 00:06:39   78575  \n",
       "1  2019-01-01 00:09:22    2126  \n",
       "2  2019-01-01 00:32:11    2126  \n",
       "3  2019-01-01 00:40:36    2126  \n",
       "4  2019-01-01 00:41:28  112141  "
      ]
     },
     "execution_count": 19,
     "metadata": {},
     "output_type": "execute_result"
    }
   ],
   "source": [
    "comments.head()"
   ]
  },
  {
   "cell_type": "code",
   "execution_count": 20,
   "metadata": {},
   "outputs": [
    {
     "data": {
      "text/plain": [
       "Index(['Id', 'PostTypeId', 'AcceptedAnswerId', 'ParentId', 'CreationDate',\n",
       "       'Score', 'ViewCount', 'Body', 'OwnerUserId', 'OwnerDisplayName',\n",
       "       'LastEditorUserId', 'LastEditorDisplayName', 'LastEditDate',\n",
       "       'LastActivityDate', 'Title', 'Tags', 'AnswerCount', 'CommentCount',\n",
       "       'FavoriteCount', 'ClosedDate', 'CommunityOwnedDate'],\n",
       "      dtype='object')"
      ]
     },
     "execution_count": 20,
     "metadata": {},
     "output_type": "execute_result"
    }
   ],
   "source": [
    "posts.columns"
   ]
  },
  {
   "cell_type": "code",
   "execution_count": 47,
   "metadata": {},
   "outputs": [
    {
     "data": {
      "text/html": [
       "<div>\n",
       "<style scoped>\n",
       "    .dataframe tbody tr th:only-of-type {\n",
       "        vertical-align: middle;\n",
       "    }\n",
       "\n",
       "    .dataframe tbody tr th {\n",
       "        vertical-align: top;\n",
       "    }\n",
       "\n",
       "    .dataframe thead th {\n",
       "        text-align: right;\n",
       "    }\n",
       "</style>\n",
       "<table border=\"1\" class=\"dataframe\">\n",
       "  <thead>\n",
       "    <tr style=\"text-align: right;\">\n",
       "      <th></th>\n",
       "      <th>Id</th>\n",
       "      <th>PostTypeId</th>\n",
       "      <th>AcceptedAnswerId</th>\n",
       "      <th>ParentId</th>\n",
       "      <th>CreationDate</th>\n",
       "      <th>Score</th>\n",
       "      <th>ViewCount</th>\n",
       "      <th>Body</th>\n",
       "      <th>OwnerUserId</th>\n",
       "      <th>OwnerDisplayName</th>\n",
       "      <th>...</th>\n",
       "      <th>LastEditorDisplayName</th>\n",
       "      <th>LastEditDate</th>\n",
       "      <th>LastActivityDate</th>\n",
       "      <th>Title</th>\n",
       "      <th>Tags</th>\n",
       "      <th>AnswerCount</th>\n",
       "      <th>CommentCount</th>\n",
       "      <th>FavoriteCount</th>\n",
       "      <th>ClosedDate</th>\n",
       "      <th>CommunityOwnedDate</th>\n",
       "    </tr>\n",
       "  </thead>\n",
       "  <tbody>\n",
       "    <tr>\n",
       "      <th>0</th>\n",
       "      <td>423497</td>\n",
       "      <td>1</td>\n",
       "      <td>423511</td>\n",
       "      <td>0</td>\n",
       "      <td>2019-08-24 09:39:31</td>\n",
       "      <td>2</td>\n",
       "      <td>68</td>\n",
       "      <td>&lt;p&gt;From wikipedia &lt;a href=\"https://en.wikipedi...</td>\n",
       "      <td>64552</td>\n",
       "      <td>None</td>\n",
       "      <td>...</td>\n",
       "      <td>None</td>\n",
       "      <td>None</td>\n",
       "      <td>2019-08-24 11:38:54</td>\n",
       "      <td>When are biased estimators with lower MSE pref...</td>\n",
       "      <td>&lt;bias&gt;&lt;unbiased-estimator&gt;&lt;mse&gt;</td>\n",
       "      <td>1</td>\n",
       "      <td>0</td>\n",
       "      <td>1</td>\n",
       "      <td>2019-08-25 10:25:24</td>\n",
       "      <td>None</td>\n",
       "    </tr>\n",
       "    <tr>\n",
       "      <th>1</th>\n",
       "      <td>423498</td>\n",
       "      <td>1</td>\n",
       "      <td>0</td>\n",
       "      <td>0</td>\n",
       "      <td>2019-08-24 09:47:42</td>\n",
       "      <td>1</td>\n",
       "      <td>24</td>\n",
       "      <td>&lt;p&gt;I am currently doing local sensitivity anal...</td>\n",
       "      <td>87231</td>\n",
       "      <td>None</td>\n",
       "      <td>...</td>\n",
       "      <td>None</td>\n",
       "      <td>2019-09-06 12:52:32</td>\n",
       "      <td>2019-09-06 12:52:32</td>\n",
       "      <td>How to interpret the result from local sensiti...</td>\n",
       "      <td>&lt;sensitivity-analysis&gt;&lt;elasticity&gt;</td>\n",
       "      <td>1</td>\n",
       "      <td>0</td>\n",
       "      <td>0</td>\n",
       "      <td>None</td>\n",
       "      <td>None</td>\n",
       "    </tr>\n",
       "    <tr>\n",
       "      <th>2</th>\n",
       "      <td>423499</td>\n",
       "      <td>1</td>\n",
       "      <td>0</td>\n",
       "      <td>0</td>\n",
       "      <td>2019-08-24 09:48:26</td>\n",
       "      <td>1</td>\n",
       "      <td>56</td>\n",
       "      <td>&lt;p&gt;I'm an honours student in psychology doing ...</td>\n",
       "      <td>257207</td>\n",
       "      <td>None</td>\n",
       "      <td>...</td>\n",
       "      <td>None</td>\n",
       "      <td>None</td>\n",
       "      <td>2019-08-25 08:54:17</td>\n",
       "      <td>Power Analysis in G-Power - Mixed Model Anova</td>\n",
       "      <td>&lt;anova&gt;&lt;gpower&gt;</td>\n",
       "      <td>2</td>\n",
       "      <td>0</td>\n",
       "      <td>0</td>\n",
       "      <td>None</td>\n",
       "      <td>None</td>\n",
       "    </tr>\n",
       "    <tr>\n",
       "      <th>3</th>\n",
       "      <td>423500</td>\n",
       "      <td>2</td>\n",
       "      <td>0</td>\n",
       "      <td>215865</td>\n",
       "      <td>2019-08-24 09:57:01</td>\n",
       "      <td>0</td>\n",
       "      <td>0</td>\n",
       "      <td>&lt;p&gt;Maybe you can look this &lt;a href=\"https://me...</td>\n",
       "      <td>106606</td>\n",
       "      <td>None</td>\n",
       "      <td>...</td>\n",
       "      <td>None</td>\n",
       "      <td>None</td>\n",
       "      <td>2019-08-24 09:57:01</td>\n",
       "      <td>None</td>\n",
       "      <td>None</td>\n",
       "      <td>0</td>\n",
       "      <td>0</td>\n",
       "      <td>0</td>\n",
       "      <td>None</td>\n",
       "      <td>None</td>\n",
       "    </tr>\n",
       "    <tr>\n",
       "      <th>4</th>\n",
       "      <td>423502</td>\n",
       "      <td>2</td>\n",
       "      <td>0</td>\n",
       "      <td>423286</td>\n",
       "      <td>2019-08-24 10:44:52</td>\n",
       "      <td>3</td>\n",
       "      <td>0</td>\n",
       "      <td>&lt;blockquote&gt;\\n  &lt;p&gt;Q1) Is my approach valid?&lt;/...</td>\n",
       "      <td>220643</td>\n",
       "      <td>None</td>\n",
       "      <td>...</td>\n",
       "      <td>None</td>\n",
       "      <td>2019-08-24 12:13:46</td>\n",
       "      <td>2019-08-24 12:13:46</td>\n",
       "      <td>None</td>\n",
       "      <td>None</td>\n",
       "      <td>0</td>\n",
       "      <td>1</td>\n",
       "      <td>0</td>\n",
       "      <td>None</td>\n",
       "      <td>None</td>\n",
       "    </tr>\n",
       "  </tbody>\n",
       "</table>\n",
       "<p>5 rows × 21 columns</p>\n",
       "</div>"
      ],
      "text/plain": [
       "       Id  PostTypeId  AcceptedAnswerId  ParentId         CreationDate  Score  \\\n",
       "0  423497           1            423511         0  2019-08-24 09:39:31      2   \n",
       "1  423498           1                 0         0  2019-08-24 09:47:42      1   \n",
       "2  423499           1                 0         0  2019-08-24 09:48:26      1   \n",
       "3  423500           2                 0    215865  2019-08-24 09:57:01      0   \n",
       "4  423502           2                 0    423286  2019-08-24 10:44:52      3   \n",
       "\n",
       "   ViewCount                                               Body  OwnerUserId  \\\n",
       "0         68  <p>From wikipedia <a href=\"https://en.wikipedi...        64552   \n",
       "1         24  <p>I am currently doing local sensitivity anal...        87231   \n",
       "2         56  <p>I'm an honours student in psychology doing ...       257207   \n",
       "3          0  <p>Maybe you can look this <a href=\"https://me...       106606   \n",
       "4          0  <blockquote>\\n  <p>Q1) Is my approach valid?</...       220643   \n",
       "\n",
       "  OwnerDisplayName  ...  LastEditorDisplayName         LastEditDate  \\\n",
       "0             None  ...                   None                 None   \n",
       "1             None  ...                   None  2019-09-06 12:52:32   \n",
       "2             None  ...                   None                 None   \n",
       "3             None  ...                   None                 None   \n",
       "4             None  ...                   None  2019-08-24 12:13:46   \n",
       "\n",
       "      LastActivityDate                                              Title  \\\n",
       "0  2019-08-24 11:38:54  When are biased estimators with lower MSE pref...   \n",
       "1  2019-09-06 12:52:32  How to interpret the result from local sensiti...   \n",
       "2  2019-08-25 08:54:17      Power Analysis in G-Power - Mixed Model Anova   \n",
       "3  2019-08-24 09:57:01                                               None   \n",
       "4  2019-08-24 12:13:46                                               None   \n",
       "\n",
       "                                 Tags AnswerCount  CommentCount  \\\n",
       "0     <bias><unbiased-estimator><mse>           1             0   \n",
       "1  <sensitivity-analysis><elasticity>           1             0   \n",
       "2                     <anova><gpower>           2             0   \n",
       "3                                None           0             0   \n",
       "4                                None           0             1   \n",
       "\n",
       "   FavoriteCount           ClosedDate CommunityOwnedDate  \n",
       "0              1  2019-08-25 10:25:24               None  \n",
       "1              0                 None               None  \n",
       "2              0                 None               None  \n",
       "3              0                 None               None  \n",
       "4              0                 None               None  \n",
       "\n",
       "[5 rows x 21 columns]"
      ]
     },
     "execution_count": 47,
     "metadata": {},
     "output_type": "execute_result"
    }
   ],
   "source": [
    "posts.head()"
   ]
  },
  {
   "cell_type": "markdown",
   "metadata": {},
   "source": [
    "# Working with Sqlite and SQL Magic\n",
    "In this section let's spend a little time understanding a bit more about how we can work with Sqlite within Jupyter.\n",
    "\n",
    "Let's look at 2 ways to query the sqlite database: using SQL Magic or using Pandas.  Either way is fine for this project."
   ]
  },
  {
   "cell_type": "markdown",
   "metadata": {},
   "source": [
    "## Writing queries with SQL Magic\n",
    "\n",
    "You will now need to write some queries to get answers to the questions in the requirements.  \n",
    "\n",
    "For single-line queries, start the cell with `%sql` and simply enter your query:"
   ]
  },
  {
   "cell_type": "code",
   "execution_count": 21,
   "metadata": {},
   "outputs": [
    {
     "name": "stdout",
     "output_type": "stream",
     "text": [
      " * sqlite:///chatdata.db\n",
      "Done.\n"
     ]
    },
    {
     "data": {
      "text/html": [
       "<table>\n",
       "    <thead>\n",
       "        <tr>\n",
       "            <th>COUNT(*)</th>\n",
       "        </tr>\n",
       "    </thead>\n",
       "    <tbody>\n",
       "        <tr>\n",
       "            <td>50000</td>\n",
       "        </tr>\n",
       "    </tbody>\n",
       "</table>"
      ],
      "text/plain": [
       "[(50000,)]"
      ]
     },
     "execution_count": 21,
     "metadata": {},
     "output_type": "execute_result"
    }
   ],
   "source": [
    "# This is an example\n",
    "%sql SELECT COUNT(*) FROM comments"
   ]
  },
  {
   "cell_type": "markdown",
   "metadata": {},
   "source": [
    "For multi line sql statements use `%%sql` as follows. This tells Jupyter that *everything* in this cell should be interpreted as sql. So, NO comments other statements are allowed:"
   ]
  },
  {
   "cell_type": "code",
   "execution_count": 22,
   "metadata": {},
   "outputs": [
    {
     "name": "stdout",
     "output_type": "stream",
     "text": [
      " * sqlite:///chatdata.db\n",
      "Done.\n"
     ]
    },
    {
     "data": {
      "text/html": [
       "<table>\n",
       "    <thead>\n",
       "        <tr>\n",
       "            <th>Id</th>\n",
       "            <th>PostId</th>\n",
       "            <th>Score</th>\n",
       "            <th>Text</th>\n",
       "        </tr>\n",
       "    </thead>\n",
       "    <tbody>\n",
       "        <tr>\n",
       "            <td>723182</td>\n",
       "            <td>385124</td>\n",
       "            <td>0</td>\n",
       "            <td>@BenBolker I don&#x27;t understand. The fit cannot be done for the negative $y$. So intuitively I&#x27;d think that in order to retain the relativity of the data, one&#x27;d ideally &quot;mirror&quot; or &quot;flip&quot; it to the positive axis? Would it be possible to adjust every point individually? Basically e.g. take $abs(y_i)$ instead of minimums.</td>\n",
       "        </tr>\n",
       "        <tr>\n",
       "            <td>723183</td>\n",
       "            <td>385124</td>\n",
       "            <td>3</td>\n",
       "            <td>You can&#x27;t add *less* than (`-min(y)`), but you could add *more*. I&#x27;m going to stop answering now sorry, because **judging what the &#x27;best&#x27; approach is depends on much more context that we don&#x27;t have** (the goal of the analysis, why you need to fit an exponential, your level of computational and statistical sophistication and that of your audience, etc. ...)</td>\n",
       "        </tr>\n",
       "        <tr>\n",
       "            <td>723186</td>\n",
       "            <td>385137</td>\n",
       "            <td>0</td>\n",
       "            <td>nice. If you felt like doing the work it would be nice to generate an image/contour plot of log-likelihood as a function of (mu, theta) and show the lines corresponding to the two `size` values .</td>\n",
       "        </tr>\n",
       "        <tr>\n",
       "            <td>723187</td>\n",
       "            <td>385137</td>\n",
       "            <td>0</td>\n",
       "            <td>i.e. `emdbook::curve3d(-sum(dnbinom(y,mu=mu,size=size,log=TRUE)),<br>                 xlim=c(2,5),ylim=c(0.2,0.5),<br>                 varnames=c(&quot;mu&quot;,&quot;size&quot;),<br>                 sys3d=&quot;contour&quot;)<br>abline(h=3.2/7,col=&quot;red&quot;)<br>abline(h=fit.what$theta,col=&quot;blue&quot;)<br>` ... although doesn&#x27;t look this is actually the answer - mu-hat is independent of theta-hat ... ?</td>\n",
       "        </tr>\n",
       "        <tr>\n",
       "            <td>723188</td>\n",
       "            <td>385134</td>\n",
       "            <td>0</td>\n",
       "            <td>Don&#x27;t you mean &quot;so variance should be $\\sigma^2/(n\\mu^2)$&quot;</td>\n",
       "        </tr>\n",
       "    </tbody>\n",
       "</table>"
      ],
      "text/plain": [
       "[(723182, 385124, 0, '@BenBolker I don\\'t understand. The fit cannot be done for the negative $y$. So intuitively I\\'d think that in order to retain the relativity of the  ... (24 characters truncated) ... rror\" or \"flip\" it to the positive axis? Would it be possible to adjust every point individually? Basically e.g. take $abs(y_i)$ instead of minimums.'),\n",
       " (723183, 385124, 3, \"You can't add *less* than (`-min(y)`), but you could add *more*. I'm going to stop answering now sorry, because **judging what the 'best' approach is ... (60 characters truncated) ...  of the analysis, why you need to fit an exponential, your level of computational and statistical sophistication and that of your audience, etc. ...)\"),\n",
       " (723186, 385137, 0, 'nice. If you felt like doing the work it would be nice to generate an image/contour plot of log-likelihood as a function of (mu, theta) and show the lines corresponding to the two `size` values .'),\n",
       " (723187, 385137, 0, 'i.e. `emdbook::curve3d(-sum(dnbinom(y,mu=mu,size=size,log=TRUE)),\\n                 xlim=c(2,5),ylim=c(0.2,0.5),\\n                 varnames=c(\"mu\",\"s ... (57 characters truncated) ... ,col=\"red\")\\nabline(h=fit.what$theta,col=\"blue\")\\n` ... although doesn\\'t look this is actually the answer - mu-hat is independent of theta-hat ... ?'),\n",
       " (723188, 385134, 0, 'Don\\'t you mean \"so variance should be $\\\\sigma^2/(n\\\\mu^2)$\"')]"
      ]
     },
     "execution_count": 22,
     "metadata": {},
     "output_type": "execute_result"
    }
   ],
   "source": [
    "%%sql\n",
    "SELECT Id, PostId, Score, Text\n",
    "    FROM comments\n",
    "        LIMIT 5"
   ]
  },
  {
   "cell_type": "markdown",
   "metadata": {},
   "source": [
    "## Writing queries with Pandas\n",
    "Another way to write queries is to use pandas:"
   ]
  },
  {
   "cell_type": "code",
   "execution_count": 23,
   "metadata": {
    "scrolled": true
   },
   "outputs": [
    {
     "data": {
      "text/html": [
       "<div>\n",
       "<style scoped>\n",
       "    .dataframe tbody tr th:only-of-type {\n",
       "        vertical-align: middle;\n",
       "    }\n",
       "\n",
       "    .dataframe tbody tr th {\n",
       "        vertical-align: top;\n",
       "    }\n",
       "\n",
       "    .dataframe thead th {\n",
       "        text-align: right;\n",
       "    }\n",
       "</style>\n",
       "<table border=\"1\" class=\"dataframe\">\n",
       "  <thead>\n",
       "    <tr style=\"text-align: right;\">\n",
       "      <th></th>\n",
       "      <th>Id</th>\n",
       "      <th>PostId</th>\n",
       "      <th>Score</th>\n",
       "      <th>Text</th>\n",
       "    </tr>\n",
       "  </thead>\n",
       "  <tbody>\n",
       "    <tr>\n",
       "      <th>0</th>\n",
       "      <td>723182</td>\n",
       "      <td>385124</td>\n",
       "      <td>0</td>\n",
       "      <td>@BenBolker I don't understand. The fit cannot ...</td>\n",
       "    </tr>\n",
       "    <tr>\n",
       "      <th>1</th>\n",
       "      <td>723183</td>\n",
       "      <td>385124</td>\n",
       "      <td>3</td>\n",
       "      <td>You can't add *less* than (`-min(y)`), but you...</td>\n",
       "    </tr>\n",
       "    <tr>\n",
       "      <th>2</th>\n",
       "      <td>723186</td>\n",
       "      <td>385137</td>\n",
       "      <td>0</td>\n",
       "      <td>nice. If you felt like doing the work it would...</td>\n",
       "    </tr>\n",
       "    <tr>\n",
       "      <th>3</th>\n",
       "      <td>723187</td>\n",
       "      <td>385137</td>\n",
       "      <td>0</td>\n",
       "      <td>i.e. `emdbook::curve3d(-sum(dnbinom(y,mu=mu,si...</td>\n",
       "    </tr>\n",
       "    <tr>\n",
       "      <th>4</th>\n",
       "      <td>723188</td>\n",
       "      <td>385134</td>\n",
       "      <td>0</td>\n",
       "      <td>Don't you mean \"so variance should be $\\sigma^...</td>\n",
       "    </tr>\n",
       "  </tbody>\n",
       "</table>\n",
       "</div>"
      ],
      "text/plain": [
       "       Id  PostId  Score                                               Text\n",
       "0  723182  385124      0  @BenBolker I don't understand. The fit cannot ...\n",
       "1  723183  385124      3  You can't add *less* than (`-min(y)`), but you...\n",
       "2  723186  385137      0  nice. If you felt like doing the work it would...\n",
       "3  723187  385137      0  i.e. `emdbook::curve3d(-sum(dnbinom(y,mu=mu,si...\n",
       "4  723188  385134      0  Don't you mean \"so variance should be $\\sigma^..."
      ]
     },
     "execution_count": 23,
     "metadata": {},
     "output_type": "execute_result"
    }
   ],
   "source": [
    "sql = \"\"\"\n",
    "SELECT Id, PostId, Score, Text\n",
    "    FROM comments\n",
    "        LIMIT 5\n",
    "        \"\"\"\n",
    "result = pd.read_sql(sql, con)\n",
    "result"
   ]
  },
  {
   "cell_type": "markdown",
   "metadata": {},
   "source": [
    "# Creating Tables with Referential Integrity"
   ]
  },
  {
   "cell_type": "markdown",
   "metadata": {},
   "source": [
    "When we loaded the csv files into Sqlite database tables, Sqlite created the tables for us behind the scenes. Let's inspect this a bit more.\n",
    "\n",
    "We can see how Sqlite created the tables by querying the `sqlite_master` table, which Sqlite uses to keep track of what objects have been created in the database:"
   ]
  },
  {
   "cell_type": "code",
   "execution_count": 24,
   "metadata": {},
   "outputs": [
    {
     "name": "stdout",
     "output_type": "stream",
     "text": [
      " * sqlite:///chatdata.db\n",
      "Done.\n"
     ]
    },
    {
     "data": {
      "text/html": [
       "<table>\n",
       "    <thead>\n",
       "        <tr>\n",
       "            <th>sql</th>\n",
       "        </tr>\n",
       "    </thead>\n",
       "    <tbody>\n",
       "        <tr>\n",
       "            <td>CREATE TABLE &quot;posts&quot; (<br>&quot;Id&quot; INTEGER NOT NULL PRIMARY KEY,<br>&quot;PostTypeId&quot; INTEGER,<br>&quot;AcceptedAnswerId&quot; INTEGER,<br>&quot;ParentId&quot; INTEGER,<br>&quot;CreationDate&quot; TEXT,<br>&quot;Score&quot; INTEGER,<br>&quot;ViewCount&quot; INTEGER,<br>&quot;Body&quot; TEXT,<br>&quot;OwnerUserId&quot; INTEGER,<br>&quot;OwnerDisplayName&quot; TEXT,<br>&quot;LastEditorUserId&quot; INTEGER,<br>&quot;LastEditorDisplayName&quot; TEXT,<br>&quot;LastEditDate&quot; TEXT,<br>&quot;LastActivityDate&quot; TEXT,<br>&quot;Title&quot; TEXT,<br>&quot;Tags&quot; TEXT,<br>&quot;AnswerCount&quot; INTEGER,<br>&quot;CommentCount&quot; INTEGER,<br>&quot;FavoriteCount&quot; INTEGER,<br>&quot;ClosedDate&quot; TEXT,<br>&quot;CommunityOwnedDate&quot; TEXT<br>)</td>\n",
       "        </tr>\n",
       "        <tr>\n",
       "            <td>CREATE TABLE &quot;comments&quot; (<br>&quot;Id&quot; INTEGER,<br>  &quot;PostId&quot; INTEGER,<br>  &quot;Score&quot; INTEGER,<br>  &quot;Text&quot; TEXT,<br>  &quot;CreationDate&quot; TEXT,<br>  &quot;UserId&quot; INTEGER<br>)</td>\n",
       "        </tr>\n",
       "        <tr>\n",
       "            <td>CREATE TABLE &quot;users&quot; (<br>&quot;Id&quot; INTEGER,<br>  &quot;Reputation&quot; INTEGER,<br>  &quot;CreationDate&quot; TEXT,<br>  &quot;DisplayName&quot; TEXT,<br>  &quot;LastAccessDate&quot; TEXT,<br>  &quot;WebsiteUrl&quot; TEXT,<br>  &quot;Location&quot; TEXT,<br>  &quot;AboutMe&quot; TEXT,<br>  &quot;Views&quot; INTEGER,<br>  &quot;UpVotes&quot; INTEGER,<br>  &quot;DownVotes&quot; INTEGER,<br>  &quot;ProfileImageUrl&quot; TEXT,<br>  &quot;AccountId&quot; INTEGER<br>)</td>\n",
       "        </tr>\n",
       "    </tbody>\n",
       "</table>"
      ],
      "text/plain": [
       "[('CREATE TABLE \"posts\" (\\n\"Id\" INTEGER NOT NULL PRIMARY KEY,\\n\"PostTypeId\" INTEGER,\\n\"AcceptedAnswerId\" INTEGER,\\n\"ParentId\" INTEGER,\\n\"CreationDate\" T ... (221 characters truncated) ... tle\" TEXT,\\n\"Tags\" TEXT,\\n\"AnswerCount\" INTEGER,\\n\"CommentCount\" INTEGER,\\n\"FavoriteCount\" INTEGER,\\n\"ClosedDate\" TEXT,\\n\"CommunityOwnedDate\" TEXT\\n)',),\n",
       " ('CREATE TABLE \"comments\" (\\n\"Id\" INTEGER,\\n  \"PostId\" INTEGER,\\n  \"Score\" INTEGER,\\n  \"Text\" TEXT,\\n  \"CreationDate\" TEXT,\\n  \"UserId\" INTEGER\\n)',),\n",
       " ('CREATE TABLE \"users\" (\\n\"Id\" INTEGER,\\n  \"Reputation\" INTEGER,\\n  \"CreationDate\" TEXT,\\n  \"DisplayName\" TEXT,\\n  \"LastAccessDate\" TEXT,\\n  \"WebsiteUr ... (17 characters truncated) ... tion\" TEXT,\\n  \"AboutMe\" TEXT,\\n  \"Views\" INTEGER,\\n  \"UpVotes\" INTEGER,\\n  \"DownVotes\" INTEGER,\\n  \"ProfileImageUrl\" TEXT,\\n  \"AccountId\" INTEGER\\n)',)]"
      ]
     },
     "execution_count": 24,
     "metadata": {},
     "output_type": "execute_result"
    }
   ],
   "source": [
    "%%sql\n",
    "select sql from sqlite_master"
   ]
  },
  {
   "cell_type": "markdown",
   "metadata": {},
   "source": [
    "The above results show the `CREATE TABLE` statements that could be used by Sqlite to recreate the tables with the exact same structure.\n",
    "\n",
    "The problem with the CREATE TABLE statements above is that they don't enforce **referential integrity**.  In other words, they don't ensure that every UserId and PostId in the comments table refers to an actual UserId and PostId in the users and posts tables.  At the moment. we can insert any old number here, and even have multiple users with the same Id!  One of the advantages of working with relational databases is that they can enforce the correct uniqueness and relationships in the data, but at the moment we are not using that feature.  So let's fix that...\n",
    "\n",
    "First, let's drop the original tables:\n"
   ]
  },
  {
   "cell_type": "code",
   "execution_count": 25,
   "metadata": {},
   "outputs": [
    {
     "name": "stdout",
     "output_type": "stream",
     "text": [
      " * sqlite:///chatdata.db\n",
      "Done.\n",
      "Done.\n",
      "Done.\n"
     ]
    },
    {
     "data": {
      "text/plain": [
       "[]"
      ]
     },
     "execution_count": 25,
     "metadata": {},
     "output_type": "execute_result"
    }
   ],
   "source": [
    "%%sql\n",
    "DROP TABLE comments;\n",
    "DROP TABLE users;\n",
    "DROP TABLE posts;"
   ]
  },
  {
   "cell_type": "markdown",
   "metadata": {},
   "source": [
    "Prove that this worked by selecting the names of the tables back.  We should have no tables:"
   ]
  },
  {
   "cell_type": "code",
   "execution_count": 26,
   "metadata": {},
   "outputs": [
    {
     "name": "stdout",
     "output_type": "stream",
     "text": [
      " * sqlite:///chatdata.db\n",
      "Done.\n"
     ]
    },
    {
     "data": {
      "text/html": [
       "<table>\n",
       "    <thead>\n",
       "        <tr>\n",
       "            <th>name</th>\n",
       "        </tr>\n",
       "    </thead>\n",
       "    <tbody>\n",
       "    </tbody>\n",
       "</table>"
      ],
      "text/plain": [
       "[]"
      ]
     },
     "execution_count": 26,
     "metadata": {},
     "output_type": "execute_result"
    }
   ],
   "source": [
    "%%sql\n",
    "SELECT name FROM sqlite_master WHERE type='table'\n",
    "    ORDER BY name"
   ]
  },
  {
   "cell_type": "markdown",
   "metadata": {},
   "source": [
    "In Sqlite we need to enable the enforcement of foreign key constraints:"
   ]
  },
  {
   "cell_type": "code",
   "execution_count": 27,
   "metadata": {},
   "outputs": [
    {
     "name": "stdout",
     "output_type": "stream",
     "text": [
      " * sqlite:///chatdata.db\n",
      "Done.\n"
     ]
    },
    {
     "data": {
      "text/plain": [
       "[]"
      ]
     },
     "execution_count": 27,
     "metadata": {},
     "output_type": "execute_result"
    }
   ],
   "source": [
    "%%sql\n",
    "PRAGMA foreign_keys=ON;"
   ]
  },
  {
   "cell_type": "markdown",
   "metadata": {},
   "source": [
    "Now recreate the users table with a **primary key constraint** by copying the CREATE TABLE statement from above and adding the NOT NULL PRIMARY KEY clause to the Id:"
   ]
  },
  {
   "cell_type": "code",
   "execution_count": 28,
   "metadata": {},
   "outputs": [
    {
     "name": "stdout",
     "output_type": "stream",
     "text": [
      " * sqlite:///chatdata.db\n",
      "Done.\n"
     ]
    },
    {
     "data": {
      "text/plain": [
       "[]"
      ]
     },
     "execution_count": 28,
     "metadata": {},
     "output_type": "execute_result"
    }
   ],
   "source": [
    "%%sql\n",
    "CREATE TABLE \"users\" (\n",
    "\"Id\" INTEGER NOT NULL PRIMARY KEY,\n",
    "\"Reputation\" INTEGER,\n",
    "\"CreationDate\" TEXT,\n",
    "\"DisplayName\" TEXT,\n",
    "\"LastAccessDate\" TEXT,\n",
    "\"WebsiteUrl\" TEXT,\n",
    "\"Location\" TEXT,\n",
    "\"AboutMe\" TEXT,\n",
    "\"Views\" INTEGER,\n",
    "\"UpVotes\" INTEGER,\n",
    "\"DownVotes\" INTEGER,\n",
    "\"ProfileImageUrl\" TEXT,\n",
    "\"AccountId\" INTEGER\n",
    ");\n"
   ]
  },
  {
   "cell_type": "markdown",
   "metadata": {},
   "source": [
    "Now do the same for the posts table:\n",
    "\n",
    "<div style=\"background-color:lemonchiffon; border:1px solid; padding:5px; margin:5px; font-weight:bold\"><font color=\"crimson\">\n",
    "TODO: Complete the following code cell\n",
    "    </font></div>"
   ]
  },
  {
   "cell_type": "code",
   "execution_count": 29,
   "metadata": {},
   "outputs": [
    {
     "name": "stdout",
     "output_type": "stream",
     "text": [
      " * sqlite:///chatdata.db\n",
      "Done.\n"
     ]
    },
    {
     "data": {
      "text/plain": [
       "[]"
      ]
     },
     "execution_count": 29,
     "metadata": {},
     "output_type": "execute_result"
    }
   ],
   "source": [
    "\n",
    "%%sql\n",
    "CREATE TABLE \"posts\" (\n",
    "\"Id\" INTEGER NOT NULL PRIMARY KEY,\n",
    "\"PostTypeId\" INTEGER,\n",
    "\"AcceptedAnswerId\" INTEGER,\n",
    "\"ParentId\" INTEGER,\n",
    "\"CreationDate\" TEXT,\n",
    "\"Score\" INTEGER,\n",
    "\"ViewCount\" INTEGER,\n",
    "\"Body\" TEXT,\n",
    "\"OwnerUserId\" INTEGER,\n",
    "\"OwnerDisplayName\" TEXT,\n",
    "\"LastEditorUserId\" INTEGER,\n",
    "\"LastEditorDisplayName\" TEXT,\n",
    "\"LastEditDate\" TEXT,\n",
    "\"LastActivityDate\" TEXT,\n",
    "\"Title\" TEXT,\n",
    "\"Tags\" TEXT,\n",
    "\"AnswerCount\" INTEGER,\n",
    "\"CommentCount\" INTEGER,\n",
    "\"FavoriteCount\" INTEGER,\n",
    "\"ClosedDate\" TEXT,\n",
    "\"CommunityOwnedDate\" TEXT\n",
    ");"
   ]
  },
  {
   "cell_type": "markdown",
   "metadata": {},
   "source": [
    "Now for the comments table.  We need to add the primary key constraint on the id here as we did for users and posts, but we also need to add FOREIGN KEY constraints on the UserId and PostId. Read the documentation here and find our how to do that: https://www.sqlite.org/foreignkeys.html.  Then create the comments table with the correct constraints:\n",
    "\n",
    "<div style=\"background-color:lemonchiffon; border:1px solid; padding:5px; margin:5px; font-weight:bold\"><font color=\"crimson\">\n",
    "TODO: Complete the following code cell\n",
    "    </font></div>"
   ]
  },
  {
   "cell_type": "code",
   "execution_count": 30,
   "metadata": {},
   "outputs": [
    {
     "name": "stdout",
     "output_type": "stream",
     "text": [
      " * sqlite:///chatdata.db\n",
      "Done.\n"
     ]
    },
    {
     "data": {
      "text/plain": [
       "[]"
      ]
     },
     "execution_count": 30,
     "metadata": {},
     "output_type": "execute_result"
    }
   ],
   "source": [
    "%%sql\n",
    "CREATE TABLE \"comments\" (\n",
    "\"Id\" INTEGER NOT NULL PRIMARY KEY,\n",
    "\"PostId\" INTEGER,\n",
    "\"Score\" INTEGER,\n",
    "\"Text\" TEXT,\n",
    "\"CreationDate\" TEXT,\n",
    "\"UserId\" INTEGER,\n",
    "FOREIGN KEY(\"PostId\") REFERENCES posts(\"PostId\"),\n",
    "FOREIGN KEY(\"UserId\") REFERENCES users(\"UserId\")\n",
    ");"
   ]
  },
  {
   "cell_type": "markdown",
   "metadata": {},
   "source": [
    "Now we can re-insert the data into these constrained tables.  First users:"
   ]
  },
  {
   "cell_type": "code",
   "execution_count": 31,
   "metadata": {},
   "outputs": [
    {
     "data": {
      "text/plain": [
       "18412"
      ]
     },
     "execution_count": 31,
     "metadata": {},
     "output_type": "execute_result"
    }
   ],
   "source": [
    "# Insert data into the new users table\n",
    "users.to_sql('users', con, if_exists='append', index=False)"
   ]
  },
  {
   "cell_type": "markdown",
   "metadata": {},
   "source": [
    "Now posts:\n",
    "\n",
    "<div style=\"background-color:lemonchiffon; border:1px solid; padding:5px; margin:5px; font-weight:bold\"><font color=\"crimson\">\n",
    "TODO: Complete the following code cell\n",
    "    </font></div>"
   ]
  },
  {
   "cell_type": "code",
   "execution_count": 32,
   "metadata": {},
   "outputs": [
    {
     "data": {
      "text/plain": [
       "42234"
      ]
     },
     "execution_count": 32,
     "metadata": {},
     "output_type": "execute_result"
    }
   ],
   "source": [
    "# Insert data into the new posts table\n",
    "# TODO\n",
    "posts.to_sql('posts', con, if_exists='append', index=False)"
   ]
  },
  {
   "cell_type": "markdown",
   "metadata": {},
   "source": [
    "Finally comments, which references the users and posts tables:\n",
    "\n",
    "<div style=\"background-color:lemonchiffon; border:1px solid; padding:5px; margin:5px; font-weight:bold\"><font color=\"crimson\">\n",
    "TODO: Complete the following code cell\n",
    "    </font></div>"
   ]
  },
  {
   "cell_type": "code",
   "execution_count": 33,
   "metadata": {},
   "outputs": [
    {
     "data": {
      "text/plain": [
       "50000"
      ]
     },
     "execution_count": 33,
     "metadata": {},
     "output_type": "execute_result"
    }
   ],
   "source": [
    "# Insert data into the new comments table\n",
    "# TODO\n",
    "comments.to_sql('comments', con, if_exists='append', index=False)"
   ]
  },
  {
   "cell_type": "markdown",
   "metadata": {},
   "source": [
    "Now check that we have the 3 new table definitions in Sqlite:"
   ]
  },
  {
   "cell_type": "code",
   "execution_count": 34,
   "metadata": {},
   "outputs": [
    {
     "name": "stdout",
     "output_type": "stream",
     "text": [
      " * sqlite:///chatdata.db\n",
      "Done.\n"
     ]
    },
    {
     "data": {
      "text/html": [
       "<table>\n",
       "    <thead>\n",
       "        <tr>\n",
       "            <th>name</th>\n",
       "        </tr>\n",
       "    </thead>\n",
       "    <tbody>\n",
       "        <tr>\n",
       "            <td>comments</td>\n",
       "        </tr>\n",
       "        <tr>\n",
       "            <td>posts</td>\n",
       "        </tr>\n",
       "        <tr>\n",
       "            <td>users</td>\n",
       "        </tr>\n",
       "    </tbody>\n",
       "</table>"
      ],
      "text/plain": [
       "[('comments',), ('posts',), ('users',)]"
      ]
     },
     "execution_count": 34,
     "metadata": {},
     "output_type": "execute_result"
    }
   ],
   "source": [
    "%%sql\n",
    "SELECT name FROM sqlite_master WHERE type='table'\n",
    "    ORDER BY name"
   ]
  },
  {
   "cell_type": "markdown",
   "metadata": {},
   "source": [
    "We now have all the data in tables in Sqlite and the tables will enforce the referential integrity."
   ]
  },
  {
   "cell_type": "markdown",
   "metadata": {},
   "source": [
    "# Example Query and Pattern for Tasks 2 and 3\n",
    "\n",
    "As you work through the next tasks, you will need to:\n",
    "\n",
    "1. Prepare the Sqlite query to answer the question\n",
    "2. Test it\n",
    "3. Insert it into the `queries` table, so we have a record of it for others.\n",
    "\n",
    "This is the process that we want you to follow for this project while completing it. "
   ]
  },
  {
   "cell_type": "markdown",
   "metadata": {},
   "source": [
    "Let's see an example of this by answering the following question:\n",
    "\n",
    "**Which 5 users have viewed the most times and what is the sum of those views per user?**\n",
    "\n",
    "## Prepare the Sqlite query\n",
    "\n",
    "First, let's write the query:"
   ]
  },
  {
   "cell_type": "code",
   "execution_count": 35,
   "metadata": {},
   "outputs": [
    {
     "data": {
      "text/html": [
       "<div>\n",
       "<style scoped>\n",
       "    .dataframe tbody tr th:only-of-type {\n",
       "        vertical-align: middle;\n",
       "    }\n",
       "\n",
       "    .dataframe tbody tr th {\n",
       "        vertical-align: top;\n",
       "    }\n",
       "\n",
       "    .dataframe thead th {\n",
       "        text-align: right;\n",
       "    }\n",
       "</style>\n",
       "<table border=\"1\" class=\"dataframe\">\n",
       "  <thead>\n",
       "    <tr style=\"text-align: right;\">\n",
       "      <th></th>\n",
       "      <th>Id</th>\n",
       "      <th>TotalViews</th>\n",
       "    </tr>\n",
       "  </thead>\n",
       "  <tbody>\n",
       "    <tr>\n",
       "      <th>0</th>\n",
       "      <td>919</td>\n",
       "      <td>85180</td>\n",
       "    </tr>\n",
       "    <tr>\n",
       "      <th>1</th>\n",
       "      <td>4253</td>\n",
       "      <td>35119</td>\n",
       "    </tr>\n",
       "    <tr>\n",
       "      <th>2</th>\n",
       "      <td>805</td>\n",
       "      <td>34637</td>\n",
       "    </tr>\n",
       "    <tr>\n",
       "      <th>3</th>\n",
       "      <td>7290</td>\n",
       "      <td>32639</td>\n",
       "    </tr>\n",
       "    <tr>\n",
       "      <th>4</th>\n",
       "      <td>3277</td>\n",
       "      <td>29255</td>\n",
       "    </tr>\n",
       "  </tbody>\n",
       "</table>\n",
       "</div>"
      ],
      "text/plain": [
       "     Id  TotalViews\n",
       "0   919       85180\n",
       "1  4253       35119\n",
       "2   805       34637\n",
       "3  7290       32639\n",
       "4  3277       29255"
      ]
     },
     "execution_count": 35,
     "metadata": {},
     "output_type": "execute_result"
    }
   ],
   "source": [
    "sql = \"\"\"\n",
    "SELECT Id, SUM(Views) AS TotalViews\n",
    "    FROM Users\n",
    "        GROUP BY Id\n",
    "            ORDER BY TotalViews DESC\n",
    "                LIMIT 5\n",
    "                \"\"\"\n",
    "result = pd.read_sql(sql, con) # con is the connection to the database\n",
    "result"
   ]
  },
  {
   "cell_type": "markdown",
   "metadata": {},
   "source": [
    "## Test the query\n",
    "You can optionally prove the query worked by performing the same query in Pandas:"
   ]
  },
  {
   "cell_type": "code",
   "execution_count": 36,
   "metadata": {},
   "outputs": [
    {
     "data": {
      "text/plain": [
       "Id\n",
       "919     85180\n",
       "4253    35119\n",
       "805     34637\n",
       "7290    32639\n",
       "3277    29255\n",
       "Name: Views, dtype: int64"
      ]
     },
     "execution_count": 36,
     "metadata": {},
     "output_type": "execute_result"
    }
   ],
   "source": [
    "results = users.groupby(['Id']).sum().sort_values('Views', ascending = False)[:5]\n",
    "results['Views']"
   ]
  },
  {
   "cell_type": "markdown",
   "metadata": {},
   "source": [
    "## Insert the query into the `queries` table\n",
    "Now we need to put this query into the `queries` table in sqlite. Remember we want these queries to be accessible to everybody that should have access to them. We do not want people writing and rewriting the same queires over and over again. The easiest thing to do is create a dictionary with the values and insert these into the queries table.  Note that the values are provided as lists as we are inserting a list of values (i.e. a number of rows) into the table.  In this case the number of rows is 1, so we have lists of 1 item.\n",
    "\n",
    "So here, we have a column called 'task' with a list of values, a column called 'action' with a list of values, etc."
   ]
  },
  {
   "cell_type": "code",
   "execution_count": 37,
   "metadata": {},
   "outputs": [
    {
     "data": {
      "text/plain": [
       "{'task': ['Single Table Queries'],\n",
       " 'action': ['Which 5 users have viewed the most times and what is the sum of those views per user?'],\n",
       " 'query': ['\\nSELECT Id, SUM(Views) AS TotalViews\\n    FROM Users\\n        GROUP BY Id\\n            ORDER BY TotalViews DESC\\n                LIMIT 5\\n                ']}"
      ]
     },
     "execution_count": 37,
     "metadata": {},
     "output_type": "execute_result"
    }
   ],
   "source": [
    "query_dict = {\n",
    "              'task': ['Single Table Queries'],\n",
    "              'action': ['Which 5 users have viewed the most times and what is the sum of those views per user?'],\n",
    "              'query': [sql]\n",
    "             }\n",
    "query_dict"
   ]
  },
  {
   "cell_type": "markdown",
   "metadata": {},
   "source": [
    "Now that you have the data structure (query_dict) containing the data, create a pandas dataframe that holds those values:"
   ]
  },
  {
   "cell_type": "code",
   "execution_count": 38,
   "metadata": {},
   "outputs": [
    {
     "data": {
      "text/html": [
       "<div>\n",
       "<style scoped>\n",
       "    .dataframe tbody tr th:only-of-type {\n",
       "        vertical-align: middle;\n",
       "    }\n",
       "\n",
       "    .dataframe tbody tr th {\n",
       "        vertical-align: top;\n",
       "    }\n",
       "\n",
       "    .dataframe thead th {\n",
       "        text-align: right;\n",
       "    }\n",
       "</style>\n",
       "<table border=\"1\" class=\"dataframe\">\n",
       "  <thead>\n",
       "    <tr style=\"text-align: right;\">\n",
       "      <th></th>\n",
       "      <th>task</th>\n",
       "      <th>action</th>\n",
       "      <th>query</th>\n",
       "    </tr>\n",
       "  </thead>\n",
       "  <tbody>\n",
       "    <tr>\n",
       "      <th>0</th>\n",
       "      <td>Single Table Queries</td>\n",
       "      <td>Which 5 users have viewed the most times and w...</td>\n",
       "      <td>\\nSELECT Id, SUM(Views) AS TotalViews\\n    FRO...</td>\n",
       "    </tr>\n",
       "  </tbody>\n",
       "</table>\n",
       "</div>"
      ],
      "text/plain": [
       "                   task                                             action  \\\n",
       "0  Single Table Queries  Which 5 users have viewed the most times and w...   \n",
       "\n",
       "                                               query  \n",
       "0  \\nSELECT Id, SUM(Views) AS TotalViews\\n    FRO...  "
      ]
     },
     "execution_count": 38,
     "metadata": {},
     "output_type": "execute_result"
    }
   ],
   "source": [
    "queries = pd.DataFrame(query_dict)\n",
    "queries"
   ]
  },
  {
   "cell_type": "markdown",
   "metadata": {},
   "source": [
    "Now load that pandas dataframe (queries) into the sqlite table called queries. In this case, you use append NOT replace. You will be adding to this tables as you go thru this project."
   ]
  },
  {
   "cell_type": "code",
   "execution_count": 39,
   "metadata": {},
   "outputs": [
    {
     "data": {
      "text/html": [
       "<div>\n",
       "<style scoped>\n",
       "    .dataframe tbody tr th:only-of-type {\n",
       "        vertical-align: middle;\n",
       "    }\n",
       "\n",
       "    .dataframe tbody tr th {\n",
       "        vertical-align: top;\n",
       "    }\n",
       "\n",
       "    .dataframe thead th {\n",
       "        text-align: right;\n",
       "    }\n",
       "</style>\n",
       "<table border=\"1\" class=\"dataframe\">\n",
       "  <thead>\n",
       "    <tr style=\"text-align: right;\">\n",
       "      <th></th>\n",
       "      <th>task</th>\n",
       "      <th>action</th>\n",
       "      <th>query</th>\n",
       "    </tr>\n",
       "  </thead>\n",
       "  <tbody>\n",
       "    <tr>\n",
       "      <th>0</th>\n",
       "      <td>Single Table Queries</td>\n",
       "      <td>Which 5 users have viewed the most times and w...</td>\n",
       "      <td>\\nSELECT Id, SUM(Views) AS TotalViews\\n    FRO...</td>\n",
       "    </tr>\n",
       "  </tbody>\n",
       "</table>\n",
       "</div>"
      ],
      "text/plain": [
       "                   task                                             action  \\\n",
       "0  Single Table Queries  Which 5 users have viewed the most times and w...   \n",
       "\n",
       "                                               query  \n",
       "0  \\nSELECT Id, SUM(Views) AS TotalViews\\n    FRO...  "
      ]
     },
     "execution_count": 39,
     "metadata": {},
     "output_type": "execute_result"
    }
   ],
   "source": [
    "# load query into sqlite\n",
    "queries.to_sql('queries', con, if_exists='append', index=False)\n",
    "\n",
    "# read back in to prove that it worked\n",
    "sql = 'SELECT * FROM queries'\n",
    "queries = pd.read_sql(sql, con)\n",
    "queries.head()"
   ]
  },
  {
   "cell_type": "markdown",
   "metadata": {},
   "source": [
    "It is likely that as you iterate thru this notebook you will create some duplicate entries in the query table. Not a big deal. Just tell sql or pandas (much easier in pandas) to drop the duplicates! If you drop the duplicates in Pandas you will have to write the entire dataframe back to sqlite. Otherwise it is changed in memory in Pandas but NOT in sqlite on the disk drive (or SDD). Just do this drop at the end of this notebook so that you are not constantly dealing with this. "
   ]
  },
  {
   "cell_type": "markdown",
   "metadata": {},
   "source": [
    "So, to summarise, as you go through the following tasks you need to:\n",
    "\n",
    "- answer the question in sql\n",
    "- prove it in pandas (if you want to)\n",
    "- put the query into the queries table"
   ]
  },
  {
   "cell_type": "markdown",
   "metadata": {},
   "source": [
    "# Task 1 (continued): Insert the CREATE TABLE Statements into the `queries` Table\n",
    "\n",
    "Now that we understand how to populate the `queries` table, let's insert the CREATE TABLE statements into it.  First let's define a function to help us insert into the queries table:\n"
   ]
  },
  {
   "cell_type": "code",
   "execution_count": 41,
   "metadata": {},
   "outputs": [],
   "source": [
    "# Define a function that will insert into the queries table\n",
    "def store_query(task, action, query):\n",
    "    query_dict = {\n",
    "                  'task': [task],\n",
    "                  'action': [action],\n",
    "                  'query': [query]\n",
    "                 }\n",
    "\n",
    "    # put query into the query_dict\n",
    "    queries = pd.DataFrame(query_dict)\n",
    "\n",
    "    # load query into sqlite\n",
    "    queries.to_sql('queries', con, if_exists='append', index=False)    "
   ]
  },
  {
   "cell_type": "markdown",
   "metadata": {},
   "source": [
    "Now we can specify the queries and call the above function to store them.  The first one is done for you."
   ]
  },
  {
   "cell_type": "code",
   "execution_count": 42,
   "metadata": {},
   "outputs": [],
   "source": [
    "sql = \"\"\"\n",
    "    CREATE TABLE \"comments\" (\n",
    "    \"Id\" INTEGER,\n",
    "    \"PostId\" INTEGER,\n",
    "    \"Score\" INTEGER,\n",
    "    \"Text\" TEXT,\n",
    "    \"CreationDate\" TEXT,\n",
    "    \"UserId\" INTEGER\n",
    "    )\n",
    "    \"\"\"\n",
    "store_query(\"Task 1\", \"Create table comments\", sql)"
   ]
  },
  {
   "cell_type": "markdown",
   "metadata": {},
   "source": [
    "Let's prove it works by selecting back from the queries table:"
   ]
  },
  {
   "cell_type": "code",
   "execution_count": 43,
   "metadata": {},
   "outputs": [
    {
     "name": "stdout",
     "output_type": "stream",
     "text": [
      " * sqlite:///chatdata.db\n",
      "Done.\n"
     ]
    },
    {
     "data": {
      "text/html": [
       "<table>\n",
       "    <thead>\n",
       "        <tr>\n",
       "            <th>task</th>\n",
       "            <th>action</th>\n",
       "            <th>query</th>\n",
       "        </tr>\n",
       "    </thead>\n",
       "    <tbody>\n",
       "        <tr>\n",
       "            <td>Single Table Queries</td>\n",
       "            <td>Which 5 users have viewed the most times and what is the sum of those views per user?</td>\n",
       "            <td><br>SELECT Id, SUM(Views) AS TotalViews<br>    FROM Users<br>        GROUP BY Id<br>            ORDER BY TotalViews DESC<br>                LIMIT 5<br>                </td>\n",
       "        </tr>\n",
       "        <tr>\n",
       "            <td>Task 1</td>\n",
       "            <td>Create table comments</td>\n",
       "            <td><br>    CREATE TABLE &quot;comments&quot; (<br>    &quot;Id&quot; INTEGER,<br>    &quot;PostId&quot; INTEGER,<br>    &quot;Score&quot; INTEGER,<br>    &quot;Text&quot; TEXT,<br>    &quot;CreationDate&quot; TEXT,<br>    &quot;UserId&quot; INTEGER<br>    )<br>    </td>\n",
       "        </tr>\n",
       "    </tbody>\n",
       "</table>"
      ],
      "text/plain": [
       "[('Single Table Queries', 'Which 5 users have viewed the most times and what is the sum of those views per user?', '\\nSELECT Id, SUM(Views) AS TotalViews\\n    FROM Users\\n        GROUP BY Id\\n            ORDER BY TotalViews DESC\\n                LIMIT 5\\n                '),\n",
       " ('Task 1', 'Create table comments', '\\n    CREATE TABLE \"comments\" (\\n    \"Id\" INTEGER,\\n    \"PostId\" INTEGER,\\n    \"Score\" INTEGER,\\n    \"Text\" TEXT,\\n    \"CreationDate\" TEXT,\\n    \"UserId\" INTEGER\\n    )\\n    ')]"
      ]
     },
     "execution_count": 43,
     "metadata": {},
     "output_type": "execute_result"
    }
   ],
   "source": [
    "# Prove it works\n",
    "%sql SELECT * FROM queries"
   ]
  },
  {
   "cell_type": "markdown",
   "metadata": {},
   "source": [
    "## Insert the other CREATE TABLE statements into the `queries` table.\n",
    "Follow the above pattern to complete these code cells:\n",
    "\n",
    "<div style=\"background-color:lemonchiffon; border:1px solid; padding:5px; margin:5px; font-weight:bold\"><font color=\"crimson\">\n",
    "TODO: Complete the following code cells\n",
    "    </font></div>"
   ]
  },
  {
   "cell_type": "code",
   "execution_count": 51,
   "metadata": {},
   "outputs": [],
   "source": [
    "sql = \"\"\"\n",
    "    CREATE TABLE \"posts\" (\n",
    "\"Id\" INTEGER NOT NULL PRIMARY KEY,\n",
    "\"PostTypeId\" INTEGER,\n",
    "\"AcceptedAnswerId\" INTEGER,\n",
    "\"ParentId\" INTEGER,\n",
    "\"CreationDate\" TEXT,\n",
    "\"Score\" INTEGER,\n",
    "\"ViewCount\" INTEGER,\n",
    "\"Body\" TEXT,\n",
    "\"OwnerUserId\" INTEGER,\n",
    "\"OwnerDisplayName\" TEXT,\n",
    "\"LastEditorUserId\" INTEGER,\n",
    "\"LastEditorDisplayName\" TEXT,\n",
    "\"LastEditDate\" TEXT,\n",
    "\"LastActivityDate\" TEXT,\n",
    "\"Title\" TEXT,\n",
    "\"Tags\" TEXT,\n",
    "\"AnswerCount\" INTEGER,\n",
    "\"CommentCount\" INTEGER,\n",
    "\"FavoriteCount\" INTEGER,\n",
    "\"ClosedDate\" TEXT,\n",
    "\"CommunityOwnedDate\" TEXT\n",
    ");\n",
    "    \"\"\"\n",
    "store_query(\"Task 2\", \"Create table posts\", sql)"
   ]
  },
  {
   "cell_type": "code",
   "execution_count": 52,
   "metadata": {},
   "outputs": [
    {
     "name": "stdout",
     "output_type": "stream",
     "text": [
      " * sqlite:///chatdata.db\n",
      "Done.\n"
     ]
    },
    {
     "data": {
      "text/html": [
       "<table>\n",
       "    <thead>\n",
       "        <tr>\n",
       "            <th>task</th>\n",
       "            <th>action</th>\n",
       "            <th>query</th>\n",
       "        </tr>\n",
       "    </thead>\n",
       "    <tbody>\n",
       "        <tr>\n",
       "            <td>Single Table Queries</td>\n",
       "            <td>Which 5 users have viewed the most times and what is the sum of those views per user?</td>\n",
       "            <td><br>SELECT Id, SUM(Views) AS TotalViews<br>    FROM Users<br>        GROUP BY Id<br>            ORDER BY TotalViews DESC<br>                LIMIT 5<br>                </td>\n",
       "        </tr>\n",
       "        <tr>\n",
       "            <td>Task 1</td>\n",
       "            <td>Create table comments</td>\n",
       "            <td><br>    CREATE TABLE &quot;comments&quot; (<br>    &quot;Id&quot; INTEGER,<br>    &quot;PostId&quot; INTEGER,<br>    &quot;Score&quot; INTEGER,<br>    &quot;Text&quot; TEXT,<br>    &quot;CreationDate&quot; TEXT,<br>    &quot;UserId&quot; INTEGER<br>    )<br>    </td>\n",
       "        </tr>\n",
       "        <tr>\n",
       "            <td>Task 2</td>\n",
       "            <td>Create table posts</td>\n",
       "            <td><br>    CREATE TABLE &quot;posts&quot; (<br>&quot;Id&quot; INTEGER NOT NULL PRIMARY KEY,<br>&quot;PostTypeId&quot; INTEGER,<br>&quot;AcceptedAnswerId&quot; INTEGER,<br>&quot;ParentId&quot; INTEGER,<br>&quot;CreationDate&quot; TEXT,<br>&quot;Score&quot; INTEGER,<br>&quot;ViewCount&quot; INTEGER,<br>&quot;Body&quot; TEXT,<br>&quot;OwnerUserId&quot; INTEGER,<br>&quot;OwnerDisplayName&quot; TEXT,<br>&quot;LastEditorUserId&quot; INTEGER,<br>&quot;LastEditorDisplayName&quot; TEXT,<br>&quot;LastEditDate&quot; TEXT,<br>&quot;LastActivityDate&quot; TEXT,<br>&quot;Title&quot; TEXT,<br>&quot;Tags&quot; TEXT,<br>&quot;AnswerCount&quot; INTEGER,<br>&quot;CommentCount&quot; INTEGER,<br>&quot;FavoriteCount&quot; INTEGER,<br>&quot;ClosedDate&quot; TEXT,<br>&quot;CommunityOwnedDate&quot; TEXT<br>);<br>    </td>\n",
       "        </tr>\n",
       "    </tbody>\n",
       "</table>"
      ],
      "text/plain": [
       "[('Single Table Queries', 'Which 5 users have viewed the most times and what is the sum of those views per user?', '\\nSELECT Id, SUM(Views) AS TotalViews\\n    FROM Users\\n        GROUP BY Id\\n            ORDER BY TotalViews DESC\\n                LIMIT 5\\n                '),\n",
       " ('Task 1', 'Create table comments', '\\n    CREATE TABLE \"comments\" (\\n    \"Id\" INTEGER,\\n    \"PostId\" INTEGER,\\n    \"Score\" INTEGER,\\n    \"Text\" TEXT,\\n    \"CreationDate\" TEXT,\\n    \"UserId\" INTEGER\\n    )\\n    '),\n",
       " ('Task 2', 'Create table posts', '\\n    CREATE TABLE \"posts\" (\\n\"Id\" INTEGER NOT NULL PRIMARY KEY,\\n\"PostTypeId\" INTEGER,\\n\"AcceptedAnswerId\" INTEGER,\\n\"ParentId\" INTEGER,\\n\"CreationD ... (234 characters truncated) ... XT,\\n\"Tags\" TEXT,\\n\"AnswerCount\" INTEGER,\\n\"CommentCount\" INTEGER,\\n\"FavoriteCount\" INTEGER,\\n\"ClosedDate\" TEXT,\\n\"CommunityOwnedDate\" TEXT\\n);\\n    ')]"
      ]
     },
     "execution_count": 52,
     "metadata": {},
     "output_type": "execute_result"
    }
   ],
   "source": [
    "%sql SELECT * FROM queries"
   ]
  },
  {
   "cell_type": "code",
   "execution_count": 55,
   "metadata": {},
   "outputs": [],
   "source": [
    "\n",
    "sql = \"\"\"\n",
    "    CREATE TABLE \"users\" (\n",
    "\"Id\" INTEGER NOT NULL PRIMARY KEY,\n",
    "\"Reputation\" INTEGER,\n",
    "\"CreationDate\" TEXT,\n",
    "\"DisplayName\" TEXT,\n",
    "\"LastAccessDate\" TEXT,\n",
    "\"WebsiteUrl\" TEXT,\n",
    "\"Location\" TEXT,\n",
    "\"AboutMe\" TEXT,\n",
    "\"Views\" INTEGER,\n",
    "\"UpVotes\" INTEGER,\n",
    "\"DownVotes\" INTEGER,\n",
    "\"ProfileImageUrl\" TEXT,\n",
    "\"AccountId\" INTEGER\n",
    ");\n",
    "    \"\"\"\n",
    "store_query(\"Task 3\", \"Create table users\", sql)"
   ]
  },
  {
   "cell_type": "code",
   "execution_count": 56,
   "metadata": {},
   "outputs": [
    {
     "name": "stdout",
     "output_type": "stream",
     "text": [
      " * sqlite:///chatdata.db\n",
      "Done.\n"
     ]
    },
    {
     "data": {
      "text/html": [
       "<table>\n",
       "    <thead>\n",
       "        <tr>\n",
       "            <th>task</th>\n",
       "            <th>action</th>\n",
       "            <th>query</th>\n",
       "        </tr>\n",
       "    </thead>\n",
       "    <tbody>\n",
       "        <tr>\n",
       "            <td>Single Table Queries</td>\n",
       "            <td>Which 5 users have viewed the most times and what is the sum of those views per user?</td>\n",
       "            <td><br>SELECT Id, SUM(Views) AS TotalViews<br>    FROM Users<br>        GROUP BY Id<br>            ORDER BY TotalViews DESC<br>                LIMIT 5<br>                </td>\n",
       "        </tr>\n",
       "        <tr>\n",
       "            <td>Task 1</td>\n",
       "            <td>Create table comments</td>\n",
       "            <td><br>    CREATE TABLE &quot;comments&quot; (<br>    &quot;Id&quot; INTEGER,<br>    &quot;PostId&quot; INTEGER,<br>    &quot;Score&quot; INTEGER,<br>    &quot;Text&quot; TEXT,<br>    &quot;CreationDate&quot; TEXT,<br>    &quot;UserId&quot; INTEGER<br>    )<br>    </td>\n",
       "        </tr>\n",
       "        <tr>\n",
       "            <td>Task 2</td>\n",
       "            <td>Create table posts</td>\n",
       "            <td><br>    CREATE TABLE &quot;posts&quot; (<br>&quot;Id&quot; INTEGER NOT NULL PRIMARY KEY,<br>&quot;PostTypeId&quot; INTEGER,<br>&quot;AcceptedAnswerId&quot; INTEGER,<br>&quot;ParentId&quot; INTEGER,<br>&quot;CreationDate&quot; TEXT,<br>&quot;Score&quot; INTEGER,<br>&quot;ViewCount&quot; INTEGER,<br>&quot;Body&quot; TEXT,<br>&quot;OwnerUserId&quot; INTEGER,<br>&quot;OwnerDisplayName&quot; TEXT,<br>&quot;LastEditorUserId&quot; INTEGER,<br>&quot;LastEditorDisplayName&quot; TEXT,<br>&quot;LastEditDate&quot; TEXT,<br>&quot;LastActivityDate&quot; TEXT,<br>&quot;Title&quot; TEXT,<br>&quot;Tags&quot; TEXT,<br>&quot;AnswerCount&quot; INTEGER,<br>&quot;CommentCount&quot; INTEGER,<br>&quot;FavoriteCount&quot; INTEGER,<br>&quot;ClosedDate&quot; TEXT,<br>&quot;CommunityOwnedDate&quot; TEXT<br>);<br>    </td>\n",
       "        </tr>\n",
       "        <tr>\n",
       "            <td>Task 2</td>\n",
       "            <td>Create table posts</td>\n",
       "            <td><br>    CREATE TABLE &quot;users&quot; (<br>&quot;Id&quot; INTEGER NOT NULL PRIMARY KEY,<br>&quot;Reputation&quot; INTEGER,<br>&quot;CreationDate&quot; TEXT,<br>&quot;DisplayName&quot; TEXT,<br>&quot;LastAccessDate&quot; TEXT,<br>&quot;WebsiteUrl&quot; TEXT,<br>&quot;Location&quot; TEXT,<br>&quot;AboutMe&quot; TEXT,<br>&quot;Views&quot; INTEGER,<br>&quot;UpVotes&quot; INTEGER,<br>&quot;DownVotes&quot; INTEGER,<br>&quot;ProfileImageUrl&quot; TEXT,<br>&quot;AccountId&quot; INTEGER<br>);<br>    </td>\n",
       "        </tr>\n",
       "        <tr>\n",
       "            <td>Task 3</td>\n",
       "            <td>Create table users</td>\n",
       "            <td><br>    CREATE TABLE &quot;users&quot; (<br>&quot;Id&quot; INTEGER NOT NULL PRIMARY KEY,<br>&quot;Reputation&quot; INTEGER,<br>&quot;CreationDate&quot; TEXT,<br>&quot;DisplayName&quot; TEXT,<br>&quot;LastAccessDate&quot; TEXT,<br>&quot;WebsiteUrl&quot; TEXT,<br>&quot;Location&quot; TEXT,<br>&quot;AboutMe&quot; TEXT,<br>&quot;Views&quot; INTEGER,<br>&quot;UpVotes&quot; INTEGER,<br>&quot;DownVotes&quot; INTEGER,<br>&quot;ProfileImageUrl&quot; TEXT,<br>&quot;AccountId&quot; INTEGER<br>);<br>    </td>\n",
       "        </tr>\n",
       "    </tbody>\n",
       "</table>"
      ],
      "text/plain": [
       "[('Single Table Queries', 'Which 5 users have viewed the most times and what is the sum of those views per user?', '\\nSELECT Id, SUM(Views) AS TotalViews\\n    FROM Users\\n        GROUP BY Id\\n            ORDER BY TotalViews DESC\\n                LIMIT 5\\n                '),\n",
       " ('Task 1', 'Create table comments', '\\n    CREATE TABLE \"comments\" (\\n    \"Id\" INTEGER,\\n    \"PostId\" INTEGER,\\n    \"Score\" INTEGER,\\n    \"Text\" TEXT,\\n    \"CreationDate\" TEXT,\\n    \"UserId\" INTEGER\\n    )\\n    '),\n",
       " ('Task 2', 'Create table posts', '\\n    CREATE TABLE \"posts\" (\\n\"Id\" INTEGER NOT NULL PRIMARY KEY,\\n\"PostTypeId\" INTEGER,\\n\"AcceptedAnswerId\" INTEGER,\\n\"ParentId\" INTEGER,\\n\"CreationD ... (234 characters truncated) ... XT,\\n\"Tags\" TEXT,\\n\"AnswerCount\" INTEGER,\\n\"CommentCount\" INTEGER,\\n\"FavoriteCount\" INTEGER,\\n\"ClosedDate\" TEXT,\\n\"CommunityOwnedDate\" TEXT\\n);\\n    '),\n",
       " ('Task 2', 'Create table posts', '\\n    CREATE TABLE \"users\" (\\n\"Id\" INTEGER NOT NULL PRIMARY KEY,\\n\"Reputation\" INTEGER,\\n\"CreationDate\" TEXT,\\n\"DisplayName\" TEXT,\\n\"LastAccessDate\"  ... (27 characters truncated) ... \"Location\" TEXT,\\n\"AboutMe\" TEXT,\\n\"Views\" INTEGER,\\n\"UpVotes\" INTEGER,\\n\"DownVotes\" INTEGER,\\n\"ProfileImageUrl\" TEXT,\\n\"AccountId\" INTEGER\\n);\\n    '),\n",
       " ('Task 3', 'Create table users', '\\n    CREATE TABLE \"users\" (\\n\"Id\" INTEGER NOT NULL PRIMARY KEY,\\n\"Reputation\" INTEGER,\\n\"CreationDate\" TEXT,\\n\"DisplayName\" TEXT,\\n\"LastAccessDate\"  ... (27 characters truncated) ... \"Location\" TEXT,\\n\"AboutMe\" TEXT,\\n\"Views\" INTEGER,\\n\"UpVotes\" INTEGER,\\n\"DownVotes\" INTEGER,\\n\"ProfileImageUrl\" TEXT,\\n\"AccountId\" INTEGER\\n);\\n    ')]"
      ]
     },
     "execution_count": 56,
     "metadata": {},
     "output_type": "execute_result"
    }
   ],
   "source": [
    "%sql SELECT * FROM queries"
   ]
  },
  {
   "cell_type": "markdown",
   "metadata": {},
   "source": [
    "## Count the Number of Rows in Each Table\n",
    "Run some queries to count the number of rows in each of the tables.  Don't forget to insert the query into the queries table.\n",
    "\n",
    "<div style=\"background-color:lemonchiffon; border:1px solid; padding:5px; margin:5px; font-weight:bold\"><font color=\"crimson\">\n",
    "TODO: Complete the following code cells\n",
    "    </font></div>"
   ]
  },
  {
   "cell_type": "code",
   "execution_count": 180,
   "metadata": {},
   "outputs": [],
   "source": [
    "\n",
    "sql= \"\"\"\n",
    "select count(id)\n",
    "From comments\n",
    "\"\"\"\n",
    "store_query(\"Task 1\", \"row count comments\", sql)\n",
    "\n"
   ]
  },
  {
   "cell_type": "code",
   "execution_count": 80,
   "metadata": {},
   "outputs": [
    {
     "name": "stdout",
     "output_type": "stream",
     "text": [
      " * sqlite:///chatdata.db\n",
      "Done.\n"
     ]
    },
    {
     "data": {
      "text/html": [
       "<table>\n",
       "    <thead>\n",
       "        <tr>\n",
       "            <th>count(id)</th>\n",
       "        </tr>\n",
       "    </thead>\n",
       "    <tbody>\n",
       "        <tr>\n",
       "            <td>50000</td>\n",
       "        </tr>\n",
       "    </tbody>\n",
       "</table>"
      ],
      "text/plain": [
       "[(50000,)]"
      ]
     },
     "execution_count": 80,
     "metadata": {},
     "output_type": "execute_result"
    }
   ],
   "source": [
    "%%sql\n",
    "select count(id)\n",
    "From comments"
   ]
  },
  {
   "cell_type": "code",
   "execution_count": 181,
   "metadata": {},
   "outputs": [],
   "source": [
    "\n",
    "sql= \"\"\"\n",
    "select count(id)\n",
    "From users\n",
    "\"\"\"\n",
    "store_query(\"Task 1\", \"count rows users\", sql)"
   ]
  },
  {
   "cell_type": "code",
   "execution_count": 83,
   "metadata": {},
   "outputs": [
    {
     "name": "stdout",
     "output_type": "stream",
     "text": [
      " * sqlite:///chatdata.db\n",
      "Done.\n"
     ]
    },
    {
     "data": {
      "text/html": [
       "<table>\n",
       "    <thead>\n",
       "        <tr>\n",
       "            <th>count(id)</th>\n",
       "        </tr>\n",
       "    </thead>\n",
       "    <tbody>\n",
       "        <tr>\n",
       "            <td>18412</td>\n",
       "        </tr>\n",
       "    </tbody>\n",
       "</table>"
      ],
      "text/plain": [
       "[(18412,)]"
      ]
     },
     "execution_count": 83,
     "metadata": {},
     "output_type": "execute_result"
    }
   ],
   "source": [
    "%%sql\n",
    "select count(id)\n",
    "From users"
   ]
  },
  {
   "cell_type": "code",
   "execution_count": 182,
   "metadata": {},
   "outputs": [],
   "source": [
    "sql= \"\"\"\n",
    "select count(id)\n",
    "From posts\n",
    "\"\"\"\n",
    "store_query(\"Task 1\", \"count rows posts\", sql)"
   ]
  },
  {
   "cell_type": "code",
   "execution_count": 85,
   "metadata": {},
   "outputs": [
    {
     "name": "stdout",
     "output_type": "stream",
     "text": [
      " * sqlite:///chatdata.db\n",
      "Done.\n"
     ]
    },
    {
     "data": {
      "text/html": [
       "<table>\n",
       "    <thead>\n",
       "        <tr>\n",
       "            <th>count(id)</th>\n",
       "        </tr>\n",
       "    </thead>\n",
       "    <tbody>\n",
       "        <tr>\n",
       "            <td>42234</td>\n",
       "        </tr>\n",
       "    </tbody>\n",
       "</table>"
      ],
      "text/plain": [
       "[(42234,)]"
      ]
     },
     "execution_count": 85,
     "metadata": {},
     "output_type": "execute_result"
    }
   ],
   "source": [
    "\n",
    "%%sql\n",
    "select count(id)\n",
    "From posts\n"
   ]
  },
  {
   "cell_type": "code",
   "execution_count": 86,
   "metadata": {},
   "outputs": [
    {
     "name": "stdout",
     "output_type": "stream",
     "text": [
      " * sqlite:///chatdata.db\n",
      "Done.\n"
     ]
    },
    {
     "data": {
      "text/html": [
       "<table>\n",
       "    <thead>\n",
       "        <tr>\n",
       "            <th>task</th>\n",
       "            <th>action</th>\n",
       "            <th>query</th>\n",
       "        </tr>\n",
       "    </thead>\n",
       "    <tbody>\n",
       "        <tr>\n",
       "            <td>Single Table Queries</td>\n",
       "            <td>Which 5 users have viewed the most times and what is the sum of those views per user?</td>\n",
       "            <td><br>SELECT Id, SUM(Views) AS TotalViews<br>    FROM Users<br>        GROUP BY Id<br>            ORDER BY TotalViews DESC<br>                LIMIT 5<br>                </td>\n",
       "        </tr>\n",
       "        <tr>\n",
       "            <td>Task 1</td>\n",
       "            <td>Create table comments</td>\n",
       "            <td><br>    CREATE TABLE &quot;comments&quot; (<br>    &quot;Id&quot; INTEGER,<br>    &quot;PostId&quot; INTEGER,<br>    &quot;Score&quot; INTEGER,<br>    &quot;Text&quot; TEXT,<br>    &quot;CreationDate&quot; TEXT,<br>    &quot;UserId&quot; INTEGER<br>    )<br>    </td>\n",
       "        </tr>\n",
       "        <tr>\n",
       "            <td>Task 2</td>\n",
       "            <td>Create table posts</td>\n",
       "            <td><br>    CREATE TABLE &quot;posts&quot; (<br>&quot;Id&quot; INTEGER NOT NULL PRIMARY KEY,<br>&quot;PostTypeId&quot; INTEGER,<br>&quot;AcceptedAnswerId&quot; INTEGER,<br>&quot;ParentId&quot; INTEGER,<br>&quot;CreationDate&quot; TEXT,<br>&quot;Score&quot; INTEGER,<br>&quot;ViewCount&quot; INTEGER,<br>&quot;Body&quot; TEXT,<br>&quot;OwnerUserId&quot; INTEGER,<br>&quot;OwnerDisplayName&quot; TEXT,<br>&quot;LastEditorUserId&quot; INTEGER,<br>&quot;LastEditorDisplayName&quot; TEXT,<br>&quot;LastEditDate&quot; TEXT,<br>&quot;LastActivityDate&quot; TEXT,<br>&quot;Title&quot; TEXT,<br>&quot;Tags&quot; TEXT,<br>&quot;AnswerCount&quot; INTEGER,<br>&quot;CommentCount&quot; INTEGER,<br>&quot;FavoriteCount&quot; INTEGER,<br>&quot;ClosedDate&quot; TEXT,<br>&quot;CommunityOwnedDate&quot; TEXT<br>);<br>    </td>\n",
       "        </tr>\n",
       "        <tr>\n",
       "            <td>Task 2</td>\n",
       "            <td>Create table posts</td>\n",
       "            <td><br>    CREATE TABLE &quot;users&quot; (<br>&quot;Id&quot; INTEGER NOT NULL PRIMARY KEY,<br>&quot;Reputation&quot; INTEGER,<br>&quot;CreationDate&quot; TEXT,<br>&quot;DisplayName&quot; TEXT,<br>&quot;LastAccessDate&quot; TEXT,<br>&quot;WebsiteUrl&quot; TEXT,<br>&quot;Location&quot; TEXT,<br>&quot;AboutMe&quot; TEXT,<br>&quot;Views&quot; INTEGER,<br>&quot;UpVotes&quot; INTEGER,<br>&quot;DownVotes&quot; INTEGER,<br>&quot;ProfileImageUrl&quot; TEXT,<br>&quot;AccountId&quot; INTEGER<br>);<br>    </td>\n",
       "        </tr>\n",
       "        <tr>\n",
       "            <td>Task 3</td>\n",
       "            <td>Create table users</td>\n",
       "            <td><br>    CREATE TABLE &quot;users&quot; (<br>&quot;Id&quot; INTEGER NOT NULL PRIMARY KEY,<br>&quot;Reputation&quot; INTEGER,<br>&quot;CreationDate&quot; TEXT,<br>&quot;DisplayName&quot; TEXT,<br>&quot;LastAccessDate&quot; TEXT,<br>&quot;WebsiteUrl&quot; TEXT,<br>&quot;Location&quot; TEXT,<br>&quot;AboutMe&quot; TEXT,<br>&quot;Views&quot; INTEGER,<br>&quot;UpVotes&quot; INTEGER,<br>&quot;DownVotes&quot; INTEGER,<br>&quot;ProfileImageUrl&quot; TEXT,<br>&quot;AccountId&quot; INTEGER<br>);<br>    </td>\n",
       "        </tr>\n",
       "        <tr>\n",
       "            <td>Task 4</td>\n",
       "            <td>row count comments</td>\n",
       "            <td><br>select count(id)<br>From comments<br></td>\n",
       "        </tr>\n",
       "        <tr>\n",
       "            <td>Task 4</td>\n",
       "            <td>row count comments</td>\n",
       "            <td><br>select count(id)<br>From comments<br></td>\n",
       "        </tr>\n",
       "        <tr>\n",
       "            <td>Task 5</td>\n",
       "            <td>count rows users</td>\n",
       "            <td><br>select count(id)<br>From users<br></td>\n",
       "        </tr>\n",
       "        <tr>\n",
       "            <td>Task 5</td>\n",
       "            <td>count rows posts</td>\n",
       "            <td><br>select count(id)<br>From posts<br></td>\n",
       "        </tr>\n",
       "    </tbody>\n",
       "</table>"
      ],
      "text/plain": [
       "[('Single Table Queries', 'Which 5 users have viewed the most times and what is the sum of those views per user?', '\\nSELECT Id, SUM(Views) AS TotalViews\\n    FROM Users\\n        GROUP BY Id\\n            ORDER BY TotalViews DESC\\n                LIMIT 5\\n                '),\n",
       " ('Task 1', 'Create table comments', '\\n    CREATE TABLE \"comments\" (\\n    \"Id\" INTEGER,\\n    \"PostId\" INTEGER,\\n    \"Score\" INTEGER,\\n    \"Text\" TEXT,\\n    \"CreationDate\" TEXT,\\n    \"UserId\" INTEGER\\n    )\\n    '),\n",
       " ('Task 2', 'Create table posts', '\\n    CREATE TABLE \"posts\" (\\n\"Id\" INTEGER NOT NULL PRIMARY KEY,\\n\"PostTypeId\" INTEGER,\\n\"AcceptedAnswerId\" INTEGER,\\n\"ParentId\" INTEGER,\\n\"CreationD ... (234 characters truncated) ... XT,\\n\"Tags\" TEXT,\\n\"AnswerCount\" INTEGER,\\n\"CommentCount\" INTEGER,\\n\"FavoriteCount\" INTEGER,\\n\"ClosedDate\" TEXT,\\n\"CommunityOwnedDate\" TEXT\\n);\\n    '),\n",
       " ('Task 2', 'Create table posts', '\\n    CREATE TABLE \"users\" (\\n\"Id\" INTEGER NOT NULL PRIMARY KEY,\\n\"Reputation\" INTEGER,\\n\"CreationDate\" TEXT,\\n\"DisplayName\" TEXT,\\n\"LastAccessDate\"  ... (27 characters truncated) ... \"Location\" TEXT,\\n\"AboutMe\" TEXT,\\n\"Views\" INTEGER,\\n\"UpVotes\" INTEGER,\\n\"DownVotes\" INTEGER,\\n\"ProfileImageUrl\" TEXT,\\n\"AccountId\" INTEGER\\n);\\n    '),\n",
       " ('Task 3', 'Create table users', '\\n    CREATE TABLE \"users\" (\\n\"Id\" INTEGER NOT NULL PRIMARY KEY,\\n\"Reputation\" INTEGER,\\n\"CreationDate\" TEXT,\\n\"DisplayName\" TEXT,\\n\"LastAccessDate\"  ... (27 characters truncated) ... \"Location\" TEXT,\\n\"AboutMe\" TEXT,\\n\"Views\" INTEGER,\\n\"UpVotes\" INTEGER,\\n\"DownVotes\" INTEGER,\\n\"ProfileImageUrl\" TEXT,\\n\"AccountId\" INTEGER\\n);\\n    '),\n",
       " ('Task 4', 'row count comments', '\\nselect count(id)\\nFrom comments\\n'),\n",
       " ('Task 4', 'row count comments', '\\nselect count(id)\\nFrom comments\\n'),\n",
       " ('Task 5', 'count rows users', '\\nselect count(id)\\nFrom users\\n'),\n",
       " ('Task 5', 'count rows posts', '\\nselect count(id)\\nFrom posts\\n')]"
      ]
     },
     "execution_count": 86,
     "metadata": {},
     "output_type": "execute_result"
    }
   ],
   "source": [
    "%sql SELECT * FROM queries"
   ]
  },
  {
   "cell_type": "markdown",
   "metadata": {},
   "source": [
    "## Do some Random Checks on the Data\n",
    "Let's write some queries that select 5 random rows from each table.  The queries are provided here:\n",
    "\n",
    "    select * from Comments order by random() limit 5;\n",
    "    select * from Users order by random() limit 5;\n",
    "    select * from Posts order by random() limit 5;\n",
    "\n",
    "Enter the queries into the code cells below and insert the queries into the `queries` table in the same was as you did for the CREATE TABLE statements.\n",
    "\n",
    "<div style=\"background-color:lemonchiffon; border:1px solid; padding:5px; margin:5px; font-weight:bold\"><font color=\"crimson\">\n",
    "TODO: Complete the following code cells\n",
    "    </font></div>"
   ]
  },
  {
   "cell_type": "code",
   "execution_count": 90,
   "metadata": {},
   "outputs": [
    {
     "name": "stdout",
     "output_type": "stream",
     "text": [
      " * sqlite:///chatdata.db\n",
      "Done.\n"
     ]
    },
    {
     "data": {
      "text/html": [
       "<table>\n",
       "    <thead>\n",
       "        <tr>\n",
       "            <th>Id</th>\n",
       "            <th>PostTypeId</th>\n",
       "            <th>AcceptedAnswerId</th>\n",
       "            <th>ParentId</th>\n",
       "            <th>CreationDate</th>\n",
       "            <th>Score</th>\n",
       "            <th>ViewCount</th>\n",
       "            <th>Body</th>\n",
       "            <th>OwnerUserId</th>\n",
       "            <th>OwnerDisplayName</th>\n",
       "            <th>LastEditorUserId</th>\n",
       "            <th>LastEditorDisplayName</th>\n",
       "            <th>LastEditDate</th>\n",
       "            <th>LastActivityDate</th>\n",
       "            <th>Title</th>\n",
       "            <th>Tags</th>\n",
       "            <th>AnswerCount</th>\n",
       "            <th>CommentCount</th>\n",
       "            <th>FavoriteCount</th>\n",
       "            <th>ClosedDate</th>\n",
       "            <th>CommunityOwnedDate</th>\n",
       "        </tr>\n",
       "    </thead>\n",
       "    <tbody>\n",
       "        <tr>\n",
       "            <td>385331</td>\n",
       "            <td>1</td>\n",
       "            <td>0</td>\n",
       "            <td>0</td>\n",
       "            <td>2019-01-02 18:29:31</td>\n",
       "            <td>2</td>\n",
       "            <td>113</td>\n",
       "            <td>&lt;p&gt;I am currently writing some code which performs regression and have noticed that when I calculate variance of &lt;span class=&quot;math-container&quot;&gt;$c\\hat{\\beta}$&lt;/span&gt; I am sometimes on some datasets getting negative values.&lt;/p&gt;<br><br>&lt;p&gt;The variance is given as &lt;span class=&quot;math-container&quot;&gt;$c&#x27;(X&#x27;X)^{-1}c\\frac{e&#x27;e}{n - p}$&lt;/span&gt; where &lt;span class=&quot;math-container&quot;&gt;$c$&lt;/span&gt; is a vector representing the contrast to be tested, &lt;span class=&quot;math-container&quot;&gt;$X$&lt;/span&gt; is the design matrix, &lt;span class=&quot;math-container&quot;&gt;$e$&lt;/span&gt; is a vector of residuals and &lt;span class=&quot;math-container&quot;&gt;$n$&lt;/span&gt; is the number of datapoints and &lt;span class=&quot;math-container&quot;&gt;$p$&lt;/span&gt; is the number of parameters (including an intercept).&lt;/p&gt;<br><br>&lt;p&gt;I want to compute a T statistic but this involves square rooting the variance and is failing in some cases when the variance is negative. My question is could there be a mathematical/statistical reason why I am having this issue? And if so why/why not? (or should I be asking this instead on StackOverflow?)&lt;/p&gt;<br><br>&lt;p&gt;My datasets vary in size and negative values appear to occur the most frequently when &lt;span class=&quot;math-container&quot;&gt;$n$&lt;/span&gt; is only just greater than &lt;span class=&quot;math-container&quot;&gt;$p$&lt;/span&gt; (e.g. when &lt;span class=&quot;math-container&quot;&gt;$n=p+1,n=p+2,... $&lt;/span&gt;etc ).&lt;/p&gt;<br></td>\n",
       "            <td>232845</td>\n",
       "            <td>None</td>\n",
       "            <td>232845</td>\n",
       "            <td>None</td>\n",
       "            <td>2019-01-02 18:47:45</td>\n",
       "            <td>2019-01-02 18:47:45</td>\n",
       "            <td>Negative values for OLS variance</td>\n",
       "            <td>&lt;regression&gt;&lt;variance&gt;&lt;least-squares&gt;</td>\n",
       "            <td>0</td>\n",
       "            <td>17</td>\n",
       "            <td>0</td>\n",
       "            <td>None</td>\n",
       "            <td>None</td>\n",
       "        </tr>\n",
       "        <tr>\n",
       "            <td>421990</td>\n",
       "            <td>2</td>\n",
       "            <td>0</td>\n",
       "            <td>415265</td>\n",
       "            <td>2019-08-13 14:08:22</td>\n",
       "            <td>2</td>\n",
       "            <td>0</td>\n",
       "            <td>&lt;p&gt;Comments to the question indicate the interest focuses on random variables that are unbiased linear estimators.  Despite this restriction, &lt;strong&gt;in order to draw conclusions about the full bivariate distribution of the two estimators (suitably standardized as in the CLT), you need &lt;em&gt;some&lt;/em&gt; control over the coefficients in the linear combinations.&lt;/strong&gt;  In short, the answer is &quot;no, not without additional assumptions.&quot;&lt;/p&gt;<br><br>&lt;p&gt;To show why this is, I will construct realistic counterexamples involving unbiased estimators of parameters of a Normal distribution.  This requires only a straightforward sequence of computations of expectations and variances, but I&#x27;ll show the details to make it clear (as well as to expose any assumptions).&lt;/p&gt;<br><br>&lt;hr&gt;<br><br>&lt;p&gt;Consider the textbook case of estimating the mean &lt;span class=&quot;math-container&quot;&gt;$\\mu$&lt;/span&gt; from a sample &lt;span class=&quot;math-container&quot;&gt;$X_1, \\ldots, X_n$&lt;/span&gt; of a Normal&lt;span class=&quot;math-container&quot;&gt;$(\\mu,\\sigma)$&lt;/span&gt; distribution.  A good estimator is the sample mean&lt;/p&gt;<br><br>&lt;p&gt;&lt;span class=&quot;math-container&quot;&gt;$$t_n(X_1, \\ldots, X_n) = \\sum_{i=1}^n \\frac{1}{n} X_i$$&lt;/span&gt;&lt;/p&gt;<br><br>&lt;p&gt;which I have written explicitly as a linear combination, using notation that highlights that the coefficients depend on the sample size &lt;span class=&quot;math-container&quot;&gt;$n$&lt;/span&gt; (of course!).&lt;/p&gt;<br><br>&lt;p&gt;In the same circumstance we may construct a nontrivial linear estimator of &lt;em&gt;zero&lt;/em&gt; by choosing a sequence of coefficients &lt;span class=&quot;math-container&quot;&gt;$c_{n ,i},$&lt;/span&gt; &lt;span class=&quot;math-container&quot;&gt;$i=1,2,\\ldots, n$&lt;/span&gt; that (a) sum to zero: &lt;span class=&quot;math-container&quot;&gt;$$\\sum_{i=1}^n c_{n,i}=0$$&lt;/span&gt; and (b) are not all zero so that &lt;span class=&quot;math-container&quot;&gt;$$\\sum_{i=1}^n c_{n,i}^2 \\ne 0.$$&lt;/span&gt; Given a family of such sequences (indexed by the sample size &lt;span class=&quot;math-container&quot;&gt;$n$&lt;/span&gt;), let&lt;/p&gt;<br><br>&lt;p&gt;&lt;span class=&quot;math-container&quot;&gt;$$u_n(X_1, \\ldots, X_n) = \\sum_{i=1}^n c_{n,i} X_i.$$&lt;/span&gt;&lt;/p&gt;<br><br>&lt;p&gt;Because the &lt;span class=&quot;math-container&quot;&gt;$X_i$&lt;/span&gt; are independent, the random vector &lt;span class=&quot;math-container&quot;&gt;$(X_1,\\ldots, X_n)$&lt;/span&gt; has a multivariate Normal distribution, whence so does any linear combination like &lt;span class=&quot;math-container&quot;&gt;$t_n$&lt;/span&gt; and &lt;span class=&quot;math-container&quot;&gt;$u_n.$&lt;/span&gt;  Consequently, for each &lt;span class=&quot;math-container&quot;&gt;$n,$&lt;/span&gt; &lt;span class=&quot;math-container&quot;&gt;$(t_n,u_n)$&lt;/span&gt; has a bivariate Normal distribution.  It is determined by its mean&lt;/p&gt;<br><br>&lt;p&gt;&lt;span class=&quot;math-container&quot;&gt;$$E(t_n,u_n) = E\\left(\\sum_{i=1}^n \\frac{1}{n}X_i, \\sum_{j=1}^n c_{n,j} X_j\\right) = \\left(\\sum_{i=1}^n \\frac{1}{n}\\mu, \\sum_{j=1}^n c_{n,j} \\mu\\right) = (\\mu, 0)$$&lt;/span&gt;&lt;/p&gt;<br><br>&lt;p&gt;(thereby demonstrating &lt;span class=&quot;math-container&quot;&gt;$u_n$&lt;/span&gt; is an unbiased linear estimator of zero) and by its covariance matrix, which we may compute as&lt;/p&gt;<br><br>&lt;p&gt;&lt;span class=&quot;math-container&quot;&gt;$$\\operatorname{Var}(t_n) = \\sum_{i=1}^n \\sum_{j=1}^n \\frac{1}{n}\\frac{1}{n} \\operatorname{Cov}(X_i,X_j) = \\left(\\frac{1}{n}\\right)^2\\sum_{i,j=1}^n \\delta_{ij}\\sigma^2 = \\sigma^2\\frac{1}{n};$$&lt;/span&gt;&lt;/p&gt;<br><br>&lt;p&gt;&lt;span class=&quot;math-container&quot;&gt;$$\\operatorname{Var}(u_n) = \\sum_{i=1}^n \\sum_{j=1}^n c_{n,i}c_{n,j}\\operatorname{Cov}(X_i,X_j) = \\sum_{i,j=1}^n \\delta_{ij}c_{n,i}c_{n,j}\\sigma^2 = \\sigma^2\\sum_{i=1}^n c_{n,i}^2 \\ne 0;$$&lt;/span&gt;&lt;/p&gt;<br><br>&lt;p&gt;and &lt;/p&gt;<br><br>&lt;p&gt;&lt;span class=&quot;math-container&quot;&gt;$$\\operatorname{Cov}(t_n, u_n) = \\sum_{i=1}^n \\sum_{j=1}^n \\frac{1}{n}c_{n,j} \\operatorname{Cov}(X_i,X_j) = \\frac{1}{n}\\sum_{i,j=1}^n \\delta_{ij}c_{n,j}\\sigma^2 =  \\frac{\\sigma^2}{n}\\sum_{i=1}^n c_{n,i} = 0.$$&lt;/span&gt;&lt;/p&gt;<br><br>&lt;p&gt;Because the variances are nonzero and finite and the covariance is zero, &lt;span class=&quot;math-container&quot;&gt;$(t_n,u_n)$&lt;/span&gt; are &lt;em&gt;independent&lt;/em&gt; bivariate Normal variables.&lt;/p&gt;<br><br>&lt;p&gt;We are going to construct more estimators of &lt;span class=&quot;math-container&quot;&gt;$\\mu.$&lt;/span&gt;  To this end, let &lt;span class=&quot;math-container&quot;&gt;$(\\alpha_n)$&lt;/span&gt; be any sequence of real numbers.  From this form the sequence&lt;/p&gt;<br><br>&lt;p&gt;&lt;span class=&quot;math-container&quot;&gt;$$\\lambda_n = \\frac{\\alpha_n}{\\sqrt{n\\sum_{i=1}^n c_{n,i}^2}}$$&lt;/span&gt;&lt;/p&gt;<br><br>&lt;p&gt;so that &lt;span class=&quot;math-container&quot;&gt;$$\\operatorname{Var}(\\lambda_n u_n) = \\lambda^2\\operatorname{Var}(u_n) = \\alpha_n^2/n.$$&lt;/span&gt;  Define the estimator&lt;/p&gt;<br><br>&lt;p&gt;&lt;span class=&quot;math-container&quot;&gt;$$s_n = t_n + \\lambda_n u_n = \\sum_{i=1}^n \\left(\\frac{1}{n} + \\lambda_n c_{n,i}\\right)X_i,$$&lt;/span&gt;&lt;/p&gt;<br><br>&lt;p&gt;which is manifestly a linear combination of the &lt;span class=&quot;math-container&quot;&gt;$X_i.$&lt;/span&gt;  From the foregoing its expectation is &lt;span class=&quot;math-container&quot;&gt;$E(s_n) = E(t_n) + \\lambda_n E(u_n) = \\mu,$&lt;/span&gt; showing it is an unbiased estimator of &lt;span class=&quot;math-container&quot;&gt;$\\mu,$&lt;/span&gt; and the relevant second moments are&lt;/p&gt;<br><br>&lt;p&gt;&lt;span class=&quot;math-container&quot;&gt;$$\\operatorname{Var}(s_n) = \\sigma^2 \\frac{1}{n}\\left(1 + \\alpha_n^2\\right);\\quad \\operatorname{Cov}(t_n,s_n) = \\sigma^2 \\frac{1}{n}.$$&lt;/span&gt;&lt;/p&gt;<br><br>&lt;p&gt;The correlation of &lt;span class=&quot;math-container&quot;&gt;$(t_n,s_n)$&lt;/span&gt; therefore is&lt;/p&gt;<br><br>&lt;p&gt;&lt;span class=&quot;math-container&quot;&gt;$$\\operatorname{\\rho}(t_n,s_n) = \\frac{\\operatorname{Cov}(t_n,s_n)}{\\sqrt{\\operatorname{Var}(t_n)\\operatorname{Var}(s_n)}} = \\frac{1}{\\sqrt{1+ \\alpha_n^2}}.$$&lt;/span&gt;&lt;/p&gt;<br><br>&lt;p&gt;Consequently, &lt;/p&gt;<br><br>&lt;blockquote&gt;<br>  &lt;p&gt;When we choose a sequence &lt;span class=&quot;math-container&quot;&gt;$(\\alpha_n)$&lt;/span&gt; where &lt;span class=&quot;math-container&quot;&gt;$\\alpha_n^2$&lt;/span&gt; has no limit, the sequence of bivariate Normal distributions of the standardized estimators &lt;span class=&quot;math-container&quot;&gt;$(t_n, s_n)$&lt;/span&gt; cannot possibly have a limit, either.&lt;/p&gt;<br>&lt;/blockquote&gt;<br><br>&lt;p&gt;The reason is clear: this sequence of bivariate Normal distributions is a sequence of distributions of mean &lt;span class=&quot;math-container&quot;&gt;$(0,0)$&lt;/span&gt; (from the standardization), unit variances (also from the standardization), and correlation coefficients &lt;span class=&quot;math-container&quot;&gt;$(1+\\alpha_n^2)^{-1/2},$&lt;/span&gt; which do not converge.&lt;/p&gt;<br><br>&lt;p&gt;An explicit example of such a sequence is &lt;span class=&quot;math-container&quot;&gt;$\\alpha_n=0$&lt;/span&gt; for &lt;span class=&quot;math-container&quot;&gt;$n$&lt;/span&gt; even (this corresponds to using the estimator &lt;span class=&quot;math-container&quot;&gt;$t_n$&lt;/span&gt; when the sample size is even) and &lt;span class=&quot;math-container&quot;&gt;$\\alpha_n=1$&lt;/span&gt; for &lt;span class=&quot;math-container&quot;&gt;$n$&lt;/span&gt; odd (which uses a modified estimator when &lt;span class=&quot;math-container&quot;&gt;$n$&lt;/span&gt; is odd).  The distribution of &lt;span class=&quot;math-container&quot;&gt;$(t_n, s_n)$&lt;/span&gt; oscillates between having perfect correlation when &lt;span class=&quot;math-container&quot;&gt;$n$&lt;/span&gt; is even--a singular distribution supported on the diagonal line in the plane--and having correlation &lt;span class=&quot;math-container&quot;&gt;$\\rho = (1+1^2)^{-1/2}=\\sqrt{1/2}$&lt;/span&gt; when &lt;span class=&quot;math-container&quot;&gt;$n$&lt;/span&gt; is odd, which is supported throughout the plane.&lt;/p&gt;<br></td>\n",
       "            <td>919</td>\n",
       "            <td>None</td>\n",
       "            <td>0</td>\n",
       "            <td>None</td>\n",
       "            <td>None</td>\n",
       "            <td>2019-08-13 14:08:22</td>\n",
       "            <td>None</td>\n",
       "            <td>None</td>\n",
       "            <td>0</td>\n",
       "            <td>0</td>\n",
       "            <td>0</td>\n",
       "            <td>None</td>\n",
       "            <td>None</td>\n",
       "        </tr>\n",
       "        <tr>\n",
       "            <td>394401</td>\n",
       "            <td>1</td>\n",
       "            <td>0</td>\n",
       "            <td>0</td>\n",
       "            <td>2019-02-26 02:38:16</td>\n",
       "            <td>0</td>\n",
       "            <td>9</td>\n",
       "            <td>&lt;p&gt;Does any one know or have references for the consistency of non-linear squares estimators in Gaussian mixture model? (or the consistency of qausi mles in Gaussian mixture model). Thank you.&lt;/p&gt;<br><br>&lt;p&gt;I have been struggling to find a reference several days.  &lt;/p&gt;<br></td>\n",
       "            <td>239044</td>\n",
       "            <td>None</td>\n",
       "            <td>0</td>\n",
       "            <td>None</td>\n",
       "            <td>None</td>\n",
       "            <td>2019-02-26 02:38:16</td>\n",
       "            <td>consistency of non-linear squares estimators in Gaussian mixture model</td>\n",
       "            <td>&lt;normal-distribution&gt;&lt;mixture&gt;</td>\n",
       "            <td>0</td>\n",
       "            <td>0</td>\n",
       "            <td>0</td>\n",
       "            <td>None</td>\n",
       "            <td>None</td>\n",
       "        </tr>\n",
       "        <tr>\n",
       "            <td>422770</td>\n",
       "            <td>1</td>\n",
       "            <td>0</td>\n",
       "            <td>0</td>\n",
       "            <td>2019-08-19 11:58:55</td>\n",
       "            <td>1</td>\n",
       "            <td>36</td>\n",
       "            <td>&lt;p&gt;One of the problems in Brockwell and Davis book about time series is to show that &lt;/p&gt;<br><br>&lt;p&gt;1) if <br>&lt;span class=&quot;math-container&quot;&gt;\\begin{equation}<br>x_t = a + b t<br>\\end{equation}&lt;/span&gt; then the sample autocorrelation (&lt;span class=&quot;math-container&quot;&gt;$\\hat{\\rho}(h)$&lt;/span&gt;) converges to 1 as the sample size tends to infinity for &lt;span class=&quot;math-container&quot;&gt;$h \\geq 1$&lt;/span&gt;.&lt;/p&gt;<br><br>&lt;p&gt;2) if <br>&lt;span class=&quot;math-container&quot;&gt;\\begin{equation}<br>x_t = a \\text{cos}(\\omega t)<br>\\end{equation}&lt;/span&gt; then the sample autocorrelation (&lt;span class=&quot;math-container&quot;&gt;$\\hat{\\rho}(h)$&lt;/span&gt;) converges to &lt;span class=&quot;math-container&quot;&gt;$\\text{cos}(\\omega h)$&lt;/span&gt; as the sample size tends to infinity, where &lt;span class=&quot;math-container&quot;&gt;$a \\neq 0$&lt;/span&gt; and &lt;span class=&quot;math-container&quot;&gt;$\\omega \\in [-\\pi, \\pi)$&lt;/span&gt;.&lt;/p&gt;<br><br>&lt;p&gt;I can prove these two results, but what is the message this question is trying to give?&lt;/p&gt;<br></td>\n",
       "            <td>35011</td>\n",
       "            <td>None</td>\n",
       "            <td>35011</td>\n",
       "            <td>None</td>\n",
       "            <td>2019-08-20 09:16:44</td>\n",
       "            <td>2019-08-20 09:16:44</td>\n",
       "            <td>Intuition of the convergence of sample ACF</td>\n",
       "            <td>&lt;time-series&gt;&lt;autocorrelation&gt;&lt;convergence&gt;&lt;signal-processing&gt;</td>\n",
       "            <td>1</td>\n",
       "            <td>0</td>\n",
       "            <td>0</td>\n",
       "            <td>None</td>\n",
       "            <td>None</td>\n",
       "        </tr>\n",
       "        <tr>\n",
       "            <td>424427</td>\n",
       "            <td>1</td>\n",
       "            <td>424475</td>\n",
       "            <td>0</td>\n",
       "            <td>2019-08-31 08:48:39</td>\n",
       "            <td>5</td>\n",
       "            <td>72</td>\n",
       "            <td>&lt;p&gt;In &lt;a href=&quot;https://stats.stackexchange.com/a/103605/163114&quot;&gt;this most upvoted CV answer on that topic&lt;/a&gt; the &quot;scale&quot; parameter (aka &quot;sigma&quot; in Stata) thrown in a tobit regression output is explained to be &quot;the estimated standard deviation of the residuals&quot;. (Since the question is over three years old, I decided to open a new one.) &quot;That value can be compared to the standard deviation of [the dependent variable]. If it is much smaller, [we] may have a reasonably good model.&quot;&lt;/p&gt;<br><br>&lt;p&gt;However, when I look at the standard deviation of the residuals the values won&#x27;t match up. Actually &quot;scale&quot; is more than twice the &lt;code&gt;sd&lt;/code&gt; of the residuals!&lt;/p&gt;<br><br>&lt;h3&gt;Example&lt;/h3&gt;<br><br>&lt;pre&gt;&lt;code&gt;library(AER)<br>data(Affairs)<br>fit &amp;lt;- tobit(affairs ~ age + yearsmarried + religiousness +<br>               occupation + rating, data=Affairs)<br><br>fit$scale  # the &quot;scale&quot; value<br># [1] 8.24708<br><br>sd(resid(fit))  # sd of residuals<br># [1] 4.140131<br><br>sd(Affairs$affairs)  # sd of dependent variable<br># [1] 3.298758<br>&lt;/code&gt;&lt;/pre&gt;<br><br>&lt;p&gt;Do I misinterpret that answer, or is it flawed? Could someone clear up with this confusion about the &quot;Scale&quot; (Stata: &quot;Sigma&quot;) parameter of a tobit regression? How is it calculated, and what does it tell us about the model quality?&lt;/p&gt;<br></td>\n",
       "            <td>163114</td>\n",
       "            <td>None</td>\n",
       "            <td>163114</td>\n",
       "            <td>None</td>\n",
       "            <td>2019-08-31 09:02:00</td>\n",
       "            <td>2019-08-31 18:26:35</td>\n",
       "            <td>What is really the Scale or Sigma parameter of a tobit regression?</td>\n",
       "            <td>&lt;r&gt;&lt;regression&gt;&lt;tobit-regression&gt;</td>\n",
       "            <td>1</td>\n",
       "            <td>0</td>\n",
       "            <td>0</td>\n",
       "            <td>None</td>\n",
       "            <td>None</td>\n",
       "        </tr>\n",
       "    </tbody>\n",
       "</table>"
      ],
      "text/plain": [
       "[(385331, 1, 0, 0, '2019-01-02 18:29:31', 2, 113, '<p>I am currently writing some code which performs regression and have noticed that when I calculate variance of <span class=\"math-container\">$c\\\\hat ... (1025 characters truncated) ... span> is only just greater than <span class=\"math-container\">$p$</span> (e.g. when <span class=\"math-container\">$n=p+1,n=p+2,... $</span>etc ).</p>\\n', 232845, None, 232845, None, '2019-01-02 18:47:45', '2019-01-02 18:47:45', 'Negative values for OLS variance', '<regression><variance><least-squares>', 0, 17, 0, None, None),\n",
       " (421990, 2, 0, 415265, '2019-08-13 14:08:22', 2, 0, '<p>Comments to the question indicate the interest focuses on random variables that are unbiased linear estimators.  Despite this restriction, <strong ... (6683 characters truncated) ... iner\">$\\\\rho = (1+1^2)^{-1/2}=\\\\sqrt{1/2}$</span> when <span class=\"math-container\">$n$</span> is odd, which is supported throughout the plane.</p>\\n', 919, None, 0, None, None, '2019-08-13 14:08:22', None, None, 0, 0, 0, None, None),\n",
       " (394401, 1, 0, 0, '2019-02-26 02:38:16', 0, 9, '<p>Does any one know or have references for the consistency of non-linear squares estimators in Gaussian mixture model? (or the consistency of qausi mles in Gaussian mixture model). Thank you.</p>\\n\\n<p>I have been struggling to find a reference several days.  </p>\\n', 239044, None, 0, None, None, '2019-02-26 02:38:16', 'consistency of non-linear squares estimators in Gaussian mixture model', '<normal-distribution><mixture>', 0, 0, 0, None, None),\n",
       " (422770, 1, 0, 0, '2019-08-19 11:58:55', 1, 36, '<p>One of the problems in Brockwell and Davis book about time series is to show that </p>\\n\\n<p>1) if \\n<span class=\"math-container\">\\\\begin{equation ... (633 characters truncated) ... ntainer\">$\\\\omega \\\\in [-\\\\pi, \\\\pi)$</span>.</p>\\n\\n<p>I can prove these two results, but what is the message this question is trying to give?</p>\\n', 35011, None, 35011, None, '2019-08-20 09:16:44', '2019-08-20 09:16:44', 'Intuition of the convergence of sample ACF', '<time-series><autocorrelation><convergence><signal-processing>', 1, 0, 0, None, None),\n",
       " (424427, 1, 424475, 0, '2019-08-31 08:48:39', 5, 72, '<p>In <a href=\"https://stats.stackexchange.com/a/103605/163114\">this most upvoted CV answer on that topic</a> the \"scale\" parameter (aka \"sigma\" in S ... (969 characters truncated) ... ion about the \"Scale\" (Stata: \"Sigma\") parameter of a tobit regression? How is it calculated, and what does it tell us about the model quality?</p>\\n', 163114, None, 163114, None, '2019-08-31 09:02:00', '2019-08-31 18:26:35', 'What is really the Scale or Sigma parameter of a tobit regression?', '<r><regression><tobit-regression>', 1, 0, 0, None, None)]"
      ]
     },
     "execution_count": 90,
     "metadata": {},
     "output_type": "execute_result"
    }
   ],
   "source": [
    "\n",
    "%%sql \n",
    "select * from posts\n",
    "order by random()\n",
    "limit 5"
   ]
  },
  {
   "cell_type": "code",
   "execution_count": 91,
   "metadata": {},
   "outputs": [],
   "source": [
    "sql= \"\"\"\n",
    "select * from posts\n",
    "order by random()\n",
    "limit 5\n",
    "\"\"\"\n",
    "store_query(\"Task 6\", \"random rows posts\", sql)"
   ]
  },
  {
   "cell_type": "code",
   "execution_count": 92,
   "metadata": {},
   "outputs": [
    {
     "name": "stdout",
     "output_type": "stream",
     "text": [
      " * sqlite:///chatdata.db\n",
      "Done.\n"
     ]
    },
    {
     "data": {
      "text/html": [
       "<table>\n",
       "    <thead>\n",
       "        <tr>\n",
       "            <th>Id</th>\n",
       "            <th>PostId</th>\n",
       "            <th>Score</th>\n",
       "            <th>Text</th>\n",
       "            <th>CreationDate</th>\n",
       "            <th>UserId</th>\n",
       "        </tr>\n",
       "    </thead>\n",
       "    <tbody>\n",
       "        <tr>\n",
       "            <td>775118</td>\n",
       "            <td>415347</td>\n",
       "            <td>0</td>\n",
       "            <td>@iot In classical statistics, you might estimate the parameters by [finding the $\\theta$ that maximizes $p(x\\,|\\,\\theta)$ as a function of $\\theta$](https://en.wikipedia.org/wiki/Maximum_likelihood_estimation). So people will write $L(\\theta)=p(x\\,|\\,\\theta)$ and try to compute $\\hat{\\theta}_{MLE}={\\arg\\max}\\,L(\\theta)$. In this case, you don&#x27;t care about $p(x\\,|\\,\\theta)$&#x27;s &quot;status&quot; as a conditional pdf over $x$. You care about its status as a real-valued function of $\\theta$ that you want to maximize with respect to $\\theta$. So $L(\\cdot)$-style notation is a holdover from that setting.</td>\n",
       "            <td>2019-06-29 22:23:36</td>\n",
       "            <td>173437</td>\n",
       "        </tr>\n",
       "        <tr>\n",
       "            <td>755889</td>\n",
       "            <td>404263</td>\n",
       "            <td>1</td>\n",
       "            <td>The simple answer is that it is a very rough approximation.</td>\n",
       "            <td>2019-04-21 13:42:11</td>\n",
       "            <td>35989</td>\n",
       "        </tr>\n",
       "        <tr>\n",
       "            <td>732280</td>\n",
       "            <td>389935</td>\n",
       "            <td>0</td>\n",
       "            <td>What I want to be able to say is what SD and what SE within one subject in average can be expected. But I do not think I may calculate the SD for each subject and determine the mean value out of it, may I?</td>\n",
       "            <td>2019-01-30 15:05:58</td>\n",
       "            <td>235888</td>\n",
       "        </tr>\n",
       "        <tr>\n",
       "            <td>736717</td>\n",
       "            <td>392372</td>\n",
       "            <td>0</td>\n",
       "            <td>You can find some ideas here:  https://stats.stackexchange.com/questions/188903/intuition-on-the-kullback-leibler-kl-divergence/189758#189758</td>\n",
       "            <td>2019-02-13 21:49:48</td>\n",
       "            <td>11887</td>\n",
       "        </tr>\n",
       "        <tr>\n",
       "            <td>768309</td>\n",
       "            <td>411479</td>\n",
       "            <td>1</td>\n",
       "            <td>@FransRodenburg as an aside, I lived in Tokyo&#x27;s Azabu-Juban district in the late 1990&#x27;s.</td>\n",
       "            <td>2019-06-04 12:27:38</td>\n",
       "            <td>35584</td>\n",
       "        </tr>\n",
       "    </tbody>\n",
       "</table>"
      ],
      "text/plain": [
       "[(775118, 415347, 0, '@iot In classical statistics, you might estimate the parameters by [finding the $\\\\theta$ that maximizes $p(x\\\\,|\\\\,\\\\theta)$ as a function of $\\\\the ... (320 characters truncated) ... real-valued function of $\\\\theta$ that you want to maximize with respect to $\\\\theta$. So $L(\\\\cdot)$-style notation is a holdover from that setting.', '2019-06-29 22:23:36', 173437),\n",
       " (755889, 404263, 1, 'The simple answer is that it is a very rough approximation.', '2019-04-21 13:42:11', 35989),\n",
       " (732280, 389935, 0, 'What I want to be able to say is what SD and what SE within one subject in average can be expected. But I do not think I may calculate the SD for each subject and determine the mean value out of it, may I?', '2019-01-30 15:05:58', 235888),\n",
       " (736717, 392372, 0, 'You can find some ideas here:  https://stats.stackexchange.com/questions/188903/intuition-on-the-kullback-leibler-kl-divergence/189758#189758', '2019-02-13 21:49:48', 11887),\n",
       " (768309, 411479, 1, \"@FransRodenburg as an aside, I lived in Tokyo's Azabu-Juban district in the late 1990's.\", '2019-06-04 12:27:38', 35584)]"
      ]
     },
     "execution_count": 92,
     "metadata": {},
     "output_type": "execute_result"
    }
   ],
   "source": [
    "\n",
    "\n",
    "%%sql \n",
    "select * from comments\n",
    "order by random()\n",
    "limit 5"
   ]
  },
  {
   "cell_type": "code",
   "execution_count": 93,
   "metadata": {},
   "outputs": [],
   "source": [
    "sql= \"\"\"\n",
    "select * from comments\n",
    "order by random()\n",
    "limit 5\n",
    "\"\"\"\n",
    "store_query(\"Task 7\", \"random rows comments\", sql)"
   ]
  },
  {
   "cell_type": "code",
   "execution_count": 95,
   "metadata": {},
   "outputs": [
    {
     "name": "stdout",
     "output_type": "stream",
     "text": [
      " * sqlite:///chatdata.db\n",
      "Done.\n"
     ]
    },
    {
     "data": {
      "text/html": [
       "<table>\n",
       "    <thead>\n",
       "        <tr>\n",
       "            <th>Id</th>\n",
       "            <th>Reputation</th>\n",
       "            <th>CreationDate</th>\n",
       "            <th>DisplayName</th>\n",
       "            <th>LastAccessDate</th>\n",
       "            <th>WebsiteUrl</th>\n",
       "            <th>Location</th>\n",
       "            <th>AboutMe</th>\n",
       "            <th>Views</th>\n",
       "            <th>UpVotes</th>\n",
       "            <th>DownVotes</th>\n",
       "            <th>ProfileImageUrl</th>\n",
       "            <th>AccountId</th>\n",
       "        </tr>\n",
       "    </thead>\n",
       "    <tbody>\n",
       "        <tr>\n",
       "            <td>256297</td>\n",
       "            <td>31</td>\n",
       "            <td>2019-08-13 12:57:06</td>\n",
       "            <td>Jonathan Foldager</td>\n",
       "            <td>2019-11-21 16:10:31</td>\n",
       "            <td>None</td>\n",
       "            <td>Palo Alto, CA, USA</td>\n",
       "            <td>None</td>\n",
       "            <td>4</td>\n",
       "            <td>0</td>\n",
       "            <td>0</td>\n",
       "            <td>https://lh3.googleusercontent.com/-XdUIqdMkCWA/AAAAAAAAAAI/AAAAAAAAAAA/4252rscbv5M/photo.jpg?sz=128</td>\n",
       "            <td>13540386</td>\n",
       "        </tr>\n",
       "        <tr>\n",
       "            <td>236601</td>\n",
       "            <td>1</td>\n",
       "            <td>2019-02-05 17:01:29</td>\n",
       "            <td>epistudent21</td>\n",
       "            <td>2019-10-29 15:23:27</td>\n",
       "            <td>None</td>\n",
       "            <td>None</td>\n",
       "            <td>None</td>\n",
       "            <td>0</td>\n",
       "            <td>0</td>\n",
       "            <td>0</td>\n",
       "            <td>https://www.gravatar.com/avatar/1bf7bd5d7eb3bfc6531ec7b9b77d4d9a?s=128&amp;d=identicon&amp;r=PG&amp;f=1</td>\n",
       "            <td>15272010</td>\n",
       "        </tr>\n",
       "        <tr>\n",
       "            <td>75070</td>\n",
       "            <td>111</td>\n",
       "            <td>2015-05-01 23:58:47</td>\n",
       "            <td>dustin</td>\n",
       "            <td>2019-07-04 03:34:05</td>\n",
       "            <td>None</td>\n",
       "            <td>Bangkok Thailand</td>\n",
       "            <td>None</td>\n",
       "            <td>0</td>\n",
       "            <td>12</td>\n",
       "            <td>0</td>\n",
       "            <td>https://www.gravatar.com/avatar/85bb9e2c9145ecb17430d6fdb574410f?s=128&amp;d=identicon&amp;r=PG&amp;f=1</td>\n",
       "            <td>2467328</td>\n",
       "        </tr>\n",
       "        <tr>\n",
       "            <td>124102</td>\n",
       "            <td>1</td>\n",
       "            <td>2016-07-22 01:50:19</td>\n",
       "            <td>TJW</td>\n",
       "            <td>2019-07-02 05:53:20</td>\n",
       "            <td>None</td>\n",
       "            <td>None</td>\n",
       "            <td>None</td>\n",
       "            <td>0</td>\n",
       "            <td>0</td>\n",
       "            <td>0</td>\n",
       "            <td>https://www.gravatar.com/avatar/f6faa6a02a01bc0eb0c00aa82de89ea0?s=128&amp;d=identicon&amp;r=PG&amp;f=1</td>\n",
       "            <td>2555933</td>\n",
       "        </tr>\n",
       "        <tr>\n",
       "            <td>267216</td>\n",
       "            <td>101</td>\n",
       "            <td>2019-11-29 16:55:12</td>\n",
       "            <td>AlexO</td>\n",
       "            <td>2019-11-29 16:55:12</td>\n",
       "            <td>None</td>\n",
       "            <td>Toronto, Canada</td>\n",
       "            <td>&lt;p&gt;Full stack dev, creating analytics software in the capital markets domain.<br>Interested in: high performance Java, machine learning, DDD.&lt;/p&gt;<br></td>\n",
       "            <td>0</td>\n",
       "            <td>0</td>\n",
       "            <td>0</td>\n",
       "            <td>https://www.gravatar.com/avatar/5dffbd0bd86e324aff9d04907df88e8b?s=128&amp;d=identicon&amp;r=PG</td>\n",
       "            <td>2195588</td>\n",
       "        </tr>\n",
       "    </tbody>\n",
       "</table>"
      ],
      "text/plain": [
       "[(256297, 31, '2019-08-13 12:57:06', 'Jonathan Foldager', '2019-11-21 16:10:31', None, 'Palo Alto, CA, USA', None, 4, 0, 0, 'https://lh3.googleusercontent.com/-XdUIqdMkCWA/AAAAAAAAAAI/AAAAAAAAAAA/4252rscbv5M/photo.jpg?sz=128', 13540386),\n",
       " (236601, 1, '2019-02-05 17:01:29', 'epistudent21', '2019-10-29 15:23:27', None, None, None, 0, 0, 0, 'https://www.gravatar.com/avatar/1bf7bd5d7eb3bfc6531ec7b9b77d4d9a?s=128&d=identicon&r=PG&f=1', 15272010),\n",
       " (75070, 111, '2015-05-01 23:58:47', 'dustin', '2019-07-04 03:34:05', None, 'Bangkok Thailand', None, 0, 12, 0, 'https://www.gravatar.com/avatar/85bb9e2c9145ecb17430d6fdb574410f?s=128&d=identicon&r=PG&f=1', 2467328),\n",
       " (124102, 1, '2016-07-22 01:50:19', 'TJW', '2019-07-02 05:53:20', None, None, None, 0, 0, 0, 'https://www.gravatar.com/avatar/f6faa6a02a01bc0eb0c00aa82de89ea0?s=128&d=identicon&r=PG&f=1', 2555933),\n",
       " (267216, 101, '2019-11-29 16:55:12', 'AlexO', '2019-11-29 16:55:12', None, 'Toronto, Canada', '<p>Full stack dev, creating analytics software in the capital markets domain.\\nInterested in: high performance Java, machine learning, DDD.</p>\\n', 0, 0, 0, 'https://www.gravatar.com/avatar/5dffbd0bd86e324aff9d04907df88e8b?s=128&d=identicon&r=PG', 2195588)]"
      ]
     },
     "execution_count": 95,
     "metadata": {},
     "output_type": "execute_result"
    }
   ],
   "source": [
    "\n",
    "%%sql \n",
    "select * from users\n",
    "order by random()\n",
    "limit 5"
   ]
  },
  {
   "cell_type": "code",
   "execution_count": 96,
   "metadata": {},
   "outputs": [],
   "source": [
    "sql= \"\"\"\n",
    "select * from users\n",
    "order by random()\n",
    "limit 5\n",
    "\"\"\"\n",
    "store_query(\"Task 8\", \"random rows users\", sql)"
   ]
  },
  {
   "cell_type": "code",
   "execution_count": 97,
   "metadata": {},
   "outputs": [
    {
     "name": "stdout",
     "output_type": "stream",
     "text": [
      " * sqlite:///chatdata.db\n",
      "Done.\n"
     ]
    },
    {
     "data": {
      "text/html": [
       "<table>\n",
       "    <thead>\n",
       "        <tr>\n",
       "            <th>task</th>\n",
       "            <th>action</th>\n",
       "            <th>query</th>\n",
       "        </tr>\n",
       "    </thead>\n",
       "    <tbody>\n",
       "        <tr>\n",
       "            <td>Single Table Queries</td>\n",
       "            <td>Which 5 users have viewed the most times and what is the sum of those views per user?</td>\n",
       "            <td><br>SELECT Id, SUM(Views) AS TotalViews<br>    FROM Users<br>        GROUP BY Id<br>            ORDER BY TotalViews DESC<br>                LIMIT 5<br>                </td>\n",
       "        </tr>\n",
       "        <tr>\n",
       "            <td>Task 1</td>\n",
       "            <td>Create table comments</td>\n",
       "            <td><br>    CREATE TABLE &quot;comments&quot; (<br>    &quot;Id&quot; INTEGER,<br>    &quot;PostId&quot; INTEGER,<br>    &quot;Score&quot; INTEGER,<br>    &quot;Text&quot; TEXT,<br>    &quot;CreationDate&quot; TEXT,<br>    &quot;UserId&quot; INTEGER<br>    )<br>    </td>\n",
       "        </tr>\n",
       "        <tr>\n",
       "            <td>Task 2</td>\n",
       "            <td>Create table posts</td>\n",
       "            <td><br>    CREATE TABLE &quot;posts&quot; (<br>&quot;Id&quot; INTEGER NOT NULL PRIMARY KEY,<br>&quot;PostTypeId&quot; INTEGER,<br>&quot;AcceptedAnswerId&quot; INTEGER,<br>&quot;ParentId&quot; INTEGER,<br>&quot;CreationDate&quot; TEXT,<br>&quot;Score&quot; INTEGER,<br>&quot;ViewCount&quot; INTEGER,<br>&quot;Body&quot; TEXT,<br>&quot;OwnerUserId&quot; INTEGER,<br>&quot;OwnerDisplayName&quot; TEXT,<br>&quot;LastEditorUserId&quot; INTEGER,<br>&quot;LastEditorDisplayName&quot; TEXT,<br>&quot;LastEditDate&quot; TEXT,<br>&quot;LastActivityDate&quot; TEXT,<br>&quot;Title&quot; TEXT,<br>&quot;Tags&quot; TEXT,<br>&quot;AnswerCount&quot; INTEGER,<br>&quot;CommentCount&quot; INTEGER,<br>&quot;FavoriteCount&quot; INTEGER,<br>&quot;ClosedDate&quot; TEXT,<br>&quot;CommunityOwnedDate&quot; TEXT<br>);<br>    </td>\n",
       "        </tr>\n",
       "        <tr>\n",
       "            <td>Task 2</td>\n",
       "            <td>Create table posts</td>\n",
       "            <td><br>    CREATE TABLE &quot;users&quot; (<br>&quot;Id&quot; INTEGER NOT NULL PRIMARY KEY,<br>&quot;Reputation&quot; INTEGER,<br>&quot;CreationDate&quot; TEXT,<br>&quot;DisplayName&quot; TEXT,<br>&quot;LastAccessDate&quot; TEXT,<br>&quot;WebsiteUrl&quot; TEXT,<br>&quot;Location&quot; TEXT,<br>&quot;AboutMe&quot; TEXT,<br>&quot;Views&quot; INTEGER,<br>&quot;UpVotes&quot; INTEGER,<br>&quot;DownVotes&quot; INTEGER,<br>&quot;ProfileImageUrl&quot; TEXT,<br>&quot;AccountId&quot; INTEGER<br>);<br>    </td>\n",
       "        </tr>\n",
       "        <tr>\n",
       "            <td>Task 3</td>\n",
       "            <td>Create table users</td>\n",
       "            <td><br>    CREATE TABLE &quot;users&quot; (<br>&quot;Id&quot; INTEGER NOT NULL PRIMARY KEY,<br>&quot;Reputation&quot; INTEGER,<br>&quot;CreationDate&quot; TEXT,<br>&quot;DisplayName&quot; TEXT,<br>&quot;LastAccessDate&quot; TEXT,<br>&quot;WebsiteUrl&quot; TEXT,<br>&quot;Location&quot; TEXT,<br>&quot;AboutMe&quot; TEXT,<br>&quot;Views&quot; INTEGER,<br>&quot;UpVotes&quot; INTEGER,<br>&quot;DownVotes&quot; INTEGER,<br>&quot;ProfileImageUrl&quot; TEXT,<br>&quot;AccountId&quot; INTEGER<br>);<br>    </td>\n",
       "        </tr>\n",
       "        <tr>\n",
       "            <td>Task 4</td>\n",
       "            <td>row count comments</td>\n",
       "            <td><br>select count(id)<br>From comments<br></td>\n",
       "        </tr>\n",
       "        <tr>\n",
       "            <td>Task 4</td>\n",
       "            <td>row count comments</td>\n",
       "            <td><br>select count(id)<br>From comments<br></td>\n",
       "        </tr>\n",
       "        <tr>\n",
       "            <td>Task 5</td>\n",
       "            <td>count rows users</td>\n",
       "            <td><br>select count(id)<br>From users<br></td>\n",
       "        </tr>\n",
       "        <tr>\n",
       "            <td>Task 5</td>\n",
       "            <td>count rows posts</td>\n",
       "            <td><br>select count(id)<br>From posts<br></td>\n",
       "        </tr>\n",
       "        <tr>\n",
       "            <td>Task 6</td>\n",
       "            <td>random rows posts</td>\n",
       "            <td><br>select * from posts<br>order by random()<br>limit 5<br></td>\n",
       "        </tr>\n",
       "        <tr>\n",
       "            <td>Task 7</td>\n",
       "            <td>random rows comments</td>\n",
       "            <td><br>select * from comments<br>order by random()<br>limit 5<br></td>\n",
       "        </tr>\n",
       "        <tr>\n",
       "            <td>Task 8</td>\n",
       "            <td>random rows users</td>\n",
       "            <td><br>select * from users<br>order by random()<br>limit 5<br></td>\n",
       "        </tr>\n",
       "    </tbody>\n",
       "</table>"
      ],
      "text/plain": [
       "[('Single Table Queries', 'Which 5 users have viewed the most times and what is the sum of those views per user?', '\\nSELECT Id, SUM(Views) AS TotalViews\\n    FROM Users\\n        GROUP BY Id\\n            ORDER BY TotalViews DESC\\n                LIMIT 5\\n                '),\n",
       " ('Task 1', 'Create table comments', '\\n    CREATE TABLE \"comments\" (\\n    \"Id\" INTEGER,\\n    \"PostId\" INTEGER,\\n    \"Score\" INTEGER,\\n    \"Text\" TEXT,\\n    \"CreationDate\" TEXT,\\n    \"UserId\" INTEGER\\n    )\\n    '),\n",
       " ('Task 2', 'Create table posts', '\\n    CREATE TABLE \"posts\" (\\n\"Id\" INTEGER NOT NULL PRIMARY KEY,\\n\"PostTypeId\" INTEGER,\\n\"AcceptedAnswerId\" INTEGER,\\n\"ParentId\" INTEGER,\\n\"CreationD ... (234 characters truncated) ... XT,\\n\"Tags\" TEXT,\\n\"AnswerCount\" INTEGER,\\n\"CommentCount\" INTEGER,\\n\"FavoriteCount\" INTEGER,\\n\"ClosedDate\" TEXT,\\n\"CommunityOwnedDate\" TEXT\\n);\\n    '),\n",
       " ('Task 2', 'Create table posts', '\\n    CREATE TABLE \"users\" (\\n\"Id\" INTEGER NOT NULL PRIMARY KEY,\\n\"Reputation\" INTEGER,\\n\"CreationDate\" TEXT,\\n\"DisplayName\" TEXT,\\n\"LastAccessDate\"  ... (27 characters truncated) ... \"Location\" TEXT,\\n\"AboutMe\" TEXT,\\n\"Views\" INTEGER,\\n\"UpVotes\" INTEGER,\\n\"DownVotes\" INTEGER,\\n\"ProfileImageUrl\" TEXT,\\n\"AccountId\" INTEGER\\n);\\n    '),\n",
       " ('Task 3', 'Create table users', '\\n    CREATE TABLE \"users\" (\\n\"Id\" INTEGER NOT NULL PRIMARY KEY,\\n\"Reputation\" INTEGER,\\n\"CreationDate\" TEXT,\\n\"DisplayName\" TEXT,\\n\"LastAccessDate\"  ... (27 characters truncated) ... \"Location\" TEXT,\\n\"AboutMe\" TEXT,\\n\"Views\" INTEGER,\\n\"UpVotes\" INTEGER,\\n\"DownVotes\" INTEGER,\\n\"ProfileImageUrl\" TEXT,\\n\"AccountId\" INTEGER\\n);\\n    '),\n",
       " ('Task 4', 'row count comments', '\\nselect count(id)\\nFrom comments\\n'),\n",
       " ('Task 4', 'row count comments', '\\nselect count(id)\\nFrom comments\\n'),\n",
       " ('Task 5', 'count rows users', '\\nselect count(id)\\nFrom users\\n'),\n",
       " ('Task 5', 'count rows posts', '\\nselect count(id)\\nFrom posts\\n'),\n",
       " ('Task 6', 'random rows posts', '\\nselect * from posts\\norder by random()\\nlimit 5\\n'),\n",
       " ('Task 7', 'random rows comments', '\\nselect * from comments\\norder by random()\\nlimit 5\\n'),\n",
       " ('Task 8', 'random rows users', '\\nselect * from users\\norder by random()\\nlimit 5\\n')]"
      ]
     },
     "execution_count": 97,
     "metadata": {},
     "output_type": "execute_result"
    }
   ],
   "source": [
    "%sql SELECT * FROM queries"
   ]
  },
  {
   "cell_type": "markdown",
   "metadata": {},
   "source": [
    "# Task 2: Create Single Table Queries\n"
   ]
  },
  {
   "cell_type": "markdown",
   "metadata": {},
   "source": [
    "## Lifecycle Stage: Analyze\n",
    "We can now start the analysis with our single-table queries.  First we need to create a new computed column to help with one of the queries.  The code below creates a column called LEN_BODY which is the length of the BODY text:\n"
   ]
  },
  {
   "cell_type": "code",
   "execution_count": 98,
   "metadata": {},
   "outputs": [
    {
     "name": "stdout",
     "output_type": "stream",
     "text": [
      " * sqlite:///chatdata.db\n",
      "Done.\n"
     ]
    },
    {
     "data": {
      "text/plain": [
       "[]"
      ]
     },
     "execution_count": 98,
     "metadata": {},
     "output_type": "execute_result"
    }
   ],
   "source": [
    "%%sql\n",
    "ALTER TABLE POSTS ADD COLUMN LEN_BODY INT"
   ]
  },
  {
   "cell_type": "code",
   "execution_count": 99,
   "metadata": {},
   "outputs": [
    {
     "name": "stdout",
     "output_type": "stream",
     "text": [
      " * sqlite:///chatdata.db\n",
      "42234 rows affected.\n"
     ]
    },
    {
     "data": {
      "text/plain": [
       "[]"
      ]
     },
     "execution_count": 99,
     "metadata": {},
     "output_type": "execute_result"
    }
   ],
   "source": [
    "%%sql\n",
    "UPDATE POSTS SET LEN_BODY = LENGTH(BODY)"
   ]
  },
  {
   "cell_type": "markdown",
   "metadata": {},
   "source": [
    "### Single Table Queries\n",
    "From the Template SQL Queries there are a series of queries requested. You are responsible for coding the result. Use the pattern above to accomplish the coding objective.  Copy and paste the question (column B Action) into a markdown cell and answer the query. Use the pattern that you have been using above. \n",
    "\n",
    "<div style=\"background-color:lemonchiffon; border:1px solid; padding:5px; margin:5px; font-weight:bold\"><font color=\"crimson\">\n",
    "TODO: Enter your code below.  Just keep on inserting cells as you need them.\n",
    "    </font></div>"
   ]
  },
  {
   "cell_type": "code",
   "execution_count": 105,
   "metadata": {},
   "outputs": [
    {
     "data": {
      "text/html": [
       "<div>\n",
       "<style scoped>\n",
       "    .dataframe tbody tr th:only-of-type {\n",
       "        vertical-align: middle;\n",
       "    }\n",
       "\n",
       "    .dataframe tbody tr th {\n",
       "        vertical-align: top;\n",
       "    }\n",
       "\n",
       "    .dataframe thead th {\n",
       "        text-align: right;\n",
       "    }\n",
       "</style>\n",
       "<table border=\"1\" class=\"dataframe\">\n",
       "  <thead>\n",
       "    <tr style=\"text-align: right;\">\n",
       "      <th></th>\n",
       "      <th>count</th>\n",
       "    </tr>\n",
       "  </thead>\n",
       "  <tbody>\n",
       "    <tr>\n",
       "      <th>0</th>\n",
       "      <td>21713</td>\n",
       "    </tr>\n",
       "  </tbody>\n",
       "</table>\n",
       "</div>"
      ],
      "text/plain": [
       "   count\n",
       "0  21713"
      ]
     },
     "execution_count": 105,
     "metadata": {},
     "output_type": "execute_result"
    }
   ],
   "source": [
    "sql=\"\"\"\n",
    "select count(*) as count\n",
    "from posts\n",
    "where commentcount=0\n",
    "\"\"\"\n",
    "store_query('task2','How many posts have 0 comments?',sql)\n",
    "res=pd.read_sql(sql,con)\n",
    "res.head()"
   ]
  },
  {
   "cell_type": "code",
   "execution_count": 107,
   "metadata": {},
   "outputs": [
    {
     "data": {
      "text/html": [
       "<div>\n",
       "<style scoped>\n",
       "    .dataframe tbody tr th:only-of-type {\n",
       "        vertical-align: middle;\n",
       "    }\n",
       "\n",
       "    .dataframe tbody tr th {\n",
       "        vertical-align: top;\n",
       "    }\n",
       "\n",
       "    .dataframe thead th {\n",
       "        text-align: right;\n",
       "    }\n",
       "</style>\n",
       "<table border=\"1\" class=\"dataframe\">\n",
       "  <thead>\n",
       "    <tr style=\"text-align: right;\">\n",
       "      <th></th>\n",
       "      <th>count</th>\n",
       "    </tr>\n",
       "  </thead>\n",
       "  <tbody>\n",
       "    <tr>\n",
       "      <th>0</th>\n",
       "      <td>6460</td>\n",
       "    </tr>\n",
       "  </tbody>\n",
       "</table>\n",
       "</div>"
      ],
      "text/plain": [
       "   count\n",
       "0   6460"
      ]
     },
     "execution_count": 107,
     "metadata": {},
     "output_type": "execute_result"
    }
   ],
   "source": [
    "sql=\"\"\"\n",
    "select count(*) as count\n",
    "from posts\n",
    "where commentcount=1\n",
    "\"\"\"\n",
    "store_query('task2','How many posts have 1 comments?',sql)\n",
    "res=pd.read_sql(sql,con)\n",
    "res.head()"
   ]
  },
  {
   "cell_type": "code",
   "execution_count": 108,
   "metadata": {},
   "outputs": [
    {
     "data": {
      "text/html": [
       "<div>\n",
       "<style scoped>\n",
       "    .dataframe tbody tr th:only-of-type {\n",
       "        vertical-align: middle;\n",
       "    }\n",
       "\n",
       "    .dataframe tbody tr th {\n",
       "        vertical-align: top;\n",
       "    }\n",
       "\n",
       "    .dataframe thead th {\n",
       "        text-align: right;\n",
       "    }\n",
       "</style>\n",
       "<table border=\"1\" class=\"dataframe\">\n",
       "  <thead>\n",
       "    <tr style=\"text-align: right;\">\n",
       "      <th></th>\n",
       "      <th>count</th>\n",
       "    </tr>\n",
       "  </thead>\n",
       "  <tbody>\n",
       "    <tr>\n",
       "      <th>0</th>\n",
       "      <td>14061</td>\n",
       "    </tr>\n",
       "  </tbody>\n",
       "</table>\n",
       "</div>"
      ],
      "text/plain": [
       "   count\n",
       "0  14061"
      ]
     },
     "execution_count": 108,
     "metadata": {},
     "output_type": "execute_result"
    }
   ],
   "source": [
    "sql=\"\"\"\n",
    "select count(*) as count\n",
    "from posts\n",
    "where commentcount>=2\n",
    "\"\"\"\n",
    "store_query('task2','How many posts have 2 comments or more?',sql)\n",
    "res=pd.read_sql(sql,con)\n",
    "res.head()"
   ]
  },
  {
   "cell_type": "code",
   "execution_count": 109,
   "metadata": {},
   "outputs": [
    {
     "data": {
      "text/html": [
       "<div>\n",
       "<style scoped>\n",
       "    .dataframe tbody tr th:only-of-type {\n",
       "        vertical-align: middle;\n",
       "    }\n",
       "\n",
       "    .dataframe tbody tr th {\n",
       "        vertical-align: top;\n",
       "    }\n",
       "\n",
       "    .dataframe thead th {\n",
       "        text-align: right;\n",
       "    }\n",
       "</style>\n",
       "<table border=\"1\" class=\"dataframe\">\n",
       "  <thead>\n",
       "    <tr style=\"text-align: right;\">\n",
       "      <th></th>\n",
       "      <th>Id</th>\n",
       "      <th>PostTypeId</th>\n",
       "      <th>AcceptedAnswerId</th>\n",
       "      <th>ParentId</th>\n",
       "      <th>CreationDate</th>\n",
       "      <th>Score</th>\n",
       "      <th>ViewCount</th>\n",
       "      <th>Body</th>\n",
       "      <th>OwnerUserId</th>\n",
       "      <th>OwnerDisplayName</th>\n",
       "      <th>...</th>\n",
       "      <th>LastEditDate</th>\n",
       "      <th>LastActivityDate</th>\n",
       "      <th>Title</th>\n",
       "      <th>Tags</th>\n",
       "      <th>AnswerCount</th>\n",
       "      <th>CommentCount</th>\n",
       "      <th>FavoriteCount</th>\n",
       "      <th>ClosedDate</th>\n",
       "      <th>CommunityOwnedDate</th>\n",
       "      <th>LEN_BODY</th>\n",
       "    </tr>\n",
       "  </thead>\n",
       "  <tbody>\n",
       "    <tr>\n",
       "      <th>0</th>\n",
       "      <td>388566</td>\n",
       "      <td>1</td>\n",
       "      <td>388582</td>\n",
       "      <td>0</td>\n",
       "      <td>2019-01-22 15:16:47</td>\n",
       "      <td>56</td>\n",
       "      <td>19542</td>\n",
       "      <td>&lt;ul&gt;\\n&lt;li&gt;Statement One (S1): \"One in 80 death...</td>\n",
       "      <td>228214</td>\n",
       "      <td>None</td>\n",
       "      <td>...</td>\n",
       "      <td>2019-01-22 21:40:39</td>\n",
       "      <td>2019-01-24 17:09:47</td>\n",
       "      <td>Is it wrong to rephrase \"1 in 80 deaths is cau...</td>\n",
       "      <td>&lt;interpretation&gt;&lt;risk&gt;</td>\n",
       "      <td>9</td>\n",
       "      <td>15</td>\n",
       "      <td>15</td>\n",
       "      <td>None</td>\n",
       "      <td>None</td>\n",
       "      <td>2270</td>\n",
       "    </tr>\n",
       "    <tr>\n",
       "      <th>1</th>\n",
       "      <td>394118</td>\n",
       "      <td>1</td>\n",
       "      <td>394128</td>\n",
       "      <td>0</td>\n",
       "      <td>2019-02-24 14:07:11</td>\n",
       "      <td>64</td>\n",
       "      <td>16317</td>\n",
       "      <td>&lt;p&gt;A human child at age 2 needs around 5 insta...</td>\n",
       "      <td>107213</td>\n",
       "      <td>None</td>\n",
       "      <td>...</td>\n",
       "      <td>2019-02-25 22:40:22</td>\n",
       "      <td>2019-03-03 17:37:05</td>\n",
       "      <td>Why do neural networks need so many training e...</td>\n",
       "      <td>&lt;neural-networks&gt;&lt;neuroscience&gt;</td>\n",
       "      <td>12</td>\n",
       "      <td>24</td>\n",
       "      <td>38</td>\n",
       "      <td>None</td>\n",
       "      <td>None</td>\n",
       "      <td>512</td>\n",
       "    </tr>\n",
       "    <tr>\n",
       "      <th>2</th>\n",
       "      <td>431370</td>\n",
       "      <td>1</td>\n",
       "      <td>431397</td>\n",
       "      <td>0</td>\n",
       "      <td>2019-10-14 11:29:21</td>\n",
       "      <td>77</td>\n",
       "      <td>11723</td>\n",
       "      <td>&lt;p&gt;It seems very counter intuitive to many peo...</td>\n",
       "      <td>262594</td>\n",
       "      <td>None</td>\n",
       "      <td>...</td>\n",
       "      <td>2019-11-28 01:44:34</td>\n",
       "      <td>2019-11-28 01:44:34</td>\n",
       "      <td>Is there a name for the phenomenon of false po...</td>\n",
       "      <td>&lt;probability&gt;&lt;terminology&gt;&lt;intuition&gt;</td>\n",
       "      <td>8</td>\n",
       "      <td>9</td>\n",
       "      <td>18</td>\n",
       "      <td>None</td>\n",
       "      <td>None</td>\n",
       "      <td>811</td>\n",
       "    </tr>\n",
       "    <tr>\n",
       "      <th>3</th>\n",
       "      <td>398646</td>\n",
       "      <td>1</td>\n",
       "      <td>398653</td>\n",
       "      <td>0</td>\n",
       "      <td>2019-03-21 01:19:52</td>\n",
       "      <td>61</td>\n",
       "      <td>9850</td>\n",
       "      <td>&lt;p&gt;The title of the Comment in Nature &lt;a href=...</td>\n",
       "      <td>163067</td>\n",
       "      <td>None</td>\n",
       "      <td>...</td>\n",
       "      <td>2019-03-22 22:14:04</td>\n",
       "      <td>2019-03-30 19:35:27</td>\n",
       "      <td>What does \"Scientists rise up against statisti...</td>\n",
       "      <td>&lt;statistical-significance&gt;&lt;p-value&gt;&lt;bias&gt;</td>\n",
       "      <td>10</td>\n",
       "      <td>7</td>\n",
       "      <td>34</td>\n",
       "      <td>None</td>\n",
       "      <td>None</td>\n",
       "      <td>2148</td>\n",
       "    </tr>\n",
       "    <tr>\n",
       "      <th>4</th>\n",
       "      <td>434128</td>\n",
       "      <td>1</td>\n",
       "      <td>434579</td>\n",
       "      <td>0</td>\n",
       "      <td>2019-11-01 13:07:36</td>\n",
       "      <td>73</td>\n",
       "      <td>6718</td>\n",
       "      <td>&lt;p&gt;I am designing a one year program in data a...</td>\n",
       "      <td>14188</td>\n",
       "      <td>None</td>\n",
       "      <td>...</td>\n",
       "      <td>None</td>\n",
       "      <td>2019-11-26 00:59:15</td>\n",
       "      <td>Famous statistical wins and horror stories for...</td>\n",
       "      <td>&lt;mathematical-statistics&gt;&lt;data-visualization&gt;&lt;...</td>\n",
       "      <td>13</td>\n",
       "      <td>7</td>\n",
       "      <td>70</td>\n",
       "      <td>None</td>\n",
       "      <td>2019-11-01 15:12:41</td>\n",
       "      <td>1172</td>\n",
       "    </tr>\n",
       "  </tbody>\n",
       "</table>\n",
       "<p>5 rows × 22 columns</p>\n",
       "</div>"
      ],
      "text/plain": [
       "       Id  PostTypeId  AcceptedAnswerId  ParentId         CreationDate  Score  \\\n",
       "0  388566           1            388582         0  2019-01-22 15:16:47     56   \n",
       "1  394118           1            394128         0  2019-02-24 14:07:11     64   \n",
       "2  431370           1            431397         0  2019-10-14 11:29:21     77   \n",
       "3  398646           1            398653         0  2019-03-21 01:19:52     61   \n",
       "4  434128           1            434579         0  2019-11-01 13:07:36     73   \n",
       "\n",
       "   ViewCount                                               Body  OwnerUserId  \\\n",
       "0      19542  <ul>\\n<li>Statement One (S1): \"One in 80 death...       228214   \n",
       "1      16317  <p>A human child at age 2 needs around 5 insta...       107213   \n",
       "2      11723  <p>It seems very counter intuitive to many peo...       262594   \n",
       "3       9850  <p>The title of the Comment in Nature <a href=...       163067   \n",
       "4       6718  <p>I am designing a one year program in data a...        14188   \n",
       "\n",
       "  OwnerDisplayName  ...         LastEditDate     LastActivityDate  \\\n",
       "0             None  ...  2019-01-22 21:40:39  2019-01-24 17:09:47   \n",
       "1             None  ...  2019-02-25 22:40:22  2019-03-03 17:37:05   \n",
       "2             None  ...  2019-11-28 01:44:34  2019-11-28 01:44:34   \n",
       "3             None  ...  2019-03-22 22:14:04  2019-03-30 19:35:27   \n",
       "4             None  ...                 None  2019-11-26 00:59:15   \n",
       "\n",
       "                                               Title  \\\n",
       "0  Is it wrong to rephrase \"1 in 80 deaths is cau...   \n",
       "1  Why do neural networks need so many training e...   \n",
       "2  Is there a name for the phenomenon of false po...   \n",
       "3  What does \"Scientists rise up against statisti...   \n",
       "4  Famous statistical wins and horror stories for...   \n",
       "\n",
       "                                                Tags AnswerCount CommentCount  \\\n",
       "0                             <interpretation><risk>           9           15   \n",
       "1                    <neural-networks><neuroscience>          12           24   \n",
       "2              <probability><terminology><intuition>           8            9   \n",
       "3          <statistical-significance><p-value><bias>          10            7   \n",
       "4  <mathematical-statistics><data-visualization><...          13            7   \n",
       "\n",
       "   FavoriteCount  ClosedDate   CommunityOwnedDate LEN_BODY  \n",
       "0             15        None                 None     2270  \n",
       "1             38        None                 None      512  \n",
       "2             18        None                 None      811  \n",
       "3             34        None                 None     2148  \n",
       "4             70        None  2019-11-01 15:12:41     1172  \n",
       "\n",
       "[5 rows x 22 columns]"
      ]
     },
     "execution_count": 109,
     "metadata": {},
     "output_type": "execute_result"
    }
   ],
   "source": [
    "sql=\"\"\"\n",
    "select * \n",
    "from posts\n",
    "order by viewcount desc\n",
    "limit 5\n",
    "\"\"\"\n",
    "store_query('task2','Find the 5 posts with the highest viewcount',sql)\n",
    "res=pd.read_sql(sql,con)\n",
    "res.head()"
   ]
  },
  {
   "cell_type": "code",
   "execution_count": 111,
   "metadata": {},
   "outputs": [
    {
     "data": {
      "text/html": [
       "<div>\n",
       "<style scoped>\n",
       "    .dataframe tbody tr th:only-of-type {\n",
       "        vertical-align: middle;\n",
       "    }\n",
       "\n",
       "    .dataframe tbody tr th {\n",
       "        vertical-align: top;\n",
       "    }\n",
       "\n",
       "    .dataframe thead th {\n",
       "        text-align: right;\n",
       "    }\n",
       "</style>\n",
       "<table border=\"1\" class=\"dataframe\">\n",
       "  <thead>\n",
       "    <tr style=\"text-align: right;\">\n",
       "      <th></th>\n",
       "      <th>Id</th>\n",
       "      <th>PostTypeId</th>\n",
       "      <th>AcceptedAnswerId</th>\n",
       "      <th>ParentId</th>\n",
       "      <th>CreationDate</th>\n",
       "      <th>Score</th>\n",
       "      <th>ViewCount</th>\n",
       "      <th>Body</th>\n",
       "      <th>OwnerUserId</th>\n",
       "      <th>OwnerDisplayName</th>\n",
       "      <th>...</th>\n",
       "      <th>LastEditDate</th>\n",
       "      <th>LastActivityDate</th>\n",
       "      <th>Title</th>\n",
       "      <th>Tags</th>\n",
       "      <th>AnswerCount</th>\n",
       "      <th>CommentCount</th>\n",
       "      <th>FavoriteCount</th>\n",
       "      <th>ClosedDate</th>\n",
       "      <th>CommunityOwnedDate</th>\n",
       "      <th>LEN_BODY</th>\n",
       "    </tr>\n",
       "  </thead>\n",
       "  <tbody>\n",
       "    <tr>\n",
       "      <th>0</th>\n",
       "      <td>431397</td>\n",
       "      <td>2</td>\n",
       "      <td>0</td>\n",
       "      <td>431370</td>\n",
       "      <td>2019-10-14 14:29:36</td>\n",
       "      <td>101</td>\n",
       "      <td>0</td>\n",
       "      <td>&lt;p&gt;Yes there is. Generally it is termed &lt;stron...</td>\n",
       "      <td>142976</td>\n",
       "      <td>None</td>\n",
       "      <td>...</td>\n",
       "      <td>None</td>\n",
       "      <td>2019-10-14 14:29:36</td>\n",
       "      <td>None</td>\n",
       "      <td>None</td>\n",
       "      <td>0</td>\n",
       "      <td>0</td>\n",
       "      <td>0</td>\n",
       "      <td>None</td>\n",
       "      <td>None</td>\n",
       "      <td>269</td>\n",
       "    </tr>\n",
       "    <tr>\n",
       "      <th>1</th>\n",
       "      <td>394128</td>\n",
       "      <td>2</td>\n",
       "      <td>0</td>\n",
       "      <td>394118</td>\n",
       "      <td>2019-02-24 15:44:44</td>\n",
       "      <td>100</td>\n",
       "      <td>0</td>\n",
       "      <td>&lt;p&gt;I caution against expecting strong resembla...</td>\n",
       "      <td>22311</td>\n",
       "      <td>None</td>\n",
       "      <td>...</td>\n",
       "      <td>2019-03-03 17:37:05</td>\n",
       "      <td>2019-03-03 17:37:05</td>\n",
       "      <td>None</td>\n",
       "      <td>None</td>\n",
       "      <td>0</td>\n",
       "      <td>15</td>\n",
       "      <td>0</td>\n",
       "      <td>None</td>\n",
       "      <td>None</td>\n",
       "      <td>5829</td>\n",
       "    </tr>\n",
       "    <tr>\n",
       "      <th>2</th>\n",
       "      <td>426878</td>\n",
       "      <td>2</td>\n",
       "      <td>0</td>\n",
       "      <td>426873</td>\n",
       "      <td>2019-09-11 23:23:31</td>\n",
       "      <td>93</td>\n",
       "      <td>0</td>\n",
       "      <td>&lt;p&gt;&lt;strong&gt;tl;dr&lt;/strong&gt; Even though this is ...</td>\n",
       "      <td>119015</td>\n",
       "      <td>None</td>\n",
       "      <td>...</td>\n",
       "      <td>2019-09-13 14:02:28</td>\n",
       "      <td>2019-09-13 14:02:28</td>\n",
       "      <td>None</td>\n",
       "      <td>None</td>\n",
       "      <td>0</td>\n",
       "      <td>6</td>\n",
       "      <td>0</td>\n",
       "      <td>None</td>\n",
       "      <td>None</td>\n",
       "      <td>4627</td>\n",
       "    </tr>\n",
       "    <tr>\n",
       "      <th>3</th>\n",
       "      <td>388578</td>\n",
       "      <td>2</td>\n",
       "      <td>0</td>\n",
       "      <td>388566</td>\n",
       "      <td>2019-01-22 15:48:47</td>\n",
       "      <td>80</td>\n",
       "      <td>0</td>\n",
       "      <td>&lt;p&gt;To me \"1 in 80 deaths...\" is by far the cle...</td>\n",
       "      <td>227039</td>\n",
       "      <td>None</td>\n",
       "      <td>...</td>\n",
       "      <td>None</td>\n",
       "      <td>2019-01-22 15:48:47</td>\n",
       "      <td>None</td>\n",
       "      <td>None</td>\n",
       "      <td>0</td>\n",
       "      <td>11</td>\n",
       "      <td>0</td>\n",
       "      <td>None</td>\n",
       "      <td>None</td>\n",
       "      <td>572</td>\n",
       "    </tr>\n",
       "    <tr>\n",
       "      <th>4</th>\n",
       "      <td>431370</td>\n",
       "      <td>1</td>\n",
       "      <td>431397</td>\n",
       "      <td>0</td>\n",
       "      <td>2019-10-14 11:29:21</td>\n",
       "      <td>77</td>\n",
       "      <td>11723</td>\n",
       "      <td>&lt;p&gt;It seems very counter intuitive to many peo...</td>\n",
       "      <td>262594</td>\n",
       "      <td>None</td>\n",
       "      <td>...</td>\n",
       "      <td>2019-11-28 01:44:34</td>\n",
       "      <td>2019-11-28 01:44:34</td>\n",
       "      <td>Is there a name for the phenomenon of false po...</td>\n",
       "      <td>&lt;probability&gt;&lt;terminology&gt;&lt;intuition&gt;</td>\n",
       "      <td>8</td>\n",
       "      <td>9</td>\n",
       "      <td>18</td>\n",
       "      <td>None</td>\n",
       "      <td>None</td>\n",
       "      <td>811</td>\n",
       "    </tr>\n",
       "  </tbody>\n",
       "</table>\n",
       "<p>5 rows × 22 columns</p>\n",
       "</div>"
      ],
      "text/plain": [
       "       Id  PostTypeId  AcceptedAnswerId  ParentId         CreationDate  Score  \\\n",
       "0  431397           2                 0    431370  2019-10-14 14:29:36    101   \n",
       "1  394128           2                 0    394118  2019-02-24 15:44:44    100   \n",
       "2  426878           2                 0    426873  2019-09-11 23:23:31     93   \n",
       "3  388578           2                 0    388566  2019-01-22 15:48:47     80   \n",
       "4  431370           1            431397         0  2019-10-14 11:29:21     77   \n",
       "\n",
       "   ViewCount                                               Body  OwnerUserId  \\\n",
       "0          0  <p>Yes there is. Generally it is termed <stron...       142976   \n",
       "1          0  <p>I caution against expecting strong resembla...        22311   \n",
       "2          0  <p><strong>tl;dr</strong> Even though this is ...       119015   \n",
       "3          0  <p>To me \"1 in 80 deaths...\" is by far the cle...       227039   \n",
       "4      11723  <p>It seems very counter intuitive to many peo...       262594   \n",
       "\n",
       "  OwnerDisplayName  ...         LastEditDate     LastActivityDate  \\\n",
       "0             None  ...                 None  2019-10-14 14:29:36   \n",
       "1             None  ...  2019-03-03 17:37:05  2019-03-03 17:37:05   \n",
       "2             None  ...  2019-09-13 14:02:28  2019-09-13 14:02:28   \n",
       "3             None  ...                 None  2019-01-22 15:48:47   \n",
       "4             None  ...  2019-11-28 01:44:34  2019-11-28 01:44:34   \n",
       "\n",
       "                                               Title  \\\n",
       "0                                               None   \n",
       "1                                               None   \n",
       "2                                               None   \n",
       "3                                               None   \n",
       "4  Is there a name for the phenomenon of false po...   \n",
       "\n",
       "                                    Tags AnswerCount CommentCount  \\\n",
       "0                                   None           0            0   \n",
       "1                                   None           0           15   \n",
       "2                                   None           0            6   \n",
       "3                                   None           0           11   \n",
       "4  <probability><terminology><intuition>           8            9   \n",
       "\n",
       "   FavoriteCount  ClosedDate  CommunityOwnedDate LEN_BODY  \n",
       "0              0        None                None      269  \n",
       "1              0        None                None     5829  \n",
       "2              0        None                None     4627  \n",
       "3              0        None                None      572  \n",
       "4             18        None                None      811  \n",
       "\n",
       "[5 rows x 22 columns]"
      ]
     },
     "execution_count": 111,
     "metadata": {},
     "output_type": "execute_result"
    }
   ],
   "source": [
    "sql=\"\"\"\n",
    "select * \n",
    "from posts\n",
    "order by score desc\n",
    "limit 5\n",
    "\"\"\"\n",
    "store_query('task2','Find the top 5 posts with the highest scores',sql)\n",
    "res=pd.read_sql(sql,con)\n",
    "res.head()"
   ]
  },
  {
   "cell_type": "code",
   "execution_count": 112,
   "metadata": {},
   "outputs": [
    {
     "data": {
      "text/html": [
       "<div>\n",
       "<style scoped>\n",
       "    .dataframe tbody tr th:only-of-type {\n",
       "        vertical-align: middle;\n",
       "    }\n",
       "\n",
       "    .dataframe tbody tr th {\n",
       "        vertical-align: top;\n",
       "    }\n",
       "\n",
       "    .dataframe thead th {\n",
       "        text-align: right;\n",
       "    }\n",
       "</style>\n",
       "<table border=\"1\" class=\"dataframe\">\n",
       "  <thead>\n",
       "    <tr style=\"text-align: right;\">\n",
       "      <th></th>\n",
       "      <th>count</th>\n",
       "      <th>Score</th>\n",
       "    </tr>\n",
       "  </thead>\n",
       "  <tbody>\n",
       "    <tr>\n",
       "      <th>0</th>\n",
       "      <td>19888</td>\n",
       "      <td>0</td>\n",
       "    </tr>\n",
       "    <tr>\n",
       "      <th>1</th>\n",
       "      <td>11867</td>\n",
       "      <td>1</td>\n",
       "    </tr>\n",
       "    <tr>\n",
       "      <th>2</th>\n",
       "      <td>5094</td>\n",
       "      <td>2</td>\n",
       "    </tr>\n",
       "    <tr>\n",
       "      <th>3</th>\n",
       "      <td>2228</td>\n",
       "      <td>3</td>\n",
       "    </tr>\n",
       "    <tr>\n",
       "      <th>4</th>\n",
       "      <td>1059</td>\n",
       "      <td>4</td>\n",
       "    </tr>\n",
       "  </tbody>\n",
       "</table>\n",
       "</div>"
      ],
      "text/plain": [
       "   count  Score\n",
       "0  19888      0\n",
       "1  11867      1\n",
       "2   5094      2\n",
       "3   2228      3\n",
       "4   1059      4"
      ]
     },
     "execution_count": 112,
     "metadata": {},
     "output_type": "execute_result"
    }
   ],
   "source": [
    "sql=\"\"\"\n",
    "select count(*) as count, score \n",
    "from posts\n",
    "group by score \n",
    "order by count desc\n",
    "limit 5\n",
    "\"\"\"\n",
    "store_query('task2','What are the 5 most frequent scores on posts?',sql)\n",
    "res=pd.read_sql(sql,con)\n",
    "res.head()"
   ]
  },
  {
   "cell_type": "code",
   "execution_count": 115,
   "metadata": {},
   "outputs": [
    {
     "data": {
      "text/html": [
       "<div>\n",
       "<style scoped>\n",
       "    .dataframe tbody tr th:only-of-type {\n",
       "        vertical-align: middle;\n",
       "    }\n",
       "\n",
       "    .dataframe tbody tr th {\n",
       "        vertical-align: top;\n",
       "    }\n",
       "\n",
       "    .dataframe thead th {\n",
       "        text-align: right;\n",
       "    }\n",
       "</style>\n",
       "<table border=\"1\" class=\"dataframe\">\n",
       "  <thead>\n",
       "    <tr style=\"text-align: right;\">\n",
       "      <th></th>\n",
       "      <th>count</th>\n",
       "    </tr>\n",
       "  </thead>\n",
       "  <tbody>\n",
       "    <tr>\n",
       "      <th>0</th>\n",
       "      <td>2242</td>\n",
       "    </tr>\n",
       "  </tbody>\n",
       "</table>\n",
       "</div>"
      ],
      "text/plain": [
       "   count\n",
       "0   2242"
      ]
     },
     "execution_count": 115,
     "metadata": {},
     "output_type": "execute_result"
    }
   ],
   "source": [
    "sql=\"\"\"\n",
    "select count(*) as count\n",
    "from posts\n",
    "where tags like '%data%'\n",
    "\"\"\"\n",
    "store_query('task2','How many posts have the keyword \"data\" in their tags?',sql)\n",
    "res=pd.read_sql(sql,con)\n",
    "res.head()"
   ]
  },
  {
   "cell_type": "code",
   "execution_count": 116,
   "metadata": {},
   "outputs": [
    {
     "data": {
      "text/html": [
       "<div>\n",
       "<style scoped>\n",
       "    .dataframe tbody tr th:only-of-type {\n",
       "        vertical-align: middle;\n",
       "    }\n",
       "\n",
       "    .dataframe tbody tr th {\n",
       "        vertical-align: top;\n",
       "    }\n",
       "\n",
       "    .dataframe thead th {\n",
       "        text-align: right;\n",
       "    }\n",
       "</style>\n",
       "<table border=\"1\" class=\"dataframe\">\n",
       "  <thead>\n",
       "    <tr style=\"text-align: right;\">\n",
       "      <th></th>\n",
       "      <th>count</th>\n",
       "      <th>CommentCount</th>\n",
       "    </tr>\n",
       "  </thead>\n",
       "  <tbody>\n",
       "    <tr>\n",
       "      <th>0</th>\n",
       "      <td>21713</td>\n",
       "      <td>0</td>\n",
       "    </tr>\n",
       "    <tr>\n",
       "      <th>1</th>\n",
       "      <td>6460</td>\n",
       "      <td>1</td>\n",
       "    </tr>\n",
       "    <tr>\n",
       "      <th>2</th>\n",
       "      <td>4966</td>\n",
       "      <td>2</td>\n",
       "    </tr>\n",
       "    <tr>\n",
       "      <th>3</th>\n",
       "      <td>3063</td>\n",
       "      <td>3</td>\n",
       "    </tr>\n",
       "    <tr>\n",
       "      <th>4</th>\n",
       "      <td>2026</td>\n",
       "      <td>4</td>\n",
       "    </tr>\n",
       "  </tbody>\n",
       "</table>\n",
       "</div>"
      ],
      "text/plain": [
       "   count  CommentCount\n",
       "0  21713             0\n",
       "1   6460             1\n",
       "2   4966             2\n",
       "3   3063             3\n",
       "4   2026             4"
      ]
     },
     "execution_count": 116,
     "metadata": {},
     "output_type": "execute_result"
    }
   ],
   "source": [
    "sql=\"\"\"\n",
    "select count(*) as count, commentcount\n",
    "from posts\n",
    "group by commentcount\n",
    "order by count desc\n",
    "\"\"\"\n",
    "store_query('task2','What are the 5 most frequent commentcount for posts?',sql)\n",
    "res=pd.read_sql(sql,con)\n",
    "res.head()"
   ]
  },
  {
   "cell_type": "code",
   "execution_count": 117,
   "metadata": {},
   "outputs": [
    {
     "data": {
      "text/html": [
       "<div>\n",
       "<style scoped>\n",
       "    .dataframe tbody tr th:only-of-type {\n",
       "        vertical-align: middle;\n",
       "    }\n",
       "\n",
       "    .dataframe tbody tr th {\n",
       "        vertical-align: top;\n",
       "    }\n",
       "\n",
       "    .dataframe thead th {\n",
       "        text-align: right;\n",
       "    }\n",
       "</style>\n",
       "<table border=\"1\" class=\"dataframe\">\n",
       "  <thead>\n",
       "    <tr style=\"text-align: right;\">\n",
       "      <th></th>\n",
       "      <th>count</th>\n",
       "    </tr>\n",
       "  </thead>\n",
       "  <tbody>\n",
       "    <tr>\n",
       "      <th>0</th>\n",
       "      <td>5341</td>\n",
       "    </tr>\n",
       "  </tbody>\n",
       "</table>\n",
       "</div>"
      ],
      "text/plain": [
       "   count\n",
       "0   5341"
      ]
     },
     "execution_count": 117,
     "metadata": {},
     "output_type": "execute_result"
    }
   ],
   "source": [
    "sql=\"\"\"\n",
    "select count(*) as count\n",
    "from posts\n",
    "where AcceptedAnswerId>=1\n",
    "\"\"\"\n",
    "store_query('task2','How many posts have an accepted answer?',sql)\n",
    "res=pd.read_sql(sql,con)\n",
    "res.head()"
   ]
  },
  {
   "cell_type": "code",
   "execution_count": 119,
   "metadata": {},
   "outputs": [
    {
     "data": {
      "text/plain": [
       "Index(['Id', 'Reputation', 'CreationDate', 'DisplayName', 'LastAccessDate',\n",
       "       'WebsiteUrl', 'Location', 'AboutMe', 'Views', 'UpVotes', 'DownVotes',\n",
       "       'ProfileImageUrl', 'AccountId'],\n",
       "      dtype='object')"
      ]
     },
     "execution_count": 119,
     "metadata": {},
     "output_type": "execute_result"
    }
   ],
   "source": [
    "users.columns"
   ]
  },
  {
   "cell_type": "code",
   "execution_count": 121,
   "metadata": {},
   "outputs": [
    {
     "data": {
      "text/html": [
       "<div>\n",
       "<style scoped>\n",
       "    .dataframe tbody tr th:only-of-type {\n",
       "        vertical-align: middle;\n",
       "    }\n",
       "\n",
       "    .dataframe tbody tr th {\n",
       "        vertical-align: top;\n",
       "    }\n",
       "\n",
       "    .dataframe thead th {\n",
       "        text-align: right;\n",
       "    }\n",
       "</style>\n",
       "<table border=\"1\" class=\"dataframe\">\n",
       "  <thead>\n",
       "    <tr style=\"text-align: right;\">\n",
       "      <th></th>\n",
       "      <th>Reputation</th>\n",
       "    </tr>\n",
       "  </thead>\n",
       "  <tbody>\n",
       "    <tr>\n",
       "      <th>0</th>\n",
       "      <td>312.350912</td>\n",
       "    </tr>\n",
       "  </tbody>\n",
       "</table>\n",
       "</div>"
      ],
      "text/plain": [
       "   Reputation\n",
       "0  312.350912"
      ]
     },
     "execution_count": 121,
     "metadata": {},
     "output_type": "execute_result"
    }
   ],
   "source": [
    "sql=\"\"\"\n",
    "select avg(Reputation) as Reputation\n",
    "from users\n",
    "\"\"\"\n",
    "store_query('task2','What is the average reputation of table users?',sql)\n",
    "res=pd.read_sql(sql,con)\n",
    "res.head()"
   ]
  },
  {
   "cell_type": "code",
   "execution_count": 122,
   "metadata": {},
   "outputs": [
    {
     "data": {
      "text/html": [
       "<div>\n",
       "<style scoped>\n",
       "    .dataframe tbody tr th:only-of-type {\n",
       "        vertical-align: middle;\n",
       "    }\n",
       "\n",
       "    .dataframe tbody tr th {\n",
       "        vertical-align: top;\n",
       "    }\n",
       "\n",
       "    .dataframe thead th {\n",
       "        text-align: right;\n",
       "    }\n",
       "</style>\n",
       "<table border=\"1\" class=\"dataframe\">\n",
       "  <thead>\n",
       "    <tr style=\"text-align: right;\">\n",
       "      <th></th>\n",
       "      <th>MinReputation</th>\n",
       "      <th>MaxReputation</th>\n",
       "    </tr>\n",
       "  </thead>\n",
       "  <tbody>\n",
       "    <tr>\n",
       "      <th>0</th>\n",
       "      <td>1</td>\n",
       "      <td>228662</td>\n",
       "    </tr>\n",
       "  </tbody>\n",
       "</table>\n",
       "</div>"
      ],
      "text/plain": [
       "   MinReputation  MaxReputation\n",
       "0              1         228662"
      ]
     },
     "execution_count": 122,
     "metadata": {},
     "output_type": "execute_result"
    }
   ],
   "source": [
    "sql=\"\"\"\n",
    "select min(Reputation) as MinReputation, max(Reputation) as MaxReputation\n",
    "from users\n",
    "\"\"\"\n",
    "store_query('task2','What are the min and max reputation of users?',sql)\n",
    "res=pd.read_sql(sql,con)\n",
    "res.head()"
   ]
  },
  {
   "cell_type": "code",
   "execution_count": 123,
   "metadata": {},
   "outputs": [
    {
     "data": {
      "text/plain": [
       "Index(['Id', 'PostTypeId', 'AcceptedAnswerId', 'ParentId', 'CreationDate',\n",
       "       'Score', 'ViewCount', 'Body', 'OwnerUserId', 'OwnerDisplayName',\n",
       "       'LastEditorUserId', 'LastEditorDisplayName', 'LastEditDate',\n",
       "       'LastActivityDate', 'Title', 'Tags', 'AnswerCount', 'CommentCount',\n",
       "       'FavoriteCount', 'ClosedDate', 'CommunityOwnedDate'],\n",
       "      dtype='object')"
      ]
     },
     "execution_count": 123,
     "metadata": {},
     "output_type": "execute_result"
    }
   ],
   "source": [
    "posts.columns"
   ]
  },
  {
   "cell_type": "code",
   "execution_count": 126,
   "metadata": {},
   "outputs": [
    {
     "data": {
      "text/html": [
       "<div>\n",
       "<style scoped>\n",
       "    .dataframe tbody tr th:only-of-type {\n",
       "        vertical-align: middle;\n",
       "    }\n",
       "\n",
       "    .dataframe tbody tr th {\n",
       "        vertical-align: top;\n",
       "    }\n",
       "\n",
       "    .dataframe thead th {\n",
       "        text-align: right;\n",
       "    }\n",
       "</style>\n",
       "<table border=\"1\" class=\"dataframe\">\n",
       "  <thead>\n",
       "    <tr style=\"text-align: right;\">\n",
       "      <th></th>\n",
       "      <th>LEN_BODY</th>\n",
       "    </tr>\n",
       "  </thead>\n",
       "  <tbody>\n",
       "    <tr>\n",
       "      <th>0</th>\n",
       "      <td>2270</td>\n",
       "    </tr>\n",
       "    <tr>\n",
       "      <th>1</th>\n",
       "      <td>512</td>\n",
       "    </tr>\n",
       "    <tr>\n",
       "      <th>2</th>\n",
       "      <td>811</td>\n",
       "    </tr>\n",
       "    <tr>\n",
       "      <th>3</th>\n",
       "      <td>2148</td>\n",
       "    </tr>\n",
       "    <tr>\n",
       "      <th>4</th>\n",
       "      <td>1172</td>\n",
       "    </tr>\n",
       "  </tbody>\n",
       "</table>\n",
       "</div>"
      ],
      "text/plain": [
       "   LEN_BODY\n",
       "0      2270\n",
       "1       512\n",
       "2       811\n",
       "3      2148\n",
       "4      1172"
      ]
     },
     "execution_count": 126,
     "metadata": {},
     "output_type": "execute_result"
    }
   ],
   "source": [
    "sql=\"\"\"\n",
    "select LEN_BODY\n",
    "from posts\n",
    "order by ViewCount desc\n",
    "limit 5\n",
    "\"\"\"\n",
    "store_query('task2','What is the length of the body of 5 most viewed posts?',sql)\n",
    "res=pd.read_sql(sql,con)\n",
    "res.head()"
   ]
  },
  {
   "cell_type": "code",
   "execution_count": 127,
   "metadata": {},
   "outputs": [
    {
     "data": {
      "text/html": [
       "<div>\n",
       "<style scoped>\n",
       "    .dataframe tbody tr th:only-of-type {\n",
       "        vertical-align: middle;\n",
       "    }\n",
       "\n",
       "    .dataframe tbody tr th {\n",
       "        vertical-align: top;\n",
       "    }\n",
       "\n",
       "    .dataframe thead th {\n",
       "        text-align: right;\n",
       "    }\n",
       "</style>\n",
       "<table border=\"1\" class=\"dataframe\">\n",
       "  <thead>\n",
       "    <tr style=\"text-align: right;\">\n",
       "      <th></th>\n",
       "      <th>count</th>\n",
       "    </tr>\n",
       "  </thead>\n",
       "  <tbody>\n",
       "    <tr>\n",
       "      <th>0</th>\n",
       "      <td>1900</td>\n",
       "    </tr>\n",
       "  </tbody>\n",
       "</table>\n",
       "</div>"
      ],
      "text/plain": [
       "   count\n",
       "0   1900"
      ]
     },
     "execution_count": 127,
     "metadata": {},
     "output_type": "execute_result"
    }
   ],
   "source": [
    "sql=\"\"\"\n",
    "select Count(Distinct(Location)) as count\n",
    "from users\n",
    "\n",
    "\"\"\"\n",
    "store_query('task2','How many different locations are there in the users table?',sql)\n",
    "res=pd.read_sql(sql,con)\n",
    "res.head()"
   ]
  },
  {
   "cell_type": "code",
   "execution_count": 135,
   "metadata": {},
   "outputs": [
    {
     "data": {
      "text/html": [
       "<div>\n",
       "<style scoped>\n",
       "    .dataframe tbody tr th:only-of-type {\n",
       "        vertical-align: middle;\n",
       "    }\n",
       "\n",
       "    .dataframe tbody tr th {\n",
       "        vertical-align: top;\n",
       "    }\n",
       "\n",
       "    .dataframe thead th {\n",
       "        text-align: right;\n",
       "    }\n",
       "</style>\n",
       "<table border=\"1\" class=\"dataframe\">\n",
       "  <thead>\n",
       "    <tr style=\"text-align: right;\">\n",
       "      <th></th>\n",
       "      <th>count</th>\n",
       "      <th>Location</th>\n",
       "    </tr>\n",
       "  </thead>\n",
       "  <tbody>\n",
       "    <tr>\n",
       "      <th>0</th>\n",
       "      <td>117</td>\n",
       "      <td>Germany</td>\n",
       "    </tr>\n",
       "    <tr>\n",
       "      <th>1</th>\n",
       "      <td>100</td>\n",
       "      <td>India</td>\n",
       "    </tr>\n",
       "    <tr>\n",
       "      <th>2</th>\n",
       "      <td>69</td>\n",
       "      <td>United States</td>\n",
       "    </tr>\n",
       "    <tr>\n",
       "      <th>3</th>\n",
       "      <td>66</td>\n",
       "      <td>Paris, France</td>\n",
       "    </tr>\n",
       "    <tr>\n",
       "      <th>4</th>\n",
       "      <td>63</td>\n",
       "      <td>London, United Kingdom</td>\n",
       "    </tr>\n",
       "  </tbody>\n",
       "</table>\n",
       "</div>"
      ],
      "text/plain": [
       "   count                Location\n",
       "0    117                 Germany\n",
       "1    100                   India\n",
       "2     69           United States\n",
       "3     66           Paris, France\n",
       "4     63  London, United Kingdom"
      ]
     },
     "execution_count": 135,
     "metadata": {},
     "output_type": "execute_result"
    }
   ],
   "source": [
    "sql=\"\"\"\n",
    "select count(*) as count, Location\n",
    "from users\n",
    "where Location is not null\n",
    "group by Location\n",
    "order by count desc\n",
    "limit 5\n",
    "\"\"\"\n",
    "store_query('task2','What are the top 5 locations of users?',sql)\n",
    "res=pd.read_sql(sql,con)\n",
    "res.head()"
   ]
  },
  {
   "cell_type": "code",
   "execution_count": 140,
   "metadata": {},
   "outputs": [
    {
     "data": {
      "text/html": [
       "<div>\n",
       "<style scoped>\n",
       "    .dataframe tbody tr th:only-of-type {\n",
       "        vertical-align: middle;\n",
       "    }\n",
       "\n",
       "    .dataframe tbody tr th {\n",
       "        vertical-align: top;\n",
       "    }\n",
       "\n",
       "    .dataframe thead th {\n",
       "        text-align: right;\n",
       "    }\n",
       "</style>\n",
       "<table border=\"1\" class=\"dataframe\">\n",
       "  <thead>\n",
       "    <tr style=\"text-align: right;\">\n",
       "      <th></th>\n",
       "      <th>weekday</th>\n",
       "      <th>percentage</th>\n",
       "    </tr>\n",
       "  </thead>\n",
       "  <tbody>\n",
       "    <tr>\n",
       "      <th>0</th>\n",
       "      <td>Thursday</td>\n",
       "      <td>16.82</td>\n",
       "    </tr>\n",
       "    <tr>\n",
       "      <th>1</th>\n",
       "      <td>Wednesday</td>\n",
       "      <td>16.77</td>\n",
       "    </tr>\n",
       "    <tr>\n",
       "      <th>2</th>\n",
       "      <td>Tuesday</td>\n",
       "      <td>16.26</td>\n",
       "    </tr>\n",
       "    <tr>\n",
       "      <th>3</th>\n",
       "      <td>Monday</td>\n",
       "      <td>15.81</td>\n",
       "    </tr>\n",
       "    <tr>\n",
       "      <th>4</th>\n",
       "      <td>Friday</td>\n",
       "      <td>13.56</td>\n",
       "    </tr>\n",
       "  </tbody>\n",
       "</table>\n",
       "</div>"
      ],
      "text/plain": [
       "     weekday  percentage\n",
       "0   Thursday       16.82\n",
       "1  Wednesday       16.77\n",
       "2    Tuesday       16.26\n",
       "3     Monday       15.81\n",
       "4     Friday       13.56"
      ]
     },
     "execution_count": 140,
     "metadata": {},
     "output_type": "execute_result"
    }
   ],
   "source": [
    "sql=\"\"\"\n",
    "select case cast(strftime('%w',CreationDate) as integer)\n",
    "when 0 then 'Sunday'\n",
    "When 1 then 'Monday'\n",
    "When 2 then 'Tuesday'\n",
    "When 3 then 'Wednesday'\n",
    "When 4 then 'Thursday'\n",
    "When 5 then 'Friday'\n",
    "else 'Saturday'\n",
    "end as weekday,\n",
    "\n",
    "round(sum(ViewCount*100.0)/(Select sum(ViewCount) from posts),2) as percentage\n",
    "from posts\n",
    "group by weekday\n",
    "order by percentage desc\n",
    "\"\"\"\n",
    "store_query('task2','Rank the days of the week from highest to lowest in terms of the volume of ViewCount as a percentage.',sql)\n",
    "res=pd.read_sql(sql,con)\n",
    "res.head()"
   ]
  },
  {
   "cell_type": "markdown",
   "metadata": {},
   "source": [
    "# Task 3: Cross Table Queries"
   ]
  },
  {
   "cell_type": "markdown",
   "metadata": {},
   "source": [
    "## Lifecycle Stage: Analyze\n",
    "Let's continue the analysis with our multi-table queries.  "
   ]
  },
  {
   "cell_type": "markdown",
   "metadata": {},
   "source": [
    "### Cross Table Queries\n",
    "\n",
    "From the Template SQL Queries there are a series of queries requested. You are responsible for coding the result. Use the pattern above to accomplish the coding objective.  Copy and paste the question (column B Action) into a markdown cell and answer the query. Use the pattern that you have been using above. \n",
    "\n",
    "<div style=\"background-color:lemonchiffon; border:1px solid; padding:5px; margin:5px; font-weight:bold\"><font color=\"crimson\">\n",
    "TODO: Enter your code below.  Just keep on inserting cells as you need them.\n",
    "    </font></div>\n",
    "\n"
   ]
  },
  {
   "cell_type": "code",
   "execution_count": 141,
   "metadata": {},
   "outputs": [
    {
     "data": {
      "text/plain": [
       "Index(['Id', 'PostTypeId', 'AcceptedAnswerId', 'ParentId', 'CreationDate',\n",
       "       'Score', 'ViewCount', 'Body', 'OwnerUserId', 'OwnerDisplayName',\n",
       "       'LastEditorUserId', 'LastEditorDisplayName', 'LastEditDate',\n",
       "       'LastActivityDate', 'Title', 'Tags', 'AnswerCount', 'CommentCount',\n",
       "       'FavoriteCount', 'ClosedDate', 'CommunityOwnedDate'],\n",
       "      dtype='object')"
      ]
     },
     "execution_count": 141,
     "metadata": {},
     "output_type": "execute_result"
    }
   ],
   "source": [
    "posts.columns"
   ]
  },
  {
   "cell_type": "code",
   "execution_count": 144,
   "metadata": {},
   "outputs": [
    {
     "data": {
      "text/plain": [
       "Index(['Id', 'Reputation', 'CreationDate', 'DisplayName', 'LastAccessDate',\n",
       "       'WebsiteUrl', 'Location', 'AboutMe', 'Views', 'UpVotes', 'DownVotes',\n",
       "       'ProfileImageUrl', 'AccountId'],\n",
       "      dtype='object')"
      ]
     },
     "execution_count": 144,
     "metadata": {},
     "output_type": "execute_result"
    }
   ],
   "source": [
    "users.columns"
   ]
  },
  {
   "cell_type": "code",
   "execution_count": 183,
   "metadata": {},
   "outputs": [
    {
     "data": {
      "text/html": [
       "<div>\n",
       "<style scoped>\n",
       "    .dataframe tbody tr th:only-of-type {\n",
       "        vertical-align: middle;\n",
       "    }\n",
       "\n",
       "    .dataframe tbody tr th {\n",
       "        vertical-align: top;\n",
       "    }\n",
       "\n",
       "    .dataframe thead th {\n",
       "        text-align: right;\n",
       "    }\n",
       "</style>\n",
       "<table border=\"1\" class=\"dataframe\">\n",
       "  <thead>\n",
       "    <tr style=\"text-align: right;\">\n",
       "      <th></th>\n",
       "      <th>count(*)</th>\n",
       "    </tr>\n",
       "  </thead>\n",
       "  <tbody>\n",
       "    <tr>\n",
       "      <th>0</th>\n",
       "      <td>17189</td>\n",
       "    </tr>\n",
       "  </tbody>\n",
       "</table>\n",
       "</div>"
      ],
      "text/plain": [
       "   count(*)\n",
       "0     17189"
      ]
     },
     "execution_count": 183,
     "metadata": {},
     "output_type": "execute_result"
    }
   ],
   "source": [
    "sql=\"\"\"\n",
    "select count(*)\n",
    "from posts\n",
    "join users on posts.OwnerUserId=users.id\n",
    "where AboutMe is not null\n",
    "\"\"\"\n",
    "store_query('task3','How many posts have been created by a user that has a filled out the \"AboutMe\" section?',sql)\n",
    "res=pd.read_sql(sql,con)\n",
    "res.head()"
   ]
  },
  {
   "cell_type": "code",
   "execution_count": 184,
   "metadata": {},
   "outputs": [
    {
     "data": {
      "text/html": [
       "<div>\n",
       "<style scoped>\n",
       "    .dataframe tbody tr th:only-of-type {\n",
       "        vertical-align: middle;\n",
       "    }\n",
       "\n",
       "    .dataframe tbody tr th {\n",
       "        vertical-align: top;\n",
       "    }\n",
       "\n",
       "    .dataframe thead th {\n",
       "        text-align: right;\n",
       "    }\n",
       "</style>\n",
       "<table border=\"1\" class=\"dataframe\">\n",
       "  <thead>\n",
       "    <tr style=\"text-align: right;\">\n",
       "      <th></th>\n",
       "      <th>Userposts</th>\n",
       "    </tr>\n",
       "  </thead>\n",
       "  <tbody>\n",
       "    <tr>\n",
       "      <th>0</th>\n",
       "      <td>4.274807</td>\n",
       "    </tr>\n",
       "  </tbody>\n",
       "</table>\n",
       "</div>"
      ],
      "text/plain": [
       "   Userposts\n",
       "0   4.274807"
      ]
     },
     "execution_count": 184,
     "metadata": {},
     "output_type": "execute_result"
    }
   ],
   "source": [
    "# TODO\n",
    "sql=\"\"\"\n",
    "select count(*)/(select cast(count(*) as float) from users where AboutMe is not null) as Userposts\n",
    "from posts\n",
    "join users on posts.OwnerUserId=users.id\n",
    "Where users.AboutMe is not null\n",
    "\"\"\"\n",
    "store_query('task3','Considering only the users with an \"AboutMe,\" how many posts are there per user?',sql)\n",
    "res=pd.read_sql(sql,con)\n",
    "res.head()"
   ]
  },
  {
   "cell_type": "code",
   "execution_count": 152,
   "metadata": {},
   "outputs": [
    {
     "data": {
      "text/plain": [
       "Index(['Id', 'PostId', 'Score', 'Text', 'CreationDate', 'UserId'], dtype='object')"
      ]
     },
     "execution_count": 152,
     "metadata": {},
     "output_type": "execute_result"
    }
   ],
   "source": [
    "comments.columns"
   ]
  },
  {
   "cell_type": "code",
   "execution_count": 185,
   "metadata": {},
   "outputs": [
    {
     "data": {
      "text/html": [
       "<div>\n",
       "<style scoped>\n",
       "    .dataframe tbody tr th:only-of-type {\n",
       "        vertical-align: middle;\n",
       "    }\n",
       "\n",
       "    .dataframe tbody tr th {\n",
       "        vertical-align: top;\n",
       "    }\n",
       "\n",
       "    .dataframe thead th {\n",
       "        text-align: right;\n",
       "    }\n",
       "</style>\n",
       "<table border=\"1\" class=\"dataframe\">\n",
       "  <thead>\n",
       "    <tr style=\"text-align: right;\">\n",
       "      <th></th>\n",
       "      <th>count</th>\n",
       "      <th>Id</th>\n",
       "    </tr>\n",
       "  </thead>\n",
       "  <tbody>\n",
       "    <tr>\n",
       "      <th>0</th>\n",
       "      <td>66</td>\n",
       "      <td>386853</td>\n",
       "    </tr>\n",
       "    <tr>\n",
       "      <th>1</th>\n",
       "      <td>34</td>\n",
       "      <td>386556</td>\n",
       "    </tr>\n",
       "    <tr>\n",
       "      <th>2</th>\n",
       "      <td>31</td>\n",
       "      <td>418910</td>\n",
       "    </tr>\n",
       "    <tr>\n",
       "      <th>3</th>\n",
       "      <td>31</td>\n",
       "      <td>395232</td>\n",
       "    </tr>\n",
       "    <tr>\n",
       "      <th>4</th>\n",
       "      <td>27</td>\n",
       "      <td>402987</td>\n",
       "    </tr>\n",
       "  </tbody>\n",
       "</table>\n",
       "</div>"
      ],
      "text/plain": [
       "   count      Id\n",
       "0     66  386853\n",
       "1     34  386556\n",
       "2     31  418910\n",
       "3     31  395232\n",
       "4     27  402987"
      ]
     },
     "execution_count": 185,
     "metadata": {},
     "output_type": "execute_result"
    }
   ],
   "source": [
    "# TODO\n",
    "sql=\"\"\"\n",
    "select count(*) as count, posts.id\n",
    "from posts\n",
    "join comments on posts.id=comments.PostId\n",
    "group by posts.id\n",
    "order by count desc\n",
    "\"\"\"\n",
    "store_query('task3','Not taking into account the commentcount field in the table posts, what are the Top 10 posts in terms of number of comments?',sql)\n",
    "res=pd.read_sql(sql,con)\n",
    "res.head()"
   ]
  },
  {
   "cell_type": "code",
   "execution_count": 186,
   "metadata": {},
   "outputs": [
    {
     "data": {
      "text/html": [
       "<div>\n",
       "<style scoped>\n",
       "    .dataframe tbody tr th:only-of-type {\n",
       "        vertical-align: middle;\n",
       "    }\n",
       "\n",
       "    .dataframe tbody tr th {\n",
       "        vertical-align: top;\n",
       "    }\n",
       "\n",
       "    .dataframe thead th {\n",
       "        text-align: right;\n",
       "    }\n",
       "</style>\n",
       "<table border=\"1\" class=\"dataframe\">\n",
       "  <thead>\n",
       "    <tr style=\"text-align: right;\">\n",
       "      <th></th>\n",
       "      <th>count</th>\n",
       "      <th>commulativescore</th>\n",
       "      <th>Id</th>\n",
       "    </tr>\n",
       "  </thead>\n",
       "  <tbody>\n",
       "    <tr>\n",
       "      <th>0</th>\n",
       "      <td>24</td>\n",
       "      <td>306</td>\n",
       "      <td>394118</td>\n",
       "    </tr>\n",
       "    <tr>\n",
       "      <th>1</th>\n",
       "      <td>15</td>\n",
       "      <td>169</td>\n",
       "      <td>394128</td>\n",
       "    </tr>\n",
       "    <tr>\n",
       "      <th>2</th>\n",
       "      <td>11</td>\n",
       "      <td>141</td>\n",
       "      <td>388578</td>\n",
       "    </tr>\n",
       "    <tr>\n",
       "      <th>3</th>\n",
       "      <td>15</td>\n",
       "      <td>111</td>\n",
       "      <td>398653</td>\n",
       "    </tr>\n",
       "    <tr>\n",
       "      <th>4</th>\n",
       "      <td>15</td>\n",
       "      <td>101</td>\n",
       "      <td>388566</td>\n",
       "    </tr>\n",
       "  </tbody>\n",
       "</table>\n",
       "</div>"
      ],
      "text/plain": [
       "   count  commulativescore      Id\n",
       "0     24               306  394118\n",
       "1     15               169  394128\n",
       "2     11               141  388578\n",
       "3     15               111  398653\n",
       "4     15               101  388566"
      ]
     },
     "execution_count": 186,
     "metadata": {},
     "output_type": "execute_result"
    }
   ],
   "source": [
    "# TODO\n",
    "\n",
    "sql=\"\"\"\n",
    "select count(*) as count,(posts.Score + sum(comments.Score)) as commulativescore, posts.id\n",
    "from posts\n",
    "join comments on posts.id=comments.PostId\n",
    "group by posts.id\n",
    "order by commulativescore desc\n",
    "limit 10\n",
    "\n",
    "\"\"\"\n",
    "store_query('task3','What are the Top 10 posts which have the highest cummulative (post score + comment score) score? ',sql)\n",
    "res=pd.read_sql(sql,con)\n",
    "res.head()"
   ]
  },
  {
   "cell_type": "code",
   "execution_count": 166,
   "metadata": {},
   "outputs": [
    {
     "data": {
      "text/plain": [
       "Index(['Id', 'Reputation', 'CreationDate', 'DisplayName', 'LastAccessDate',\n",
       "       'WebsiteUrl', 'Location', 'AboutMe', 'Views', 'UpVotes', 'DownVotes',\n",
       "       'ProfileImageUrl', 'AccountId'],\n",
       "      dtype='object')"
      ]
     },
     "execution_count": 166,
     "metadata": {},
     "output_type": "execute_result"
    }
   ],
   "source": [
    "users.columns"
   ]
  },
  {
   "cell_type": "code",
   "execution_count": 165,
   "metadata": {},
   "outputs": [
    {
     "data": {
      "text/plain": [
       "Index(['Id', 'PostId', 'Score', 'Text', 'CreationDate', 'UserId'], dtype='object')"
      ]
     },
     "execution_count": 165,
     "metadata": {},
     "output_type": "execute_result"
    }
   ],
   "source": [
    "comments.columns"
   ]
  },
  {
   "cell_type": "code",
   "execution_count": 187,
   "metadata": {},
   "outputs": [
    {
     "data": {
      "text/html": [
       "<div>\n",
       "<style scoped>\n",
       "    .dataframe tbody tr th:only-of-type {\n",
       "        vertical-align: middle;\n",
       "    }\n",
       "\n",
       "    .dataframe tbody tr th {\n",
       "        vertical-align: top;\n",
       "    }\n",
       "\n",
       "    .dataframe thead th {\n",
       "        text-align: right;\n",
       "    }\n",
       "</style>\n",
       "<table border=\"1\" class=\"dataframe\">\n",
       "  <thead>\n",
       "    <tr style=\"text-align: right;\">\n",
       "      <th></th>\n",
       "      <th>UserId</th>\n",
       "      <th>count</th>\n",
       "      <th>Reputation</th>\n",
       "    </tr>\n",
       "  </thead>\n",
       "  <tbody>\n",
       "    <tr>\n",
       "      <th>0</th>\n",
       "      <td>805</td>\n",
       "      <td>1153</td>\n",
       "      <td>228662</td>\n",
       "    </tr>\n",
       "    <tr>\n",
       "      <th>1</th>\n",
       "      <td>919</td>\n",
       "      <td>3301</td>\n",
       "      <td>223056</td>\n",
       "    </tr>\n",
       "    <tr>\n",
       "      <th>2</th>\n",
       "      <td>7290</td>\n",
       "      <td>370</td>\n",
       "      <td>115531</td>\n",
       "    </tr>\n",
       "    <tr>\n",
       "      <th>3</th>\n",
       "      <td>686</td>\n",
       "      <td>349</td>\n",
       "      <td>85077</td>\n",
       "    </tr>\n",
       "    <tr>\n",
       "      <th>4</th>\n",
       "      <td>28666</td>\n",
       "      <td>158</td>\n",
       "      <td>75024</td>\n",
       "    </tr>\n",
       "  </tbody>\n",
       "</table>\n",
       "</div>"
      ],
      "text/plain": [
       "   UserId  count  Reputation\n",
       "0     805   1153      228662\n",
       "1     919   3301      223056\n",
       "2    7290    370      115531\n",
       "3     686    349       85077\n",
       "4   28666    158       75024"
      ]
     },
     "execution_count": 187,
     "metadata": {},
     "output_type": "execute_result"
    }
   ],
   "source": [
    "# TODO\n",
    "\n",
    "sql=\"\"\"\n",
    "select comments.UserId, count(*) as count, users.Reputation\n",
    "from users\n",
    "join comments on users.id=comments.UserId\n",
    "group by comments.UserId, users.Reputation\n",
    "order by users.Reputation desc\n",
    "\n",
    "\"\"\"\n",
    "store_query('task3','Who are the top 10 users who comment the most? ',sql)\n",
    "res=pd.read_sql(sql,con)\n",
    "res.head()"
   ]
  },
  {
   "cell_type": "code",
   "execution_count": 176,
   "metadata": {},
   "outputs": [
    {
     "data": {
      "text/plain": [
       "Index(['Id', 'PostTypeId', 'AcceptedAnswerId', 'ParentId', 'CreationDate',\n",
       "       'Score', 'ViewCount', 'Body', 'OwnerUserId', 'OwnerDisplayName',\n",
       "       'LastEditorUserId', 'LastEditorDisplayName', 'LastEditDate',\n",
       "       'LastActivityDate', 'Title', 'Tags', 'AnswerCount', 'CommentCount',\n",
       "       'FavoriteCount', 'ClosedDate', 'CommunityOwnedDate'],\n",
       "      dtype='object')"
      ]
     },
     "execution_count": 176,
     "metadata": {},
     "output_type": "execute_result"
    }
   ],
   "source": [
    "posts.columns"
   ]
  },
  {
   "cell_type": "code",
   "execution_count": 188,
   "metadata": {},
   "outputs": [
    {
     "data": {
      "text/html": [
       "<div>\n",
       "<style scoped>\n",
       "    .dataframe tbody tr th:only-of-type {\n",
       "        vertical-align: middle;\n",
       "    }\n",
       "\n",
       "    .dataframe tbody tr th {\n",
       "        vertical-align: top;\n",
       "    }\n",
       "\n",
       "    .dataframe thead th {\n",
       "        text-align: right;\n",
       "    }\n",
       "</style>\n",
       "<table border=\"1\" class=\"dataframe\">\n",
       "  <thead>\n",
       "    <tr style=\"text-align: right;\">\n",
       "      <th></th>\n",
       "      <th>OwnerUserId</th>\n",
       "      <th>count</th>\n",
       "      <th>Reputation</th>\n",
       "    </tr>\n",
       "  </thead>\n",
       "  <tbody>\n",
       "    <tr>\n",
       "      <th>0</th>\n",
       "      <td>805</td>\n",
       "      <td>230</td>\n",
       "      <td>228662</td>\n",
       "    </tr>\n",
       "    <tr>\n",
       "      <th>1</th>\n",
       "      <td>919</td>\n",
       "      <td>203</td>\n",
       "      <td>223056</td>\n",
       "    </tr>\n",
       "    <tr>\n",
       "      <th>2</th>\n",
       "      <td>7290</td>\n",
       "      <td>35</td>\n",
       "      <td>115531</td>\n",
       "    </tr>\n",
       "    <tr>\n",
       "      <th>3</th>\n",
       "      <td>686</td>\n",
       "      <td>386</td>\n",
       "      <td>85077</td>\n",
       "    </tr>\n",
       "    <tr>\n",
       "      <th>4</th>\n",
       "      <td>28666</td>\n",
       "      <td>8</td>\n",
       "      <td>75024</td>\n",
       "    </tr>\n",
       "  </tbody>\n",
       "</table>\n",
       "</div>"
      ],
      "text/plain": [
       "   OwnerUserId  count  Reputation\n",
       "0          805    230      228662\n",
       "1          919    203      223056\n",
       "2         7290     35      115531\n",
       "3          686    386       85077\n",
       "4        28666      8       75024"
      ]
     },
     "execution_count": 188,
     "metadata": {},
     "output_type": "execute_result"
    }
   ],
   "source": [
    "# TODO\n",
    "\n",
    "sql=\"\"\"\n",
    "select posts.OwnerUserId, count(*) as count, users.Reputation\n",
    "from posts\n",
    "join users on users.id=posts.OwnerUserId\n",
    "\n",
    "group by posts.OwnerUserId, users.Reputation\n",
    "order by users.Reputation desc\n",
    "\n",
    "\"\"\"\n",
    "store_query('task3','Who are the top 10 users who post the most?',sql)\n",
    "res=pd.read_sql(sql,con)\n",
    "res.head()"
   ]
  },
  {
   "cell_type": "code",
   "execution_count": null,
   "metadata": {},
   "outputs": [],
   "source": []
  },
  {
   "cell_type": "markdown",
   "metadata": {},
   "source": [
    "# Task 4: Check the Queries Table\n",
    "\n",
    "Now let's tidy up and check the queries table.\n",
    "\n",
    "First let's check it's contents:"
   ]
  },
  {
   "cell_type": "code",
   "execution_count": 189,
   "metadata": {},
   "outputs": [
    {
     "name": "stdout",
     "output_type": "stream",
     "text": [
      " * sqlite:///chatdata.db\n",
      "Done.\n"
     ]
    },
    {
     "data": {
      "text/html": [
       "<table>\n",
       "    <thead>\n",
       "        <tr>\n",
       "            <th>task</th>\n",
       "            <th>action</th>\n",
       "            <th>query</th>\n",
       "        </tr>\n",
       "    </thead>\n",
       "    <tbody>\n",
       "        <tr>\n",
       "            <td>Single Table Queries</td>\n",
       "            <td>Which 5 users have viewed the most times and what is the sum of those views per user?</td>\n",
       "            <td><br>SELECT Id, SUM(Views) AS TotalViews<br>    FROM Users<br>        GROUP BY Id<br>            ORDER BY TotalViews DESC<br>                LIMIT 5<br>                </td>\n",
       "        </tr>\n",
       "        <tr>\n",
       "            <td>Task 1</td>\n",
       "            <td>Create table comments</td>\n",
       "            <td><br>    CREATE TABLE &quot;comments&quot; (<br>    &quot;Id&quot; INTEGER,<br>    &quot;PostId&quot; INTEGER,<br>    &quot;Score&quot; INTEGER,<br>    &quot;Text&quot; TEXT,<br>    &quot;CreationDate&quot; TEXT,<br>    &quot;UserId&quot; INTEGER<br>    )<br>    </td>\n",
       "        </tr>\n",
       "        <tr>\n",
       "            <td>Task 2</td>\n",
       "            <td>Create table posts</td>\n",
       "            <td><br>    CREATE TABLE &quot;posts&quot; (<br>&quot;Id&quot; INTEGER NOT NULL PRIMARY KEY,<br>&quot;PostTypeId&quot; INTEGER,<br>&quot;AcceptedAnswerId&quot; INTEGER,<br>&quot;ParentId&quot; INTEGER,<br>&quot;CreationDate&quot; TEXT,<br>&quot;Score&quot; INTEGER,<br>&quot;ViewCount&quot; INTEGER,<br>&quot;Body&quot; TEXT,<br>&quot;OwnerUserId&quot; INTEGER,<br>&quot;OwnerDisplayName&quot; TEXT,<br>&quot;LastEditorUserId&quot; INTEGER,<br>&quot;LastEditorDisplayName&quot; TEXT,<br>&quot;LastEditDate&quot; TEXT,<br>&quot;LastActivityDate&quot; TEXT,<br>&quot;Title&quot; TEXT,<br>&quot;Tags&quot; TEXT,<br>&quot;AnswerCount&quot; INTEGER,<br>&quot;CommentCount&quot; INTEGER,<br>&quot;FavoriteCount&quot; INTEGER,<br>&quot;ClosedDate&quot; TEXT,<br>&quot;CommunityOwnedDate&quot; TEXT<br>);<br>    </td>\n",
       "        </tr>\n",
       "        <tr>\n",
       "            <td>Task 2</td>\n",
       "            <td>Create table posts</td>\n",
       "            <td><br>    CREATE TABLE &quot;users&quot; (<br>&quot;Id&quot; INTEGER NOT NULL PRIMARY KEY,<br>&quot;Reputation&quot; INTEGER,<br>&quot;CreationDate&quot; TEXT,<br>&quot;DisplayName&quot; TEXT,<br>&quot;LastAccessDate&quot; TEXT,<br>&quot;WebsiteUrl&quot; TEXT,<br>&quot;Location&quot; TEXT,<br>&quot;AboutMe&quot; TEXT,<br>&quot;Views&quot; INTEGER,<br>&quot;UpVotes&quot; INTEGER,<br>&quot;DownVotes&quot; INTEGER,<br>&quot;ProfileImageUrl&quot; TEXT,<br>&quot;AccountId&quot; INTEGER<br>);<br>    </td>\n",
       "        </tr>\n",
       "        <tr>\n",
       "            <td>Task 3</td>\n",
       "            <td>Create table users</td>\n",
       "            <td><br>    CREATE TABLE &quot;users&quot; (<br>&quot;Id&quot; INTEGER NOT NULL PRIMARY KEY,<br>&quot;Reputation&quot; INTEGER,<br>&quot;CreationDate&quot; TEXT,<br>&quot;DisplayName&quot; TEXT,<br>&quot;LastAccessDate&quot; TEXT,<br>&quot;WebsiteUrl&quot; TEXT,<br>&quot;Location&quot; TEXT,<br>&quot;AboutMe&quot; TEXT,<br>&quot;Views&quot; INTEGER,<br>&quot;UpVotes&quot; INTEGER,<br>&quot;DownVotes&quot; INTEGER,<br>&quot;ProfileImageUrl&quot; TEXT,<br>&quot;AccountId&quot; INTEGER<br>);<br>    </td>\n",
       "        </tr>\n",
       "        <tr>\n",
       "            <td>Task 4</td>\n",
       "            <td>row count comments</td>\n",
       "            <td><br>select count(id)<br>From comments<br></td>\n",
       "        </tr>\n",
       "        <tr>\n",
       "            <td>Task 4</td>\n",
       "            <td>row count comments</td>\n",
       "            <td><br>select count(id)<br>From comments<br></td>\n",
       "        </tr>\n",
       "        <tr>\n",
       "            <td>Task 5</td>\n",
       "            <td>count rows users</td>\n",
       "            <td><br>select count(id)<br>From users<br></td>\n",
       "        </tr>\n",
       "        <tr>\n",
       "            <td>Task 5</td>\n",
       "            <td>count rows posts</td>\n",
       "            <td><br>select count(id)<br>From posts<br></td>\n",
       "        </tr>\n",
       "        <tr>\n",
       "            <td>Task 6</td>\n",
       "            <td>random rows posts</td>\n",
       "            <td><br>select * from posts<br>order by random()<br>limit 5<br></td>\n",
       "        </tr>\n",
       "        <tr>\n",
       "            <td>Task 7</td>\n",
       "            <td>random rows comments</td>\n",
       "            <td><br>select * from comments<br>order by random()<br>limit 5<br></td>\n",
       "        </tr>\n",
       "        <tr>\n",
       "            <td>Task 8</td>\n",
       "            <td>random rows users</td>\n",
       "            <td><br>select * from users<br>order by random()<br>limit 5<br></td>\n",
       "        </tr>\n",
       "        <tr>\n",
       "            <td>task2</td>\n",
       "            <td>How many posts have 0 comments?</td>\n",
       "            <td><br>select count(comments)<br>from posts<br>where comments=0<br></td>\n",
       "        </tr>\n",
       "        <tr>\n",
       "            <td>task2</td>\n",
       "            <td>How many posts have 0 comments?</td>\n",
       "            <td><br>select count(comments)<br>from posts<br>where comments=0<br></td>\n",
       "        </tr>\n",
       "        <tr>\n",
       "            <td>task2</td>\n",
       "            <td>How many posts have 0 comments?</td>\n",
       "            <td><br>select count(*)<br>from posts<br>where comments=0<br></td>\n",
       "        </tr>\n",
       "        <tr>\n",
       "            <td>task2</td>\n",
       "            <td>How many posts have 0 comments?</td>\n",
       "            <td><br>select count(*)<br>from posts<br>where comment=0<br></td>\n",
       "        </tr>\n",
       "        <tr>\n",
       "            <td>task2</td>\n",
       "            <td>How many posts have 0 comments?</td>\n",
       "            <td><br>select count(*)<br>from posts<br>where commentcount=0<br></td>\n",
       "        </tr>\n",
       "        <tr>\n",
       "            <td>task2</td>\n",
       "            <td>How many posts have 0 comments?</td>\n",
       "            <td><br>select count(*) as count<br>from posts<br>where commentcount=0<br></td>\n",
       "        </tr>\n",
       "        <tr>\n",
       "            <td>task2</td>\n",
       "            <td>How many posts have 0 comments?</td>\n",
       "            <td><br>select count(*) as count<br>from posts<br>where commentcount=1<br></td>\n",
       "        </tr>\n",
       "        <tr>\n",
       "            <td>task2</td>\n",
       "            <td>How many posts have 1 comments?</td>\n",
       "            <td><br>select count(*) as count<br>from posts<br>where commentcount=1<br></td>\n",
       "        </tr>\n",
       "        <tr>\n",
       "            <td>task2</td>\n",
       "            <td>How many posts have 2 comments or more?</td>\n",
       "            <td><br>select count(*) as count<br>from posts<br>where commentcount&gt;=2<br></td>\n",
       "        </tr>\n",
       "        <tr>\n",
       "            <td>task2</td>\n",
       "            <td>Find the 5 posts with the highest viewcount</td>\n",
       "            <td><br>select * <br>from posts<br>order by viewcount desc<br>limit 5<br></td>\n",
       "        </tr>\n",
       "        <tr>\n",
       "            <td>task2</td>\n",
       "            <td>Find the top 5 posts with the highest scores</td>\n",
       "            <td><br>select * <br>from posts<br>order by scores desc<br>limit 5<br></td>\n",
       "        </tr>\n",
       "        <tr>\n",
       "            <td>task2</td>\n",
       "            <td>Find the top 5 posts with the highest scores</td>\n",
       "            <td><br>select * <br>from posts<br>order by score desc<br>limit 5<br></td>\n",
       "        </tr>\n",
       "        <tr>\n",
       "            <td>task2</td>\n",
       "            <td>What are the 5 most frequent scores on posts?</td>\n",
       "            <td><br>select count(*) as count, score <br>from posts<br>group by score <br>order by count desc<br>limit 5<br></td>\n",
       "        </tr>\n",
       "        <tr>\n",
       "            <td>task2</td>\n",
       "            <td>How many posts have the keyword &quot;data&quot; in their tags?</td>\n",
       "            <td><br>select count(*) as count<br>from posts<br>where tag= &#x27;data&#x27;<br></td>\n",
       "        </tr>\n",
       "        <tr>\n",
       "            <td>task2</td>\n",
       "            <td>How many posts have the keyword &quot;data&quot; in their tags?</td>\n",
       "            <td><br>select count(*) as count<br>from posts<br>where tags= &#x27;data&#x27;<br></td>\n",
       "        </tr>\n",
       "        <tr>\n",
       "            <td>task2</td>\n",
       "            <td>How many posts have the keyword &quot;data&quot; in their tags?</td>\n",
       "            <td><br>select count(*) as count<br>from posts<br>where tags like &#x27;%data%&#x27;<br></td>\n",
       "        </tr>\n",
       "        <tr>\n",
       "            <td>task2</td>\n",
       "            <td>What are the 5 most frequent commentcount for posts?</td>\n",
       "            <td><br>select count(*) as count, commentcount<br>from posts<br>group by commentcount<br>order by count desc<br></td>\n",
       "        </tr>\n",
       "        <tr>\n",
       "            <td>task2</td>\n",
       "            <td>How many posts have an accepted answer?</td>\n",
       "            <td><br>select count(*) as count<br>from posts<br>where AcceptedAnswerId&gt;=1<br></td>\n",
       "        </tr>\n",
       "        <tr>\n",
       "            <td>task2</td>\n",
       "            <td>What is the average reputation of table users?</td>\n",
       "            <td><br>select avg(Reputation)<br>from users<br></td>\n",
       "        </tr>\n",
       "        <tr>\n",
       "            <td>task2</td>\n",
       "            <td>What is the average reputation of table users?</td>\n",
       "            <td><br>select avg(Reputation) as Reputation<br>from users<br></td>\n",
       "        </tr>\n",
       "        <tr>\n",
       "            <td>task2</td>\n",
       "            <td>What are the min and max reputation of users?</td>\n",
       "            <td><br>select min(Reputation) as MinReputation, max(Reputation) as MaxReputation<br>from users<br></td>\n",
       "        </tr>\n",
       "        <tr>\n",
       "            <td>task2</td>\n",
       "            <td>What is the length of the body of 5 most viewed posts?</td>\n",
       "            <td><br>select LEN_BODY<br>from posts<br>order by ViewCount Desc<br>limit 5<br></td>\n",
       "        </tr>\n",
       "        <tr>\n",
       "            <td>task2</td>\n",
       "            <td>What is the length of the body of 5 most viewed posts?</td>\n",
       "            <td><br>select LEN_BODY<br>from posts<br>order by ViewCount Desc<br>limit 5<br></td>\n",
       "        </tr>\n",
       "        <tr>\n",
       "            <td>task2</td>\n",
       "            <td>What is the length of the body of 5 most viewed posts?</td>\n",
       "            <td><br>select LEN_BODY<br>from posts<br>order by ViewCount desc<br>limit 5<br></td>\n",
       "        </tr>\n",
       "        <tr>\n",
       "            <td>task2</td>\n",
       "            <td>How many different locations are there in the users table?</td>\n",
       "            <td><br>select Count(Distinct(Location)) as count<br>from users<br><br></td>\n",
       "        </tr>\n",
       "        <tr>\n",
       "            <td>task2</td>\n",
       "            <td>What are the top 5 locations of users?</td>\n",
       "            <td><br>select count(*) as count, Location<br>from users<br>group by Location<br>order by count desc<br>limit 5<br></td>\n",
       "        </tr>\n",
       "        <tr>\n",
       "            <td>task2</td>\n",
       "            <td>What are the top 5 locations of users?</td>\n",
       "            <td><br>select count(*) as count, Location<br>from users<br>group by Location<br>order by count desc<br>where Location is not &#x27;None&#x27;<br>limit 5<br></td>\n",
       "        </tr>\n",
       "        <tr>\n",
       "            <td>task2</td>\n",
       "            <td>What are the top 5 locations of users?</td>\n",
       "            <td><br>select count(*) as count, Location<br>from users<br>group by Location<br>order by count desc<br>where Location is not null &#x27;None&#x27;<br>limit 5<br></td>\n",
       "        </tr>\n",
       "        <tr>\n",
       "            <td>task2</td>\n",
       "            <td>What are the top 5 locations of users?</td>\n",
       "            <td><br>select count(*) as count, Location<br>from users<br>group by Location<br>order by count desc<br>where Location is not null<br>limit 5<br></td>\n",
       "        </tr>\n",
       "        <tr>\n",
       "            <td>task2</td>\n",
       "            <td>What are the top 5 locations of users?</td>\n",
       "            <td><br>select count(*) as count, Location<br>from users<br>group by Location<br>order by count desc<br>where Location != &#x27; &#x27;<br>limit 5<br></td>\n",
       "        </tr>\n",
       "        <tr>\n",
       "            <td>task2</td>\n",
       "            <td>What are the top 5 locations of users?</td>\n",
       "            <td><br>select count(*) as count, Location<br>from users<br>group by Location<br>order by count desc<br>where Location != &#x27;&#x27;<br>limit 5<br></td>\n",
       "        </tr>\n",
       "        <tr>\n",
       "            <td>task2</td>\n",
       "            <td>What are the top 5 locations of users?</td>\n",
       "            <td><br>select count(*) as count, Location<br>from users<br>where Location != &#x27;&#x27;<br>group by Location<br>order by count desc<br>limit 5<br></td>\n",
       "        </tr>\n",
       "        <tr>\n",
       "            <td>task2</td>\n",
       "            <td>What are the top 5 locations of users?</td>\n",
       "            <td><br>select count(*) as count, Location<br>from users<br>where Location is not null<br>group by Location<br>order by count desc<br>limit 5<br></td>\n",
       "        </tr>\n",
       "        <tr>\n",
       "            <td>task2</td>\n",
       "            <td>Rank the days of the week from highest to lowest in terms of the volume of ViewCount as a percentage.</td>\n",
       "            <td><br>select case cast(strftime(&#x27;%w&#x27;,CreationDate) as integer)<br>when 0 then &#x27;Sunday&#x27;<br>When 1 then &#x27;Monday&#x27;<br>When 2 then &#x27;Tuesday&#x27;<br>When 3 then &#x27;Wednesday&#x27;<br>When 4 then &#x27;Thursday&#x27;<br>When 5 then &#x27;Friday&#x27;<br>else &#x27;Saturday&#x27;<br>end as weekday,<br><br>sum(ViewCount*100.0)/(Select sum(ViewCount) from posts) as percentage<br>from posts<br>groub by weekday<br></td>\n",
       "        </tr>\n",
       "        <tr>\n",
       "            <td>task2</td>\n",
       "            <td>Rank the days of the week from highest to lowest in terms of the volume of ViewCount as a percentage.</td>\n",
       "            <td><br>select case cast(strftime(&#x27;%w&#x27;,CreationDate) as integer)<br>when 0 then &#x27;Sunday&#x27;<br>When 1 then &#x27;Monday&#x27;<br>When 2 then &#x27;Tuesday&#x27;<br>When 3 then &#x27;Wednesday&#x27;<br>When 4 then &#x27;Thursday&#x27;<br>When 5 then &#x27;Friday&#x27;<br>else &#x27;Saturday&#x27;<br>end as weekday,<br><br>sum(ViewCount*100.0)/(Select sum(ViewCount) from posts) as percentage<br>from posts<br>groub by weekday<br>order by percentage<br></td>\n",
       "        </tr>\n",
       "        <tr>\n",
       "            <td>task2</td>\n",
       "            <td>Rank the days of the week from highest to lowest in terms of the volume of ViewCount as a percentage.</td>\n",
       "            <td><br>select case cast(strftime(&#x27;%w&#x27;,CreationDate) as integer)<br>when 0 then &#x27;Sunday&#x27;<br>When 1 then &#x27;Monday&#x27;<br>When 2 then &#x27;Tuesday&#x27;<br>When 3 then &#x27;Wednesday&#x27;<br>When 4 then &#x27;Thursday&#x27;<br>When 5 then &#x27;Friday&#x27;<br>else &#x27;Saturday&#x27;<br>end as weekday,<br><br>sum(ViewCount*100.0)/(Select sum(ViewCount) from posts) as percentage<br>from posts<br>group by weekday<br>order by percentage<br></td>\n",
       "        </tr>\n",
       "        <tr>\n",
       "            <td>task2</td>\n",
       "            <td>Rank the days of the week from highest to lowest in terms of the volume of ViewCount as a percentage.</td>\n",
       "            <td><br>select case cast(strftime(&#x27;%w&#x27;,CreationDate) as integer)<br>when 0 then &#x27;Sunday&#x27;<br>When 1 then &#x27;Monday&#x27;<br>When 2 then &#x27;Tuesday&#x27;<br>When 3 then &#x27;Wednesday&#x27;<br>When 4 then &#x27;Thursday&#x27;<br>When 5 then &#x27;Friday&#x27;<br>else &#x27;Saturday&#x27;<br>end as weekday,<br><br>sum(ViewCount*100.0)/(Select sum(ViewCount) from posts) as percentage<br>from posts<br>group by weekday<br>order by percentage desc<br></td>\n",
       "        </tr>\n",
       "        <tr>\n",
       "            <td>task2</td>\n",
       "            <td>Rank the days of the week from highest to lowest in terms of the volume of ViewCount as a percentage.</td>\n",
       "            <td><br>select case cast(strftime(&#x27;%w&#x27;,CreationDate) as integer)<br>when 0 then &#x27;Sunday&#x27;<br>When 1 then &#x27;Monday&#x27;<br>When 2 then &#x27;Tuesday&#x27;<br>When 3 then &#x27;Wednesday&#x27;<br>When 4 then &#x27;Thursday&#x27;<br>When 5 then &#x27;Friday&#x27;<br>else &#x27;Saturday&#x27;<br>end as weekday,<br><br>round(sum(ViewCount*100.0)/(Select sum(ViewCount) from posts),2) as percentage<br>from posts<br>group by weekday<br>order by percentage desc<br></td>\n",
       "        </tr>\n",
       "        <tr>\n",
       "            <td>task2</td>\n",
       "            <td>How many posts have been created by a user that has a filled out the &quot;AboutMe&quot; section?</td>\n",
       "            <td><br>select count(*)<br>from posts<br>join users on posts.id=users.id<br>where AboutMe is not null<br></td>\n",
       "        </tr>\n",
       "        <tr>\n",
       "            <td>task2</td>\n",
       "            <td>How many posts have been created by a user that has a filled out the &quot;AboutMe&quot; section?</td>\n",
       "            <td><br>select posts.count(*)<br>from posts<br>join users on posts.id=users.id<br>where AboutMe is not null<br></td>\n",
       "        </tr>\n",
       "        <tr>\n",
       "            <td>task2</td>\n",
       "            <td>How many posts have been created by a user that has a filled out the &quot;AboutMe&quot; section?</td>\n",
       "            <td><br>select count(*)<br>from posts<br>join users on posts.id=users.id<br>where AboutMe is not null<br></td>\n",
       "        </tr>\n",
       "        <tr>\n",
       "            <td>task2</td>\n",
       "            <td>How many posts have been created by a user that has a filled out the &quot;AboutMe&quot; section?</td>\n",
       "            <td><br>select count(*)<br>from posts<br>join users on posts.OwnerUserId=users.id<br>where AboutMe is not null<br></td>\n",
       "        </tr>\n",
       "        <tr>\n",
       "            <td>task2</td>\n",
       "            <td>Considering only the users with an &quot;AboutMe,&quot; how many posts are there per user?</td>\n",
       "            <td><br>select count(posts.id), users.id<br>from posts<br>join users on posts.OwnerUserId=users.id<br>where AboutMe is not null<br></td>\n",
       "        </tr>\n",
       "        <tr>\n",
       "            <td>task2</td>\n",
       "            <td>Considering only the users with an &quot;AboutMe,&quot; how many posts are there per user?</td>\n",
       "            <td><br>select count(*)/(select cast(count(*) as float) from users where AboutMe is not null) as Userposts<br>from posts<br>join users on posts.OwnerUserId=users.id<br><br></td>\n",
       "        </tr>\n",
       "        <tr>\n",
       "            <td>task2</td>\n",
       "            <td>Considering only the users with an &quot;AboutMe,&quot; how many posts are there per user?</td>\n",
       "            <td><br>select count(*)/(select cast(count(*) as float) from users where AboutMe is not null) as Userposts<br>from posts<br>join users on posts.OwnerUserId=users.id<br>Where users.AboutMe is not null<br></td>\n",
       "        </tr>\n",
       "        <tr>\n",
       "            <td>task2</td>\n",
       "            <td>Not taking into account the commentcount field in the table posts, what are the Top 10 posts in terms of number of comments?</td>\n",
       "            <td><br>select count(*) as count, posts.id<br>from posts<br>join comments on posts.id=comments.PostId<br>group by posts.id<br>order by count<br></td>\n",
       "        </tr>\n",
       "        <tr>\n",
       "            <td>task2</td>\n",
       "            <td>Not taking into account the commentcount field in the table posts, what are the Top 10 posts in terms of number of comments?</td>\n",
       "            <td><br>select count(*) as count, posts.id<br>from posts<br>join comments on posts.id=comments.PostId<br>group by posts.id<br>order by count desc<br></td>\n",
       "        </tr>\n",
       "        <tr>\n",
       "            <td>task2</td>\n",
       "            <td>What are the Top 10 posts which have the highest cummulative (post score + comment score) score? </td>\n",
       "            <td><br>select sum(posts.Score+comments.Score)<br>from posts<br>join comments on posts.id=comments.PostId<br><br></td>\n",
       "        </tr>\n",
       "        <tr>\n",
       "            <td>task2</td>\n",
       "            <td>What are the Top 10 posts which have the highest cummulative (post score + comment score) score? </td>\n",
       "            <td><br>select posts.id,sum(posts.Score+comments.Score)<br>from posts<br>join comments on posts.id=comments.PostId<br>order by posts.id desc<br><br></td>\n",
       "        </tr>\n",
       "        <tr>\n",
       "            <td>task2</td>\n",
       "            <td>What are the Top 10 posts which have the highest cummulative (post score + comment score) score? </td>\n",
       "            <td><br>select count(*) as count,sum(posts.Score+comments.Score) as commulativescore, posts.id<br>from posts<br>join comments on posts.id=comments.PostId<br>group by posts.id<br>order by commulativescore desc<br><br></td>\n",
       "        </tr>\n",
       "        <tr>\n",
       "            <td>task2</td>\n",
       "            <td>What are the Top 10 posts which have the highest cummulative (post score + comment score) score? </td>\n",
       "            <td><br>select count(*) as count,sum(posts.Score+comments.Score) as commulativescore, posts.id<br>from posts<br>join comments on posts.id=comments.PostId<br>group by posts.id<br>order by commulativescore desc<br>limit 10<br><br></td>\n",
       "        </tr>\n",
       "        <tr>\n",
       "            <td>task2</td>\n",
       "            <td>What are the Top 10 posts which have the highest cummulative (post score + comment score) score? </td>\n",
       "            <td><br>select count(*) as count,posts.Score+sum(comments.Score) as commulativescore, posts.id<br>from posts<br>join comments on posts.id=comments.PostId<br>group by posts.id<br>order by commulativescore desc<br>limit 10<br><br></td>\n",
       "        </tr>\n",
       "        <tr>\n",
       "            <td>task2</td>\n",
       "            <td>What are the Top 10 posts which have the highest cummulative (post score + comment score) score? </td>\n",
       "            <td><br>select count(*) as count,(posts.Score + sum(comments.Score)) as commulativescore, posts.id<br>from posts<br>join comments on posts.id=comments.PostId<br>group by posts.id<br>order by commulativescore desc<br>limit 10<br><br></td>\n",
       "        </tr>\n",
       "        <tr>\n",
       "            <td>task2</td>\n",
       "            <td>Who are the top 10 users who comment the most? </td>\n",
       "            <td><br>select users.id, count(comments.Id) as count<br>from user<br>join comments on users.id=comments.UserId<br>group by users.id<br>order by count desc<br><br></td>\n",
       "        </tr>\n",
       "        <tr>\n",
       "            <td>task2</td>\n",
       "            <td>Who are the top 10 users who comment the most? </td>\n",
       "            <td><br>select users.id, count(comments.Id) as count<br>from users<br>join comments on users.id=comments.UserId<br>group by users.id<br>order by count desc<br><br></td>\n",
       "        </tr>\n",
       "        <tr>\n",
       "            <td>task2</td>\n",
       "            <td>Who are the top 10 users who comment the most? </td>\n",
       "            <td><br>select comments.UserId, count(*) as count<br>from users<br>join comments on users.id=comments.UserId<br>group by users.id<br>order by count desc<br><br></td>\n",
       "        </tr>\n",
       "        <tr>\n",
       "            <td>task2</td>\n",
       "            <td>Who are the top 10 users who comment the most? </td>\n",
       "            <td><br>select comments.UserId, count(*) as count<br>from users<br>join comments on users.id=comments.UserId<br>group by comments.UserId<br>order by count desc<br><br></td>\n",
       "        </tr>\n",
       "        <tr>\n",
       "            <td>task2</td>\n",
       "            <td>Who are the top 10 users who comment the most? </td>\n",
       "            <td><br>select comments.UserId, count(*) as count<br>from users<br>join comments on users.id=comments.UserId<br>group by comments.UserId<br>order by count desc<br><br></td>\n",
       "        </tr>\n",
       "        <tr>\n",
       "            <td>task2</td>\n",
       "            <td>Who are the top 10 users who comment the most? </td>\n",
       "            <td><br>select comments.UserId, count(*) as count, users.Reputation<br>from users<br>join comments on users.id=comments.UserId<br>group by comments.UserId, users.Reputation<br>order by count desc<br><br></td>\n",
       "        </tr>\n",
       "        <tr>\n",
       "            <td>task2</td>\n",
       "            <td>Who are the top 10 users who comment the most? </td>\n",
       "            <td><br>select comments.UserId, count(*) as count, users.Reputation<br>from users<br>join comments on users.id=comments.UserId<br>group by comments.UserId, users.Reputation<br>order by users.Reputation desc<br><br></td>\n",
       "        </tr>\n",
       "        <tr>\n",
       "            <td>task2</td>\n",
       "            <td>Who are the top 10 users who post the most?</td>\n",
       "            <td><br>select posts.OwnerUserId, count(*) as count, users.Reputation<br>from posts<br>join users on users.id=posts.OwnerUserId<br><br>group by posts.OwnerUserId, users.Reputation<br>order by users.Reputation desc<br><br></td>\n",
       "        </tr>\n",
       "        <tr>\n",
       "            <td>Task 1</td>\n",
       "            <td>row count comments</td>\n",
       "            <td><br>select count(id)<br>From comments<br></td>\n",
       "        </tr>\n",
       "        <tr>\n",
       "            <td>Task 1</td>\n",
       "            <td>row count comments</td>\n",
       "            <td><br>select count(id)<br>From comments<br></td>\n",
       "        </tr>\n",
       "        <tr>\n",
       "            <td>Task 1</td>\n",
       "            <td>count rows users</td>\n",
       "            <td><br>select count(id)<br>From users<br></td>\n",
       "        </tr>\n",
       "        <tr>\n",
       "            <td>Task 1</td>\n",
       "            <td>count rows posts</td>\n",
       "            <td><br>select count(id)<br>From posts<br></td>\n",
       "        </tr>\n",
       "        <tr>\n",
       "            <td>task3</td>\n",
       "            <td>How many posts have been created by a user that has a filled out the &quot;AboutMe&quot; section?</td>\n",
       "            <td><br>select count(*)<br>from posts<br>join users on posts.OwnerUserId=users.id<br>where AboutMe is not null<br></td>\n",
       "        </tr>\n",
       "        <tr>\n",
       "            <td>task3</td>\n",
       "            <td>Considering only the users with an &quot;AboutMe,&quot; how many posts are there per user?</td>\n",
       "            <td><br>select count(*)/(select cast(count(*) as float) from users where AboutMe is not null) as Userposts<br>from posts<br>join users on posts.OwnerUserId=users.id<br>Where users.AboutMe is not null<br></td>\n",
       "        </tr>\n",
       "        <tr>\n",
       "            <td>task3</td>\n",
       "            <td>Not taking into account the commentcount field in the table posts, what are the Top 10 posts in terms of number of comments?</td>\n",
       "            <td><br>select count(*) as count, posts.id<br>from posts<br>join comments on posts.id=comments.PostId<br>group by posts.id<br>order by count desc<br></td>\n",
       "        </tr>\n",
       "        <tr>\n",
       "            <td>task3</td>\n",
       "            <td>What are the Top 10 posts which have the highest cummulative (post score + comment score) score? </td>\n",
       "            <td><br>select count(*) as count,(posts.Score + sum(comments.Score)) as commulativescore, posts.id<br>from posts<br>join comments on posts.id=comments.PostId<br>group by posts.id<br>order by commulativescore desc<br>limit 10<br><br></td>\n",
       "        </tr>\n",
       "        <tr>\n",
       "            <td>task3</td>\n",
       "            <td>Who are the top 10 users who comment the most? </td>\n",
       "            <td><br>select comments.UserId, count(*) as count, users.Reputation<br>from users<br>join comments on users.id=comments.UserId<br>group by comments.UserId, users.Reputation<br>order by users.Reputation desc<br><br></td>\n",
       "        </tr>\n",
       "        <tr>\n",
       "            <td>task3</td>\n",
       "            <td>Who are the top 10 users who post the most?</td>\n",
       "            <td><br>select posts.OwnerUserId, count(*) as count, users.Reputation<br>from posts<br>join users on users.id=posts.OwnerUserId<br><br>group by posts.OwnerUserId, users.Reputation<br>order by users.Reputation desc<br><br></td>\n",
       "        </tr>\n",
       "    </tbody>\n",
       "</table>"
      ],
      "text/plain": [
       "[('Single Table Queries', 'Which 5 users have viewed the most times and what is the sum of those views per user?', '\\nSELECT Id, SUM(Views) AS TotalViews\\n    FROM Users\\n        GROUP BY Id\\n            ORDER BY TotalViews DESC\\n                LIMIT 5\\n                '),\n",
       " ('Task 1', 'Create table comments', '\\n    CREATE TABLE \"comments\" (\\n    \"Id\" INTEGER,\\n    \"PostId\" INTEGER,\\n    \"Score\" INTEGER,\\n    \"Text\" TEXT,\\n    \"CreationDate\" TEXT,\\n    \"UserId\" INTEGER\\n    )\\n    '),\n",
       " ('Task 2', 'Create table posts', '\\n    CREATE TABLE \"posts\" (\\n\"Id\" INTEGER NOT NULL PRIMARY KEY,\\n\"PostTypeId\" INTEGER,\\n\"AcceptedAnswerId\" INTEGER,\\n\"ParentId\" INTEGER,\\n\"CreationD ... (234 characters truncated) ... XT,\\n\"Tags\" TEXT,\\n\"AnswerCount\" INTEGER,\\n\"CommentCount\" INTEGER,\\n\"FavoriteCount\" INTEGER,\\n\"ClosedDate\" TEXT,\\n\"CommunityOwnedDate\" TEXT\\n);\\n    '),\n",
       " ('Task 2', 'Create table posts', '\\n    CREATE TABLE \"users\" (\\n\"Id\" INTEGER NOT NULL PRIMARY KEY,\\n\"Reputation\" INTEGER,\\n\"CreationDate\" TEXT,\\n\"DisplayName\" TEXT,\\n\"LastAccessDate\"  ... (27 characters truncated) ... \"Location\" TEXT,\\n\"AboutMe\" TEXT,\\n\"Views\" INTEGER,\\n\"UpVotes\" INTEGER,\\n\"DownVotes\" INTEGER,\\n\"ProfileImageUrl\" TEXT,\\n\"AccountId\" INTEGER\\n);\\n    '),\n",
       " ('Task 3', 'Create table users', '\\n    CREATE TABLE \"users\" (\\n\"Id\" INTEGER NOT NULL PRIMARY KEY,\\n\"Reputation\" INTEGER,\\n\"CreationDate\" TEXT,\\n\"DisplayName\" TEXT,\\n\"LastAccessDate\"  ... (27 characters truncated) ... \"Location\" TEXT,\\n\"AboutMe\" TEXT,\\n\"Views\" INTEGER,\\n\"UpVotes\" INTEGER,\\n\"DownVotes\" INTEGER,\\n\"ProfileImageUrl\" TEXT,\\n\"AccountId\" INTEGER\\n);\\n    '),\n",
       " ('Task 4', 'row count comments', '\\nselect count(id)\\nFrom comments\\n'),\n",
       " ('Task 4', 'row count comments', '\\nselect count(id)\\nFrom comments\\n'),\n",
       " ('Task 5', 'count rows users', '\\nselect count(id)\\nFrom users\\n'),\n",
       " ('Task 5', 'count rows posts', '\\nselect count(id)\\nFrom posts\\n'),\n",
       " ('Task 6', 'random rows posts', '\\nselect * from posts\\norder by random()\\nlimit 5\\n'),\n",
       " ('Task 7', 'random rows comments', '\\nselect * from comments\\norder by random()\\nlimit 5\\n'),\n",
       " ('Task 8', 'random rows users', '\\nselect * from users\\norder by random()\\nlimit 5\\n'),\n",
       " ('task2', 'How many posts have 0 comments?', '\\nselect count(comments)\\nfrom posts\\nwhere comments=0\\n'),\n",
       " ('task2', 'How many posts have 0 comments?', '\\nselect count(comments)\\nfrom posts\\nwhere comments=0\\n'),\n",
       " ('task2', 'How many posts have 0 comments?', '\\nselect count(*)\\nfrom posts\\nwhere comments=0\\n'),\n",
       " ('task2', 'How many posts have 0 comments?', '\\nselect count(*)\\nfrom posts\\nwhere comment=0\\n'),\n",
       " ('task2', 'How many posts have 0 comments?', '\\nselect count(*)\\nfrom posts\\nwhere commentcount=0\\n'),\n",
       " ('task2', 'How many posts have 0 comments?', '\\nselect count(*) as count\\nfrom posts\\nwhere commentcount=0\\n'),\n",
       " ('task2', 'How many posts have 0 comments?', '\\nselect count(*) as count\\nfrom posts\\nwhere commentcount=1\\n'),\n",
       " ('task2', 'How many posts have 1 comments?', '\\nselect count(*) as count\\nfrom posts\\nwhere commentcount=1\\n'),\n",
       " ('task2', 'How many posts have 2 comments or more?', '\\nselect count(*) as count\\nfrom posts\\nwhere commentcount>=2\\n'),\n",
       " ('task2', 'Find the 5 posts with the highest viewcount', '\\nselect * \\nfrom posts\\norder by viewcount desc\\nlimit 5\\n'),\n",
       " ('task2', 'Find the top 5 posts with the highest scores', '\\nselect * \\nfrom posts\\norder by scores desc\\nlimit 5\\n'),\n",
       " ('task2', 'Find the top 5 posts with the highest scores', '\\nselect * \\nfrom posts\\norder by score desc\\nlimit 5\\n'),\n",
       " ('task2', 'What are the 5 most frequent scores on posts?', '\\nselect count(*) as count, score \\nfrom posts\\ngroup by score \\norder by count desc\\nlimit 5\\n'),\n",
       " ('task2', 'How many posts have the keyword \"data\" in their tags?', \"\\nselect count(*) as count\\nfrom posts\\nwhere tag= 'data'\\n\"),\n",
       " ('task2', 'How many posts have the keyword \"data\" in their tags?', \"\\nselect count(*) as count\\nfrom posts\\nwhere tags= 'data'\\n\"),\n",
       " ('task2', 'How many posts have the keyword \"data\" in their tags?', \"\\nselect count(*) as count\\nfrom posts\\nwhere tags like '%data%'\\n\"),\n",
       " ('task2', 'What are the 5 most frequent commentcount for posts?', '\\nselect count(*) as count, commentcount\\nfrom posts\\ngroup by commentcount\\norder by count desc\\n'),\n",
       " ('task2', 'How many posts have an accepted answer?', '\\nselect count(*) as count\\nfrom posts\\nwhere AcceptedAnswerId>=1\\n'),\n",
       " ('task2', 'What is the average reputation of table users?', '\\nselect avg(Reputation)\\nfrom users\\n'),\n",
       " ('task2', 'What is the average reputation of table users?', '\\nselect avg(Reputation) as Reputation\\nfrom users\\n'),\n",
       " ('task2', 'What are the min and max reputation of users?', '\\nselect min(Reputation) as MinReputation, max(Reputation) as MaxReputation\\nfrom users\\n'),\n",
       " ('task2', 'What is the length of the body of 5 most viewed posts?', '\\nselect LEN_BODY\\nfrom posts\\norder by ViewCount Desc\\nlimit 5\\n'),\n",
       " ('task2', 'What is the length of the body of 5 most viewed posts?', '\\nselect LEN_BODY\\nfrom posts\\norder by ViewCount Desc\\nlimit 5\\n'),\n",
       " ('task2', 'What is the length of the body of 5 most viewed posts?', '\\nselect LEN_BODY\\nfrom posts\\norder by ViewCount desc\\nlimit 5\\n'),\n",
       " ('task2', 'How many different locations are there in the users table?', '\\nselect Count(Distinct(Location)) as count\\nfrom users\\n\\n'),\n",
       " ('task2', 'What are the top 5 locations of users?', '\\nselect count(*) as count, Location\\nfrom users\\ngroup by Location\\norder by count desc\\nlimit 5\\n'),\n",
       " ('task2', 'What are the top 5 locations of users?', \"\\nselect count(*) as count, Location\\nfrom users\\ngroup by Location\\norder by count desc\\nwhere Location is not 'None'\\nlimit 5\\n\"),\n",
       " ('task2', 'What are the top 5 locations of users?', \"\\nselect count(*) as count, Location\\nfrom users\\ngroup by Location\\norder by count desc\\nwhere Location is not null 'None'\\nlimit 5\\n\"),\n",
       " ('task2', 'What are the top 5 locations of users?', '\\nselect count(*) as count, Location\\nfrom users\\ngroup by Location\\norder by count desc\\nwhere Location is not null\\nlimit 5\\n'),\n",
       " ('task2', 'What are the top 5 locations of users?', \"\\nselect count(*) as count, Location\\nfrom users\\ngroup by Location\\norder by count desc\\nwhere Location != ' '\\nlimit 5\\n\"),\n",
       " ('task2', 'What are the top 5 locations of users?', \"\\nselect count(*) as count, Location\\nfrom users\\ngroup by Location\\norder by count desc\\nwhere Location != ''\\nlimit 5\\n\"),\n",
       " ('task2', 'What are the top 5 locations of users?', \"\\nselect count(*) as count, Location\\nfrom users\\nwhere Location != ''\\ngroup by Location\\norder by count desc\\nlimit 5\\n\"),\n",
       " ('task2', 'What are the top 5 locations of users?', '\\nselect count(*) as count, Location\\nfrom users\\nwhere Location is not null\\ngroup by Location\\norder by count desc\\nlimit 5\\n'),\n",
       " ('task2', 'Rank the days of the week from highest to lowest in terms of the volume of ViewCount as a percentage.', \"\\nselect case cast(strftime('%w',CreationDate) as integer)\\nwhen 0 then 'Sunday'\\nWhen 1 then 'Monday'\\nWhen 2 then 'Tuesday'\\nWhen 3 then 'Wednesday ... (37 characters truncated) ... n 'Friday'\\nelse 'Saturday'\\nend as weekday,\\n\\nsum(ViewCount*100.0)/(Select sum(ViewCount) from posts) as percentage\\nfrom posts\\ngroub by weekday\\n\"),\n",
       " ('task2', 'Rank the days of the week from highest to lowest in terms of the volume of ViewCount as a percentage.', \"\\nselect case cast(strftime('%w',CreationDate) as integer)\\nwhen 0 then 'Sunday'\\nWhen 1 then 'Monday'\\nWhen 2 then 'Tuesday'\\nWhen 3 then 'Wednesday ... (58 characters truncated) ... urday'\\nend as weekday,\\n\\nsum(ViewCount*100.0)/(Select sum(ViewCount) from posts) as percentage\\nfrom posts\\ngroub by weekday\\norder by percentage\\n\"),\n",
       " ('task2', 'Rank the days of the week from highest to lowest in terms of the volume of ViewCount as a percentage.', \"\\nselect case cast(strftime('%w',CreationDate) as integer)\\nwhen 0 then 'Sunday'\\nWhen 1 then 'Monday'\\nWhen 2 then 'Tuesday'\\nWhen 3 then 'Wednesday ... (58 characters truncated) ... urday'\\nend as weekday,\\n\\nsum(ViewCount*100.0)/(Select sum(ViewCount) from posts) as percentage\\nfrom posts\\ngroup by weekday\\norder by percentage\\n\"),\n",
       " ('task2', 'Rank the days of the week from highest to lowest in terms of the volume of ViewCount as a percentage.', \"\\nselect case cast(strftime('%w',CreationDate) as integer)\\nwhen 0 then 'Sunday'\\nWhen 1 then 'Monday'\\nWhen 2 then 'Tuesday'\\nWhen 3 then 'Wednesday ... (63 characters truncated) ... '\\nend as weekday,\\n\\nsum(ViewCount*100.0)/(Select sum(ViewCount) from posts) as percentage\\nfrom posts\\ngroup by weekday\\norder by percentage desc\\n\"),\n",
       " ('task2', 'Rank the days of the week from highest to lowest in terms of the volume of ViewCount as a percentage.', \"\\nselect case cast(strftime('%w',CreationDate) as integer)\\nwhen 0 then 'Sunday'\\nWhen 1 then 'Monday'\\nWhen 2 then 'Tuesday'\\nWhen 3 then 'Wednesday ... (72 characters truncated) ...  weekday,\\n\\nround(sum(ViewCount*100.0)/(Select sum(ViewCount) from posts),2) as percentage\\nfrom posts\\ngroup by weekday\\norder by percentage desc\\n\"),\n",
       " ('task2', 'How many posts have been created by a user that has a filled out the \"AboutMe\" section?', '\\nselect count(*)\\nfrom posts\\njoin users on posts.id=users.id\\nwhere AboutMe is not null\\n'),\n",
       " ('task2', 'How many posts have been created by a user that has a filled out the \"AboutMe\" section?', '\\nselect posts.count(*)\\nfrom posts\\njoin users on posts.id=users.id\\nwhere AboutMe is not null\\n'),\n",
       " ('task2', 'How many posts have been created by a user that has a filled out the \"AboutMe\" section?', '\\nselect count(*)\\nfrom posts\\njoin users on posts.id=users.id\\nwhere AboutMe is not null\\n'),\n",
       " ('task2', 'How many posts have been created by a user that has a filled out the \"AboutMe\" section?', '\\nselect count(*)\\nfrom posts\\njoin users on posts.OwnerUserId=users.id\\nwhere AboutMe is not null\\n'),\n",
       " ('task2', 'Considering only the users with an \"AboutMe,\" how many posts are there per user?', '\\nselect count(posts.id), users.id\\nfrom posts\\njoin users on posts.OwnerUserId=users.id\\nwhere AboutMe is not null\\n'),\n",
       " ('task2', 'Considering only the users with an \"AboutMe,\" how many posts are there per user?', '\\nselect count(*)/(select cast(count(*) as float) from users where AboutMe is not null) as Userposts\\nfrom posts\\njoin users on posts.OwnerUserId=users.id\\n\\n'),\n",
       " ('task2', 'Considering only the users with an \"AboutMe,\" how many posts are there per user?', '\\nselect count(*)/(select cast(count(*) as float) from users where AboutMe is not null) as Userposts\\nfrom posts\\njoin users on posts.OwnerUserId=users.id\\nWhere users.AboutMe is not null\\n'),\n",
       " ('task2', 'Not taking into account the commentcount field in the table posts, what are the Top 10 posts in terms of number of comments?', '\\nselect count(*) as count, posts.id\\nfrom posts\\njoin comments on posts.id=comments.PostId\\ngroup by posts.id\\norder by count\\n'),\n",
       " ('task2', 'Not taking into account the commentcount field in the table posts, what are the Top 10 posts in terms of number of comments?', '\\nselect count(*) as count, posts.id\\nfrom posts\\njoin comments on posts.id=comments.PostId\\ngroup by posts.id\\norder by count desc\\n'),\n",
       " ('task2', 'What are the Top 10 posts which have the highest cummulative (post score + comment score) score? ', '\\nselect sum(posts.Score+comments.Score)\\nfrom posts\\njoin comments on posts.id=comments.PostId\\n\\n'),\n",
       " ('task2', 'What are the Top 10 posts which have the highest cummulative (post score + comment score) score? ', '\\nselect posts.id,sum(posts.Score+comments.Score)\\nfrom posts\\njoin comments on posts.id=comments.PostId\\norder by posts.id desc\\n\\n'),\n",
       " ('task2', 'What are the Top 10 posts which have the highest cummulative (post score + comment score) score? ', '\\nselect count(*) as count,sum(posts.Score+comments.Score) as commulativescore, posts.id\\nfrom posts\\njoin comments on posts.id=comments.PostId\\ngroup by posts.id\\norder by commulativescore desc\\n\\n'),\n",
       " ('task2', 'What are the Top 10 posts which have the highest cummulative (post score + comment score) score? ', '\\nselect count(*) as count,sum(posts.Score+comments.Score) as commulativescore, posts.id\\nfrom posts\\njoin comments on posts.id=comments.PostId\\ngroup by posts.id\\norder by commulativescore desc\\nlimit 10\\n\\n'),\n",
       " ('task2', 'What are the Top 10 posts which have the highest cummulative (post score + comment score) score? ', '\\nselect count(*) as count,posts.Score+sum(comments.Score) as commulativescore, posts.id\\nfrom posts\\njoin comments on posts.id=comments.PostId\\ngroup by posts.id\\norder by commulativescore desc\\nlimit 10\\n\\n'),\n",
       " ('task2', 'What are the Top 10 posts which have the highest cummulative (post score + comment score) score? ', '\\nselect count(*) as count,(posts.Score + sum(comments.Score)) as commulativescore, posts.id\\nfrom posts\\njoin comments on posts.id=comments.PostId\\ngroup by posts.id\\norder by commulativescore desc\\nlimit 10\\n\\n'),\n",
       " ('task2', 'Who are the top 10 users who comment the most? ', '\\nselect users.id, count(comments.Id) as count\\nfrom user\\njoin comments on users.id=comments.UserId\\ngroup by users.id\\norder by count desc\\n\\n'),\n",
       " ('task2', 'Who are the top 10 users who comment the most? ', '\\nselect users.id, count(comments.Id) as count\\nfrom users\\njoin comments on users.id=comments.UserId\\ngroup by users.id\\norder by count desc\\n\\n'),\n",
       " ('task2', 'Who are the top 10 users who comment the most? ', '\\nselect comments.UserId, count(*) as count\\nfrom users\\njoin comments on users.id=comments.UserId\\ngroup by users.id\\norder by count desc\\n\\n'),\n",
       " ('task2', 'Who are the top 10 users who comment the most? ', '\\nselect comments.UserId, count(*) as count\\nfrom users\\njoin comments on users.id=comments.UserId\\ngroup by comments.UserId\\norder by count desc\\n\\n'),\n",
       " ('task2', 'Who are the top 10 users who comment the most? ', '\\nselect comments.UserId, count(*) as count\\nfrom users\\njoin comments on users.id=comments.UserId\\ngroup by comments.UserId\\norder by count desc\\n\\n'),\n",
       " ('task2', 'Who are the top 10 users who comment the most? ', '\\nselect comments.UserId, count(*) as count, users.Reputation\\nfrom users\\njoin comments on users.id=comments.UserId\\ngroup by comments.UserId, users.Reputation\\norder by count desc\\n\\n'),\n",
       " ('task2', 'Who are the top 10 users who comment the most? ', '\\nselect comments.UserId, count(*) as count, users.Reputation\\nfrom users\\njoin comments on users.id=comments.UserId\\ngroup by comments.UserId, users.Reputation\\norder by users.Reputation desc\\n\\n'),\n",
       " ('task2', 'Who are the top 10 users who post the most?', '\\nselect posts.OwnerUserId, count(*) as count, users.Reputation\\nfrom posts\\njoin users on users.id=posts.OwnerUserId\\n\\ngroup by posts.OwnerUserId, users.Reputation\\norder by users.Reputation desc\\n\\n'),\n",
       " ('Task 1', 'row count comments', '\\nselect count(id)\\nFrom comments\\n'),\n",
       " ('Task 1', 'row count comments', '\\nselect count(id)\\nFrom comments\\n'),\n",
       " ('Task 1', 'count rows users', '\\nselect count(id)\\nFrom users\\n'),\n",
       " ('Task 1', 'count rows posts', '\\nselect count(id)\\nFrom posts\\n'),\n",
       " ('task3', 'How many posts have been created by a user that has a filled out the \"AboutMe\" section?', '\\nselect count(*)\\nfrom posts\\njoin users on posts.OwnerUserId=users.id\\nwhere AboutMe is not null\\n'),\n",
       " ('task3', 'Considering only the users with an \"AboutMe,\" how many posts are there per user?', '\\nselect count(*)/(select cast(count(*) as float) from users where AboutMe is not null) as Userposts\\nfrom posts\\njoin users on posts.OwnerUserId=users.id\\nWhere users.AboutMe is not null\\n'),\n",
       " ('task3', 'Not taking into account the commentcount field in the table posts, what are the Top 10 posts in terms of number of comments?', '\\nselect count(*) as count, posts.id\\nfrom posts\\njoin comments on posts.id=comments.PostId\\ngroup by posts.id\\norder by count desc\\n'),\n",
       " ('task3', 'What are the Top 10 posts which have the highest cummulative (post score + comment score) score? ', '\\nselect count(*) as count,(posts.Score + sum(comments.Score)) as commulativescore, posts.id\\nfrom posts\\njoin comments on posts.id=comments.PostId\\ngroup by posts.id\\norder by commulativescore desc\\nlimit 10\\n\\n'),\n",
       " ('task3', 'Who are the top 10 users who comment the most? ', '\\nselect comments.UserId, count(*) as count, users.Reputation\\nfrom users\\njoin comments on users.id=comments.UserId\\ngroup by comments.UserId, users.Reputation\\norder by users.Reputation desc\\n\\n'),\n",
       " ('task3', 'Who are the top 10 users who post the most?', '\\nselect posts.OwnerUserId, count(*) as count, users.Reputation\\nfrom posts\\njoin users on users.id=posts.OwnerUserId\\n\\ngroup by posts.OwnerUserId, users.Reputation\\norder by users.Reputation desc\\n\\n')]"
      ]
     },
     "execution_count": 189,
     "metadata": {},
     "output_type": "execute_result"
    }
   ],
   "source": [
    "%sql SELECT * FROM queries"
   ]
  },
  {
   "cell_type": "markdown",
   "metadata": {},
   "source": [
    "## Drop Duplicates\n",
    "\n",
    "You likely have some duplicates. Lets drop them. "
   ]
  },
  {
   "cell_type": "code",
   "execution_count": 191,
   "metadata": {},
   "outputs": [],
   "source": [
    "# Read the queries table into pandas\n",
    "sql = 'SELECT * FROM queries'\n",
    "queries = pd.read_sql(sql, con)\n",
    "\n",
    "# Drop duplicates\n",
    "queries.drop_duplicates(inplace = True) # drop duplicates"
   ]
  },
  {
   "cell_type": "markdown",
   "metadata": {},
   "source": [
    "## Case Issues"
   ]
  },
  {
   "cell_type": "markdown",
   "metadata": {},
   "source": [
    "Remember, SQL is case insensitive. Pandas IS case sensitive. Lets deal with this now by making all of the text uppercase. "
   ]
  },
  {
   "cell_type": "code",
   "execution_count": 192,
   "metadata": {},
   "outputs": [
    {
     "data": {
      "text/html": [
       "<div>\n",
       "<style scoped>\n",
       "    .dataframe tbody tr th:only-of-type {\n",
       "        vertical-align: middle;\n",
       "    }\n",
       "\n",
       "    .dataframe tbody tr th {\n",
       "        vertical-align: top;\n",
       "    }\n",
       "\n",
       "    .dataframe thead th {\n",
       "        text-align: right;\n",
       "    }\n",
       "</style>\n",
       "<table border=\"1\" class=\"dataframe\">\n",
       "  <thead>\n",
       "    <tr style=\"text-align: right;\">\n",
       "      <th></th>\n",
       "      <th>task</th>\n",
       "      <th>action</th>\n",
       "      <th>query</th>\n",
       "    </tr>\n",
       "  </thead>\n",
       "  <tbody>\n",
       "    <tr>\n",
       "      <th>0</th>\n",
       "      <td>SINGLE TABLE QUERIES</td>\n",
       "      <td>WHICH 5 USERS HAVE VIEWED THE MOST TIMES AND W...</td>\n",
       "      <td>\\nSELECT ID, SUM(VIEWS) AS TOTALVIEWS\\n    FRO...</td>\n",
       "    </tr>\n",
       "    <tr>\n",
       "      <th>1</th>\n",
       "      <td>TASK 1</td>\n",
       "      <td>CREATE TABLE COMMENTS</td>\n",
       "      <td>\\n    CREATE TABLE \"COMMENTS\" (\\n    \"ID\" INTE...</td>\n",
       "    </tr>\n",
       "    <tr>\n",
       "      <th>2</th>\n",
       "      <td>TASK 2</td>\n",
       "      <td>CREATE TABLE POSTS</td>\n",
       "      <td>\\n    CREATE TABLE \"POSTS\" (\\n\"ID\" INTEGER NOT...</td>\n",
       "    </tr>\n",
       "    <tr>\n",
       "      <th>3</th>\n",
       "      <td>TASK 2</td>\n",
       "      <td>CREATE TABLE POSTS</td>\n",
       "      <td>\\n    CREATE TABLE \"USERS\" (\\n\"ID\" INTEGER NOT...</td>\n",
       "    </tr>\n",
       "    <tr>\n",
       "      <th>4</th>\n",
       "      <td>TASK 3</td>\n",
       "      <td>CREATE TABLE USERS</td>\n",
       "      <td>\\n    CREATE TABLE \"USERS\" (\\n\"ID\" INTEGER NOT...</td>\n",
       "    </tr>\n",
       "    <tr>\n",
       "      <th>...</th>\n",
       "      <td>...</td>\n",
       "      <td>...</td>\n",
       "      <td>...</td>\n",
       "    </tr>\n",
       "    <tr>\n",
       "      <th>78</th>\n",
       "      <td>TASK3</td>\n",
       "      <td>CONSIDERING ONLY THE USERS WITH AN \"ABOUTME,\" ...</td>\n",
       "      <td>\\nSELECT COUNT(*)/(SELECT CAST(COUNT(*) AS FLO...</td>\n",
       "    </tr>\n",
       "    <tr>\n",
       "      <th>79</th>\n",
       "      <td>TASK3</td>\n",
       "      <td>NOT TAKING INTO ACCOUNT THE COMMENTCOUNT FIELD...</td>\n",
       "      <td>\\nSELECT COUNT(*) AS COUNT, POSTS.ID\\nFROM POS...</td>\n",
       "    </tr>\n",
       "    <tr>\n",
       "      <th>80</th>\n",
       "      <td>TASK3</td>\n",
       "      <td>WHAT ARE THE TOP 10 POSTS WHICH HAVE THE HIGHE...</td>\n",
       "      <td>\\nSELECT COUNT(*) AS COUNT,(POSTS.SCORE + SUM(...</td>\n",
       "    </tr>\n",
       "    <tr>\n",
       "      <th>81</th>\n",
       "      <td>TASK3</td>\n",
       "      <td>WHO ARE THE TOP 10 USERS WHO COMMENT THE MOST?</td>\n",
       "      <td>\\nSELECT COMMENTS.USERID, COUNT(*) AS COUNT, U...</td>\n",
       "    </tr>\n",
       "    <tr>\n",
       "      <th>82</th>\n",
       "      <td>TASK3</td>\n",
       "      <td>WHO ARE THE TOP 10 USERS WHO POST THE MOST?</td>\n",
       "      <td>\\nSELECT POSTS.OWNERUSERID, COUNT(*) AS COUNT,...</td>\n",
       "    </tr>\n",
       "  </tbody>\n",
       "</table>\n",
       "<p>77 rows × 3 columns</p>\n",
       "</div>"
      ],
      "text/plain": [
       "                    task                                             action  \\\n",
       "0   SINGLE TABLE QUERIES  WHICH 5 USERS HAVE VIEWED THE MOST TIMES AND W...   \n",
       "1                 TASK 1                              CREATE TABLE COMMENTS   \n",
       "2                 TASK 2                                 CREATE TABLE POSTS   \n",
       "3                 TASK 2                                 CREATE TABLE POSTS   \n",
       "4                 TASK 3                                 CREATE TABLE USERS   \n",
       "..                   ...                                                ...   \n",
       "78                 TASK3  CONSIDERING ONLY THE USERS WITH AN \"ABOUTME,\" ...   \n",
       "79                 TASK3  NOT TAKING INTO ACCOUNT THE COMMENTCOUNT FIELD...   \n",
       "80                 TASK3  WHAT ARE THE TOP 10 POSTS WHICH HAVE THE HIGHE...   \n",
       "81                 TASK3    WHO ARE THE TOP 10 USERS WHO COMMENT THE MOST?    \n",
       "82                 TASK3        WHO ARE THE TOP 10 USERS WHO POST THE MOST?   \n",
       "\n",
       "                                                query  \n",
       "0   \\nSELECT ID, SUM(VIEWS) AS TOTALVIEWS\\n    FRO...  \n",
       "1   \\n    CREATE TABLE \"COMMENTS\" (\\n    \"ID\" INTE...  \n",
       "2   \\n    CREATE TABLE \"POSTS\" (\\n\"ID\" INTEGER NOT...  \n",
       "3   \\n    CREATE TABLE \"USERS\" (\\n\"ID\" INTEGER NOT...  \n",
       "4   \\n    CREATE TABLE \"USERS\" (\\n\"ID\" INTEGER NOT...  \n",
       "..                                                ...  \n",
       "78  \\nSELECT COUNT(*)/(SELECT CAST(COUNT(*) AS FLO...  \n",
       "79  \\nSELECT COUNT(*) AS COUNT, POSTS.ID\\nFROM POS...  \n",
       "80  \\nSELECT COUNT(*) AS COUNT,(POSTS.SCORE + SUM(...  \n",
       "81  \\nSELECT COMMENTS.USERID, COUNT(*) AS COUNT, U...  \n",
       "82  \\nSELECT POSTS.OWNERUSERID, COUNT(*) AS COUNT,...  \n",
       "\n",
       "[77 rows x 3 columns]"
      ]
     },
     "execution_count": 192,
     "metadata": {},
     "output_type": "execute_result"
    }
   ],
   "source": [
    "for col in queries.columns:\n",
    "    queries[col] = queries[col].str.upper()\n",
    "    \n",
    "queries"
   ]
  },
  {
   "cell_type": "code",
   "execution_count": 193,
   "metadata": {},
   "outputs": [
    {
     "data": {
      "text/plain": [
       "77"
      ]
     },
     "execution_count": 193,
     "metadata": {},
     "output_type": "execute_result"
    }
   ],
   "source": [
    "# Write the now deduped uppercase dataframe back to sqlite and replace the table\n",
    "queries.to_sql('queries', con, if_exists='replace', index=False)"
   ]
  },
  {
   "cell_type": "markdown",
   "metadata": {},
   "source": [
    "## Use Case\n",
    "\n",
    "Now that we have this queries table, lets give you some ideas about how you would use it.\n",
    "\n",
    "Suppose you wanted to find all of the queries where you did a GROUP BY:"
   ]
  },
  {
   "cell_type": "code",
   "execution_count": 194,
   "metadata": {},
   "outputs": [
    {
     "name": "stdout",
     "output_type": "stream",
     "text": [
      " * sqlite:///chatdata.db\n",
      "Done.\n"
     ]
    },
    {
     "data": {
      "text/html": [
       "<table>\n",
       "    <thead>\n",
       "        <tr>\n",
       "            <th>query</th>\n",
       "        </tr>\n",
       "    </thead>\n",
       "    <tbody>\n",
       "        <tr>\n",
       "            <td><br>SELECT ID, SUM(VIEWS) AS TOTALVIEWS<br>    FROM USERS<br>        GROUP BY ID<br>            ORDER BY TOTALVIEWS DESC<br>                LIMIT 5<br>                </td>\n",
       "        </tr>\n",
       "        <tr>\n",
       "            <td><br>SELECT COUNT(*) AS COUNT, SCORE <br>FROM POSTS<br>GROUP BY SCORE <br>ORDER BY COUNT DESC<br>LIMIT 5<br></td>\n",
       "        </tr>\n",
       "        <tr>\n",
       "            <td><br>SELECT COUNT(*) AS COUNT, COMMENTCOUNT<br>FROM POSTS<br>GROUP BY COMMENTCOUNT<br>ORDER BY COUNT DESC<br></td>\n",
       "        </tr>\n",
       "        <tr>\n",
       "            <td><br>SELECT COUNT(*) AS COUNT, LOCATION<br>FROM USERS<br>GROUP BY LOCATION<br>ORDER BY COUNT DESC<br>LIMIT 5<br></td>\n",
       "        </tr>\n",
       "        <tr>\n",
       "            <td><br>SELECT COUNT(*) AS COUNT, LOCATION<br>FROM USERS<br>GROUP BY LOCATION<br>ORDER BY COUNT DESC<br>WHERE LOCATION IS NOT &#x27;NONE&#x27;<br>LIMIT 5<br></td>\n",
       "        </tr>\n",
       "        <tr>\n",
       "            <td><br>SELECT COUNT(*) AS COUNT, LOCATION<br>FROM USERS<br>GROUP BY LOCATION<br>ORDER BY COUNT DESC<br>WHERE LOCATION IS NOT NULL &#x27;NONE&#x27;<br>LIMIT 5<br></td>\n",
       "        </tr>\n",
       "        <tr>\n",
       "            <td><br>SELECT COUNT(*) AS COUNT, LOCATION<br>FROM USERS<br>GROUP BY LOCATION<br>ORDER BY COUNT DESC<br>WHERE LOCATION IS NOT NULL<br>LIMIT 5<br></td>\n",
       "        </tr>\n",
       "        <tr>\n",
       "            <td><br>SELECT COUNT(*) AS COUNT, LOCATION<br>FROM USERS<br>GROUP BY LOCATION<br>ORDER BY COUNT DESC<br>WHERE LOCATION != &#x27; &#x27;<br>LIMIT 5<br></td>\n",
       "        </tr>\n",
       "        <tr>\n",
       "            <td><br>SELECT COUNT(*) AS COUNT, LOCATION<br>FROM USERS<br>GROUP BY LOCATION<br>ORDER BY COUNT DESC<br>WHERE LOCATION != &#x27;&#x27;<br>LIMIT 5<br></td>\n",
       "        </tr>\n",
       "        <tr>\n",
       "            <td><br>SELECT COUNT(*) AS COUNT, LOCATION<br>FROM USERS<br>WHERE LOCATION != &#x27;&#x27;<br>GROUP BY LOCATION<br>ORDER BY COUNT DESC<br>LIMIT 5<br></td>\n",
       "        </tr>\n",
       "        <tr>\n",
       "            <td><br>SELECT COUNT(*) AS COUNT, LOCATION<br>FROM USERS<br>WHERE LOCATION IS NOT NULL<br>GROUP BY LOCATION<br>ORDER BY COUNT DESC<br>LIMIT 5<br></td>\n",
       "        </tr>\n",
       "        <tr>\n",
       "            <td><br>SELECT CASE CAST(STRFTIME(&#x27;%W&#x27;,CREATIONDATE) AS INTEGER)<br>WHEN 0 THEN &#x27;SUNDAY&#x27;<br>WHEN 1 THEN &#x27;MONDAY&#x27;<br>WHEN 2 THEN &#x27;TUESDAY&#x27;<br>WHEN 3 THEN &#x27;WEDNESDAY&#x27;<br>WHEN 4 THEN &#x27;THURSDAY&#x27;<br>WHEN 5 THEN &#x27;FRIDAY&#x27;<br>ELSE &#x27;SATURDAY&#x27;<br>END AS WEEKDAY,<br><br>SUM(VIEWCOUNT*100.0)/(SELECT SUM(VIEWCOUNT) FROM POSTS) AS PERCENTAGE<br>FROM POSTS<br>GROUP BY WEEKDAY<br>ORDER BY PERCENTAGE<br></td>\n",
       "        </tr>\n",
       "        <tr>\n",
       "            <td><br>SELECT CASE CAST(STRFTIME(&#x27;%W&#x27;,CREATIONDATE) AS INTEGER)<br>WHEN 0 THEN &#x27;SUNDAY&#x27;<br>WHEN 1 THEN &#x27;MONDAY&#x27;<br>WHEN 2 THEN &#x27;TUESDAY&#x27;<br>WHEN 3 THEN &#x27;WEDNESDAY&#x27;<br>WHEN 4 THEN &#x27;THURSDAY&#x27;<br>WHEN 5 THEN &#x27;FRIDAY&#x27;<br>ELSE &#x27;SATURDAY&#x27;<br>END AS WEEKDAY,<br><br>SUM(VIEWCOUNT*100.0)/(SELECT SUM(VIEWCOUNT) FROM POSTS) AS PERCENTAGE<br>FROM POSTS<br>GROUP BY WEEKDAY<br>ORDER BY PERCENTAGE DESC<br></td>\n",
       "        </tr>\n",
       "        <tr>\n",
       "            <td><br>SELECT CASE CAST(STRFTIME(&#x27;%W&#x27;,CREATIONDATE) AS INTEGER)<br>WHEN 0 THEN &#x27;SUNDAY&#x27;<br>WHEN 1 THEN &#x27;MONDAY&#x27;<br>WHEN 2 THEN &#x27;TUESDAY&#x27;<br>WHEN 3 THEN &#x27;WEDNESDAY&#x27;<br>WHEN 4 THEN &#x27;THURSDAY&#x27;<br>WHEN 5 THEN &#x27;FRIDAY&#x27;<br>ELSE &#x27;SATURDAY&#x27;<br>END AS WEEKDAY,<br><br>ROUND(SUM(VIEWCOUNT*100.0)/(SELECT SUM(VIEWCOUNT) FROM POSTS),2) AS PERCENTAGE<br>FROM POSTS<br>GROUP BY WEEKDAY<br>ORDER BY PERCENTAGE DESC<br></td>\n",
       "        </tr>\n",
       "        <tr>\n",
       "            <td><br>SELECT COUNT(*) AS COUNT, POSTS.ID<br>FROM POSTS<br>JOIN COMMENTS ON POSTS.ID=COMMENTS.POSTID<br>GROUP BY POSTS.ID<br>ORDER BY COUNT<br></td>\n",
       "        </tr>\n",
       "        <tr>\n",
       "            <td><br>SELECT COUNT(*) AS COUNT, POSTS.ID<br>FROM POSTS<br>JOIN COMMENTS ON POSTS.ID=COMMENTS.POSTID<br>GROUP BY POSTS.ID<br>ORDER BY COUNT DESC<br></td>\n",
       "        </tr>\n",
       "        <tr>\n",
       "            <td><br>SELECT COUNT(*) AS COUNT,SUM(POSTS.SCORE+COMMENTS.SCORE) AS COMMULATIVESCORE, POSTS.ID<br>FROM POSTS<br>JOIN COMMENTS ON POSTS.ID=COMMENTS.POSTID<br>GROUP BY POSTS.ID<br>ORDER BY COMMULATIVESCORE DESC<br><br></td>\n",
       "        </tr>\n",
       "        <tr>\n",
       "            <td><br>SELECT COUNT(*) AS COUNT,SUM(POSTS.SCORE+COMMENTS.SCORE) AS COMMULATIVESCORE, POSTS.ID<br>FROM POSTS<br>JOIN COMMENTS ON POSTS.ID=COMMENTS.POSTID<br>GROUP BY POSTS.ID<br>ORDER BY COMMULATIVESCORE DESC<br>LIMIT 10<br><br></td>\n",
       "        </tr>\n",
       "        <tr>\n",
       "            <td><br>SELECT COUNT(*) AS COUNT,POSTS.SCORE+SUM(COMMENTS.SCORE) AS COMMULATIVESCORE, POSTS.ID<br>FROM POSTS<br>JOIN COMMENTS ON POSTS.ID=COMMENTS.POSTID<br>GROUP BY POSTS.ID<br>ORDER BY COMMULATIVESCORE DESC<br>LIMIT 10<br><br></td>\n",
       "        </tr>\n",
       "        <tr>\n",
       "            <td><br>SELECT COUNT(*) AS COUNT,(POSTS.SCORE + SUM(COMMENTS.SCORE)) AS COMMULATIVESCORE, POSTS.ID<br>FROM POSTS<br>JOIN COMMENTS ON POSTS.ID=COMMENTS.POSTID<br>GROUP BY POSTS.ID<br>ORDER BY COMMULATIVESCORE DESC<br>LIMIT 10<br><br></td>\n",
       "        </tr>\n",
       "        <tr>\n",
       "            <td><br>SELECT USERS.ID, COUNT(COMMENTS.ID) AS COUNT<br>FROM USER<br>JOIN COMMENTS ON USERS.ID=COMMENTS.USERID<br>GROUP BY USERS.ID<br>ORDER BY COUNT DESC<br><br></td>\n",
       "        </tr>\n",
       "        <tr>\n",
       "            <td><br>SELECT USERS.ID, COUNT(COMMENTS.ID) AS COUNT<br>FROM USERS<br>JOIN COMMENTS ON USERS.ID=COMMENTS.USERID<br>GROUP BY USERS.ID<br>ORDER BY COUNT DESC<br><br></td>\n",
       "        </tr>\n",
       "        <tr>\n",
       "            <td><br>SELECT COMMENTS.USERID, COUNT(*) AS COUNT<br>FROM USERS<br>JOIN COMMENTS ON USERS.ID=COMMENTS.USERID<br>GROUP BY USERS.ID<br>ORDER BY COUNT DESC<br><br></td>\n",
       "        </tr>\n",
       "        <tr>\n",
       "            <td><br>SELECT COMMENTS.USERID, COUNT(*) AS COUNT<br>FROM USERS<br>JOIN COMMENTS ON USERS.ID=COMMENTS.USERID<br>GROUP BY COMMENTS.USERID<br>ORDER BY COUNT DESC<br><br></td>\n",
       "        </tr>\n",
       "        <tr>\n",
       "            <td><br>SELECT COMMENTS.USERID, COUNT(*) AS COUNT, USERS.REPUTATION<br>FROM USERS<br>JOIN COMMENTS ON USERS.ID=COMMENTS.USERID<br>GROUP BY COMMENTS.USERID, USERS.REPUTATION<br>ORDER BY COUNT DESC<br><br></td>\n",
       "        </tr>\n",
       "        <tr>\n",
       "            <td><br>SELECT COMMENTS.USERID, COUNT(*) AS COUNT, USERS.REPUTATION<br>FROM USERS<br>JOIN COMMENTS ON USERS.ID=COMMENTS.USERID<br>GROUP BY COMMENTS.USERID, USERS.REPUTATION<br>ORDER BY USERS.REPUTATION DESC<br><br></td>\n",
       "        </tr>\n",
       "        <tr>\n",
       "            <td><br>SELECT POSTS.OWNERUSERID, COUNT(*) AS COUNT, USERS.REPUTATION<br>FROM POSTS<br>JOIN USERS ON USERS.ID=POSTS.OWNERUSERID<br><br>GROUP BY POSTS.OWNERUSERID, USERS.REPUTATION<br>ORDER BY USERS.REPUTATION DESC<br><br></td>\n",
       "        </tr>\n",
       "        <tr>\n",
       "            <td><br>SELECT COUNT(*) AS COUNT, POSTS.ID<br>FROM POSTS<br>JOIN COMMENTS ON POSTS.ID=COMMENTS.POSTID<br>GROUP BY POSTS.ID<br>ORDER BY COUNT DESC<br></td>\n",
       "        </tr>\n",
       "        <tr>\n",
       "            <td><br>SELECT COUNT(*) AS COUNT,(POSTS.SCORE + SUM(COMMENTS.SCORE)) AS COMMULATIVESCORE, POSTS.ID<br>FROM POSTS<br>JOIN COMMENTS ON POSTS.ID=COMMENTS.POSTID<br>GROUP BY POSTS.ID<br>ORDER BY COMMULATIVESCORE DESC<br>LIMIT 10<br><br></td>\n",
       "        </tr>\n",
       "        <tr>\n",
       "            <td><br>SELECT COMMENTS.USERID, COUNT(*) AS COUNT, USERS.REPUTATION<br>FROM USERS<br>JOIN COMMENTS ON USERS.ID=COMMENTS.USERID<br>GROUP BY COMMENTS.USERID, USERS.REPUTATION<br>ORDER BY USERS.REPUTATION DESC<br><br></td>\n",
       "        </tr>\n",
       "        <tr>\n",
       "            <td><br>SELECT POSTS.OWNERUSERID, COUNT(*) AS COUNT, USERS.REPUTATION<br>FROM POSTS<br>JOIN USERS ON USERS.ID=POSTS.OWNERUSERID<br><br>GROUP BY POSTS.OWNERUSERID, USERS.REPUTATION<br>ORDER BY USERS.REPUTATION DESC<br><br></td>\n",
       "        </tr>\n",
       "    </tbody>\n",
       "</table>"
      ],
      "text/plain": [
       "[('\\nSELECT ID, SUM(VIEWS) AS TOTALVIEWS\\n    FROM USERS\\n        GROUP BY ID\\n            ORDER BY TOTALVIEWS DESC\\n                LIMIT 5\\n                ',),\n",
       " ('\\nSELECT COUNT(*) AS COUNT, SCORE \\nFROM POSTS\\nGROUP BY SCORE \\nORDER BY COUNT DESC\\nLIMIT 5\\n',),\n",
       " ('\\nSELECT COUNT(*) AS COUNT, COMMENTCOUNT\\nFROM POSTS\\nGROUP BY COMMENTCOUNT\\nORDER BY COUNT DESC\\n',),\n",
       " ('\\nSELECT COUNT(*) AS COUNT, LOCATION\\nFROM USERS\\nGROUP BY LOCATION\\nORDER BY COUNT DESC\\nLIMIT 5\\n',),\n",
       " (\"\\nSELECT COUNT(*) AS COUNT, LOCATION\\nFROM USERS\\nGROUP BY LOCATION\\nORDER BY COUNT DESC\\nWHERE LOCATION IS NOT 'NONE'\\nLIMIT 5\\n\",),\n",
       " (\"\\nSELECT COUNT(*) AS COUNT, LOCATION\\nFROM USERS\\nGROUP BY LOCATION\\nORDER BY COUNT DESC\\nWHERE LOCATION IS NOT NULL 'NONE'\\nLIMIT 5\\n\",),\n",
       " ('\\nSELECT COUNT(*) AS COUNT, LOCATION\\nFROM USERS\\nGROUP BY LOCATION\\nORDER BY COUNT DESC\\nWHERE LOCATION IS NOT NULL\\nLIMIT 5\\n',),\n",
       " (\"\\nSELECT COUNT(*) AS COUNT, LOCATION\\nFROM USERS\\nGROUP BY LOCATION\\nORDER BY COUNT DESC\\nWHERE LOCATION != ' '\\nLIMIT 5\\n\",),\n",
       " (\"\\nSELECT COUNT(*) AS COUNT, LOCATION\\nFROM USERS\\nGROUP BY LOCATION\\nORDER BY COUNT DESC\\nWHERE LOCATION != ''\\nLIMIT 5\\n\",),\n",
       " (\"\\nSELECT COUNT(*) AS COUNT, LOCATION\\nFROM USERS\\nWHERE LOCATION != ''\\nGROUP BY LOCATION\\nORDER BY COUNT DESC\\nLIMIT 5\\n\",),\n",
       " ('\\nSELECT COUNT(*) AS COUNT, LOCATION\\nFROM USERS\\nWHERE LOCATION IS NOT NULL\\nGROUP BY LOCATION\\nORDER BY COUNT DESC\\nLIMIT 5\\n',),\n",
       " (\"\\nSELECT CASE CAST(STRFTIME('%W',CREATIONDATE) AS INTEGER)\\nWHEN 0 THEN 'SUNDAY'\\nWHEN 1 THEN 'MONDAY'\\nWHEN 2 THEN 'TUESDAY'\\nWHEN 3 THEN 'WEDNESDAY ... (58 characters truncated) ... URDAY'\\nEND AS WEEKDAY,\\n\\nSUM(VIEWCOUNT*100.0)/(SELECT SUM(VIEWCOUNT) FROM POSTS) AS PERCENTAGE\\nFROM POSTS\\nGROUP BY WEEKDAY\\nORDER BY PERCENTAGE\\n\",),\n",
       " (\"\\nSELECT CASE CAST(STRFTIME('%W',CREATIONDATE) AS INTEGER)\\nWHEN 0 THEN 'SUNDAY'\\nWHEN 1 THEN 'MONDAY'\\nWHEN 2 THEN 'TUESDAY'\\nWHEN 3 THEN 'WEDNESDAY ... (63 characters truncated) ... '\\nEND AS WEEKDAY,\\n\\nSUM(VIEWCOUNT*100.0)/(SELECT SUM(VIEWCOUNT) FROM POSTS) AS PERCENTAGE\\nFROM POSTS\\nGROUP BY WEEKDAY\\nORDER BY PERCENTAGE DESC\\n\",),\n",
       " (\"\\nSELECT CASE CAST(STRFTIME('%W',CREATIONDATE) AS INTEGER)\\nWHEN 0 THEN 'SUNDAY'\\nWHEN 1 THEN 'MONDAY'\\nWHEN 2 THEN 'TUESDAY'\\nWHEN 3 THEN 'WEDNESDAY ... (72 characters truncated) ...  WEEKDAY,\\n\\nROUND(SUM(VIEWCOUNT*100.0)/(SELECT SUM(VIEWCOUNT) FROM POSTS),2) AS PERCENTAGE\\nFROM POSTS\\nGROUP BY WEEKDAY\\nORDER BY PERCENTAGE DESC\\n\",),\n",
       " ('\\nSELECT COUNT(*) AS COUNT, POSTS.ID\\nFROM POSTS\\nJOIN COMMENTS ON POSTS.ID=COMMENTS.POSTID\\nGROUP BY POSTS.ID\\nORDER BY COUNT\\n',),\n",
       " ('\\nSELECT COUNT(*) AS COUNT, POSTS.ID\\nFROM POSTS\\nJOIN COMMENTS ON POSTS.ID=COMMENTS.POSTID\\nGROUP BY POSTS.ID\\nORDER BY COUNT DESC\\n',),\n",
       " ('\\nSELECT COUNT(*) AS COUNT,SUM(POSTS.SCORE+COMMENTS.SCORE) AS COMMULATIVESCORE, POSTS.ID\\nFROM POSTS\\nJOIN COMMENTS ON POSTS.ID=COMMENTS.POSTID\\nGROUP BY POSTS.ID\\nORDER BY COMMULATIVESCORE DESC\\n\\n',),\n",
       " ('\\nSELECT COUNT(*) AS COUNT,SUM(POSTS.SCORE+COMMENTS.SCORE) AS COMMULATIVESCORE, POSTS.ID\\nFROM POSTS\\nJOIN COMMENTS ON POSTS.ID=COMMENTS.POSTID\\nGROUP BY POSTS.ID\\nORDER BY COMMULATIVESCORE DESC\\nLIMIT 10\\n\\n',),\n",
       " ('\\nSELECT COUNT(*) AS COUNT,POSTS.SCORE+SUM(COMMENTS.SCORE) AS COMMULATIVESCORE, POSTS.ID\\nFROM POSTS\\nJOIN COMMENTS ON POSTS.ID=COMMENTS.POSTID\\nGROUP BY POSTS.ID\\nORDER BY COMMULATIVESCORE DESC\\nLIMIT 10\\n\\n',),\n",
       " ('\\nSELECT COUNT(*) AS COUNT,(POSTS.SCORE + SUM(COMMENTS.SCORE)) AS COMMULATIVESCORE, POSTS.ID\\nFROM POSTS\\nJOIN COMMENTS ON POSTS.ID=COMMENTS.POSTID\\nGROUP BY POSTS.ID\\nORDER BY COMMULATIVESCORE DESC\\nLIMIT 10\\n\\n',),\n",
       " ('\\nSELECT USERS.ID, COUNT(COMMENTS.ID) AS COUNT\\nFROM USER\\nJOIN COMMENTS ON USERS.ID=COMMENTS.USERID\\nGROUP BY USERS.ID\\nORDER BY COUNT DESC\\n\\n',),\n",
       " ('\\nSELECT USERS.ID, COUNT(COMMENTS.ID) AS COUNT\\nFROM USERS\\nJOIN COMMENTS ON USERS.ID=COMMENTS.USERID\\nGROUP BY USERS.ID\\nORDER BY COUNT DESC\\n\\n',),\n",
       " ('\\nSELECT COMMENTS.USERID, COUNT(*) AS COUNT\\nFROM USERS\\nJOIN COMMENTS ON USERS.ID=COMMENTS.USERID\\nGROUP BY USERS.ID\\nORDER BY COUNT DESC\\n\\n',),\n",
       " ('\\nSELECT COMMENTS.USERID, COUNT(*) AS COUNT\\nFROM USERS\\nJOIN COMMENTS ON USERS.ID=COMMENTS.USERID\\nGROUP BY COMMENTS.USERID\\nORDER BY COUNT DESC\\n\\n',),\n",
       " ('\\nSELECT COMMENTS.USERID, COUNT(*) AS COUNT, USERS.REPUTATION\\nFROM USERS\\nJOIN COMMENTS ON USERS.ID=COMMENTS.USERID\\nGROUP BY COMMENTS.USERID, USERS.REPUTATION\\nORDER BY COUNT DESC\\n\\n',),\n",
       " ('\\nSELECT COMMENTS.USERID, COUNT(*) AS COUNT, USERS.REPUTATION\\nFROM USERS\\nJOIN COMMENTS ON USERS.ID=COMMENTS.USERID\\nGROUP BY COMMENTS.USERID, USERS.REPUTATION\\nORDER BY USERS.REPUTATION DESC\\n\\n',),\n",
       " ('\\nSELECT POSTS.OWNERUSERID, COUNT(*) AS COUNT, USERS.REPUTATION\\nFROM POSTS\\nJOIN USERS ON USERS.ID=POSTS.OWNERUSERID\\n\\nGROUP BY POSTS.OWNERUSERID, USERS.REPUTATION\\nORDER BY USERS.REPUTATION DESC\\n\\n',),\n",
       " ('\\nSELECT COUNT(*) AS COUNT, POSTS.ID\\nFROM POSTS\\nJOIN COMMENTS ON POSTS.ID=COMMENTS.POSTID\\nGROUP BY POSTS.ID\\nORDER BY COUNT DESC\\n',),\n",
       " ('\\nSELECT COUNT(*) AS COUNT,(POSTS.SCORE + SUM(COMMENTS.SCORE)) AS COMMULATIVESCORE, POSTS.ID\\nFROM POSTS\\nJOIN COMMENTS ON POSTS.ID=COMMENTS.POSTID\\nGROUP BY POSTS.ID\\nORDER BY COMMULATIVESCORE DESC\\nLIMIT 10\\n\\n',),\n",
       " ('\\nSELECT COMMENTS.USERID, COUNT(*) AS COUNT, USERS.REPUTATION\\nFROM USERS\\nJOIN COMMENTS ON USERS.ID=COMMENTS.USERID\\nGROUP BY COMMENTS.USERID, USERS.REPUTATION\\nORDER BY USERS.REPUTATION DESC\\n\\n',),\n",
       " ('\\nSELECT POSTS.OWNERUSERID, COUNT(*) AS COUNT, USERS.REPUTATION\\nFROM POSTS\\nJOIN USERS ON USERS.ID=POSTS.OWNERUSERID\\n\\nGROUP BY POSTS.OWNERUSERID, USERS.REPUTATION\\nORDER BY USERS.REPUTATION DESC\\n\\n',)]"
      ]
     },
     "execution_count": 194,
     "metadata": {},
     "output_type": "execute_result"
    }
   ],
   "source": [
    "%%sql\n",
    "SELECT query\n",
    "    FROM queries\n",
    "        WHERE query LIKE '%GROUP BY%'"
   ]
  },
  {
   "cell_type": "markdown",
   "metadata": {},
   "source": [
    "## Now Your Turn\n",
    "Find the queries that have 'DISTINCT' in them. You can do it with the %sql command or with Pandas and sql.\n",
    "\n",
    "<div style=\"background-color:lemonchiffon; border:1px solid; padding:5px; margin:5px; font-weight:bold\"><font color=\"crimson\">\n",
    "TODO: Complete the following code cell\n",
    "    </font></div>"
   ]
  },
  {
   "cell_type": "code",
   "execution_count": 196,
   "metadata": {},
   "outputs": [
    {
     "name": "stdout",
     "output_type": "stream",
     "text": [
      " * sqlite:///chatdata.db\n",
      "Done.\n"
     ]
    },
    {
     "data": {
      "text/html": [
       "<table>\n",
       "    <thead>\n",
       "        <tr>\n",
       "            <th>query</th>\n",
       "        </tr>\n",
       "    </thead>\n",
       "    <tbody>\n",
       "        <tr>\n",
       "            <td><br>SELECT COUNT(DISTINCT(LOCATION)) AS COUNT<br>FROM USERS<br><br></td>\n",
       "        </tr>\n",
       "    </tbody>\n",
       "</table>"
      ],
      "text/plain": [
       "[('\\nSELECT COUNT(DISTINCT(LOCATION)) AS COUNT\\nFROM USERS\\n\\n',)]"
      ]
     },
     "execution_count": 196,
     "metadata": {},
     "output_type": "execute_result"
    }
   ],
   "source": [
    "%%sql\n",
    "select query\n",
    "\n",
    "from queries\n",
    "where query like '%DISTINCT%'"
   ]
  },
  {
   "cell_type": "markdown",
   "metadata": {},
   "source": [
    "# Close SQLite\n",
    "\n",
    "It is good practise to close all relational databases as soon as you are finished updating them."
   ]
  },
  {
   "cell_type": "code",
   "execution_count": 197,
   "metadata": {},
   "outputs": [],
   "source": [
    "con.close()"
   ]
  },
  {
   "cell_type": "markdown",
   "metadata": {},
   "source": [
    "# All Done!\n",
    "\n",
    "Great job. You now have a good idea for how to use sql and pandas with sql. You can create your own databases from csv files and you can do extensive querying using sql. These are valuable skills that will take you a long ways in todays technological world."
   ]
  }
 ],
 "metadata": {
  "kernelspec": {
   "display_name": "Python 3 (ipykernel)",
   "language": "python",
   "name": "python3"
  },
  "language_info": {
   "codemirror_mode": {
    "name": "ipython",
    "version": 3
   },
   "file_extension": ".py",
   "mimetype": "text/x-python",
   "name": "python",
   "nbconvert_exporter": "python",
   "pygments_lexer": "ipython3",
   "version": "3.11.5"
  },
  "toc": {
   "base_numbering": 1,
   "nav_menu": {},
   "number_sections": true,
   "sideBar": true,
   "skip_h1_title": false,
   "title_cell": "Table of Contents",
   "title_sidebar": "Contents",
   "toc_cell": false,
   "toc_position": {
    "height": "calc(100% - 180px)",
    "left": "10px",
    "top": "150px",
    "width": "293.993px"
   },
   "toc_section_display": true,
   "toc_window_display": true
  }
 },
 "nbformat": 4,
 "nbformat_minor": 4
}
